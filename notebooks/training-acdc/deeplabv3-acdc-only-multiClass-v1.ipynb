{
 "cells": [
  {
   "cell_type": "code",
   "execution_count": 1,
   "id": "26ba47b3-d604-405b-a367-999a6bd0d117",
   "metadata": {},
   "outputs": [],
   "source": [
    "import os, cv2, time\n",
    "import numpy as np\n",
    "import pandas as pd\n",
    "import random, tqdm\n",
    "import seaborn as sns\n",
    "import matplotlib.pyplot as plt\n",
    "%matplotlib inline\n",
    "import warnings\n",
    "warnings.filterwarnings(\"ignore\")\n",
    "\n",
    "import torch\n",
    "import torch.nn as nn\n",
    "from torch.utils.data import DataLoader\n",
    "from torch.utils.data import Dataset\n",
    "import albumentations as album\n",
    "\n",
    "import segmentation_models_pytorch as smp\n",
    "from segmentation_models_pytorch import utils\n",
    "\n",
    "from torchvision import transforms\n",
    "\n",
    "from PIL import Image\n",
    "\n",
    "from sklearn.model_selection import train_test_split\n",
    "\n",
    "from tqdm.notebook import tqdm"
   ]
  },
  {
   "cell_type": "code",
   "execution_count": 2,
   "id": "6bb0a8ac-0c7f-4b46-bc07-2e768e772664",
   "metadata": {},
   "outputs": [],
   "source": [
    "#with torch.no_grad():\n",
    "#    torch.cuda.empty_cache()"
   ]
  },
  {
   "cell_type": "code",
   "execution_count": 3,
   "id": "e23ebd26-dc5b-4c50-a692-6d418327dab2",
   "metadata": {},
   "outputs": [],
   "source": [
    "def create_paths(dataset_dir):\n",
    "    rgb_files = []\n",
    "    mask_files = []\n",
    "    for root, dirs, files in os.walk(dataset_dir):\n",
    "        for name in files:\n",
    "            f = os.path.join(root, name)\n",
    "            if 'labelIds' in f:\n",
    "                mask_files.append(f)\n",
    "            elif 'rgb_anon' in f:\n",
    "                rgb_files.append(f)\n",
    "            else:\n",
    "                pass\n",
    "    return sorted(rgb_files), sorted(mask_files)"
   ]
  },
  {
   "cell_type": "code",
   "execution_count": 4,
   "id": "287abf8a-5f53-4d27-abb3-45312abedf3c",
   "metadata": {},
   "outputs": [],
   "source": [
    "class customDataset(Dataset):\n",
    "    \"\"\" Custom Dataset for multiclass semantic segmentation.\n",
    "\n",
    "    Args:\n",
    "        df (pd.DataFrame): DataFrame containing paths to images and masks.\n",
    "        class_list (list): List of class IDs to extract from segmentation mask.\n",
    "        preprocessing (callable, optional): Data preprocessing function.\n",
    "    \"\"\"\n",
    "    \n",
    "    def __init__(self, df, class_list=None, augmentation=None, preprocessing=None):\n",
    "        self.image_paths = df['rgb_file'].tolist()\n",
    "        self.mask_paths = df['mask_file'].tolist()\n",
    "\n",
    "        self.class_list = class_list\n",
    "        self.augmentation = augmentation\n",
    "        self.preprocessing = preprocessing\n",
    "\n",
    "        # Original Cityscapes IDs to be mapped to your 6 classes\n",
    "        # [7, 11, 21, 26, 23, 24] # ['road', 'building', 'vegetation', 'car', 'sky', 'person']\n",
    "        self.cityscapes_ids = [7, 11, 21, 26, 23]  # Target classes\n",
    "        # Mapping to new class indices [0, 1, 2, 3, 4, 5]\n",
    "        self.new_class_mapping = {7: 1, 11: 2, 21: 3, 26: 4, 23: 5}   \n",
    "        # Define a background class ID\n",
    "        #self.background_class_id = -1  # Or any other value not used by your classes\n",
    "\n",
    "    def __getitem__(self, i):\n",
    "        image = cv2.cvtColor(cv2.imread(self.image_paths[i]), cv2.COLOR_BGR2RGB)\n",
    "        mask = cv2.cvtColor(cv2.imread(self.mask_paths[i]), cv2.COLOR_BGR2GRAY)  # Read mask as grayscale\n",
    "\n",
    "        # Resize images and masks (640, 480)/(1920, 1080)\n",
    "        image = cv2.resize(image, (1920, 1056), interpolation=cv2.INTER_LINEAR)\n",
    "        mask = cv2.resize(mask, (1920, 1056), interpolation=cv2.INTER_NEAREST)\n",
    "\n",
    "        image = np.asarray(image).astype('float')\n",
    "\n",
    "        # apply augmentations\n",
    "        if self.augmentation:\n",
    "            sample = self.augmentation(image=image, mask=mask)\n",
    "            image, mask = sample['image'], sample['mask']\n",
    "        \n",
    "        if self.preprocessing:\n",
    "            image = self.preprocessing(image)\n",
    "            image = torch.as_tensor(image)\n",
    "        else:\n",
    "            # Normalize image to [0, 1]\n",
    "            image = torch.as_tensor(image) / 255.0\n",
    "        image = image.permute(2,0,1)\n",
    "\n",
    "        # Convert mask to tensor\n",
    "        #mask = torch.as_tensor(mask, dtype=torch.uint8)\n",
    "        \n",
    "        # Map original Cityscapes IDs to the new class indices\n",
    "        mask_mapped = np.zeros_like(mask, dtype=np.uint8)  # Initialize new mask\n",
    "        for original_id, new_id in self.new_class_mapping.items():\n",
    "            mask_mapped[mask == original_id] = new_id\n",
    "\n",
    "        # Convert mask to tensor with the mapped classes\n",
    "        mask_tensor = torch.as_tensor(mask_mapped, dtype=torch.long)\n",
    "\n",
    "        # -------------------\n",
    "        # Convert mask to tensor and remap class IDs\n",
    "        #mask = torch.as_tensor(mask, dtype=torch.uint8)\n",
    "        #mask_mapped = torch.full_like(mask, self.background_class_id, dtype=torch.long)  # Initialize new mask with background class ID\n",
    "        \n",
    "        #for original_id, new_id in self.new_class_mapping.items():\n",
    "        #    mask_mapped[mask == original_id] = new_id\n",
    "\n",
    "        return image.float(), mask_tensor\n",
    "\n",
    "    def __len__(self):\n",
    "        return len(self.image_paths)\n"
   ]
  },
  {
   "cell_type": "code",
   "execution_count": 5,
   "id": "4126ff70-e850-4ec3-a13c-5c9812db1981",
   "metadata": {},
   "outputs": [
    {
     "name": "stdout",
     "output_type": "stream",
     "text": [
      "acdc-shape = (506, 2) --- train-shape=(430, 2) --- val-shape=(76, 2)\n"
     ]
    }
   ],
   "source": [
    "# for ACDC-Night dataset\n",
    "dataset_acdc_dir = '/home/vhsillerico/Documents/datasets/acdc-night'\n",
    "imgs_acdc_rgb, imgs_acdc_mask = create_paths(dataset_acdc_dir)\n",
    "#print(f'LEN imgs_acdc_rgb: {len(imgs_acdc_rgb)} --- LEN imgs_acdc_mask: {len(imgs_acdc_mask)}')\n",
    "df_acdc = pd.DataFrame({'rgb_file': imgs_acdc_rgb, 'mask_file': imgs_acdc_mask})\n",
    "df_acdc.sort_values(by='rgb_file',inplace=True)\n",
    "df_acdc.reset_index(drop=True, inplace=True)\n",
    "df_acdc = df_acdc.sample(frac=1).reset_index(drop=True)\n",
    "df_acdc.head(5)\n",
    "\n",
    "# Split data 85% for trainig and 15% for validation\n",
    "df_acdc_train, df_acdc_val = train_test_split(df_acdc, test_size=0.15)\n",
    "\n",
    "df_acdc_train.reset_index(drop=True, inplace=True)\n",
    "df_acdc_val.reset_index(drop=True, inplace=True)\n",
    "\n",
    "print(f'acdc-shape = {df_acdc.shape} --- train-shape={df_acdc_train.shape} --- val-shape={df_acdc_val.shape}')"
   ]
  },
  {
   "cell_type": "code",
   "execution_count": 6,
   "id": "c480b83e-8bd6-460a-bf3f-095a807658b4",
   "metadata": {},
   "outputs": [],
   "source": [
    "selected_class_list = [7, 11, 21, 26, 23] # ['road', 'building', 'vegetation', 'car', 'sky', 'person']"
   ]
  },
  {
   "cell_type": "code",
   "execution_count": 7,
   "id": "4c01e1af-775e-4ed8-a335-eb6eadf2725d",
   "metadata": {},
   "outputs": [],
   "source": [
    "#activation = torch.nn.Softmax(dim=1)\n",
    "\n",
    "device = torch.device('cuda:1' if torch.cuda.is_available() else 'cpu')\n",
    "device\n",
    "\n",
    "BACKBONE = 'resnet34'\n",
    "#segmodel = smp.Unet(BACKBONE, classes=6, activation='softmax2d').to(device)\n",
    "\n",
    "#segmodel = smp.Unet(BACKBONE, classes=6, activation=None).to(device)\n",
    "\n",
    "preprocess_input = smp.encoders.get_preprocessing_fn(BACKBONE, pretrained='imagenet')"
   ]
  },
  {
   "cell_type": "code",
   "execution_count": 8,
   "id": "04309836",
   "metadata": {},
   "outputs": [],
   "source": [
    "# image dimensions: (480, 640) (H,W)\n",
    "global h_aux, w_aux\n",
    "h_aux = 1056\n",
    "w_aux = 1920\n",
    "h_crop_size = 1056\n",
    "w_crop_size = 1920\n",
    "def get_training_augmentation():\n",
    "    train_transform = [\n",
    "        album.RandomCrop(height=h_crop_size, width=w_crop_size, always_apply=True),\n",
    "        album.PadIfNeeded(min_height=h_aux, min_width=w_aux, always_apply=True, border_mode=0, value=(0, 0, 0)),\n",
    "        album.HorizontalFlip(p=0.75),\n",
    "    ]\n",
    "    return album.Compose(train_transform)\n",
    "\n",
    "\n",
    "def get_validation_augmentation():\n",
    "    # Add sufficient padding to ensure image is divisible by 32\n",
    "    test_transform = [\n",
    "        #album.PadIfNeeded(min_height=1536, min_width=1536, always_apply=True, border_mode=0, value=(0, 0, 0)),\n",
    "        album.PadIfNeeded(min_height=h_aux, min_width=w_aux, always_apply=True, border_mode=0, value=(0, 0, 0)),\n",
    "    ]\n",
    "    return album.Compose(test_transform)"
   ]
  },
  {
   "cell_type": "code",
   "execution_count": 9,
   "id": "692bcf86-8a00-4914-8b80-2fa24bf2e1fd",
   "metadata": {},
   "outputs": [
    {
     "name": "stdout",
     "output_type": "stream",
     "text": [
      "torch.Size([3, 1056, 1920]) torch.Size([1056, 1920])\n"
     ]
    }
   ],
   "source": [
    "# configure dataset for training\n",
    "train_data = customDataset(df_acdc_train, class_list=selected_class_list, preprocessing=preprocess_input)\n",
    "img_train, masks_train = train_data[1]\n",
    "print(img_train.shape, masks_train.shape)"
   ]
  },
  {
   "cell_type": "code",
   "execution_count": 10,
   "id": "27676556-2816-4c5f-b0f9-68fb8a3da127",
   "metadata": {},
   "outputs": [
    {
     "data": {
      "text/plain": [
       "array([0, 1, 2, 3, 4, 5])"
      ]
     },
     "execution_count": 10,
     "metadata": {},
     "output_type": "execute_result"
    }
   ],
   "source": [
    "np.unique(masks_train.detach().cpu().numpy())"
   ]
  },
  {
   "cell_type": "code",
   "execution_count": 11,
   "id": "033ceda9",
   "metadata": {},
   "outputs": [],
   "source": [
    "#def visualize(**images):\n",
    "#    \"\"\"\n",
    "#    Plot images in one row\n",
    "#    \"\"\"\n",
    "#    n_images = len(images)\n",
    "#    plt.figure(figsize=(20,8))\n",
    "#    for idx, (name, image) in enumerate(images.items()):\n",
    "#        plt.subplot(1, n_images, idx + 1)\n",
    "#        plt.xticks([]);\n",
    "#        plt.yticks([])\n",
    "#        # get title from the parameter names\n",
    "#        plt.title(name.replace('_',' ').title(), fontsize=20)\n",
    "#        plt.imshow(image)\n",
    "#    plt.show()"
   ]
  },
  {
   "cell_type": "code",
   "execution_count": 12,
   "id": "168e738f-52be-487c-b4d7-fa2234246d75",
   "metadata": {},
   "outputs": [
    {
     "name": "stdout",
     "output_type": "stream",
     "text": [
      "torch.Size([3, 1056, 1920]) torch.Size([1056, 1920])\n"
     ]
    }
   ],
   "source": [
    "# configure dataset for training\n",
    "val_data = customDataset(df_acdc_val, class_list=selected_class_list, preprocessing=preprocess_input)\n",
    "img_val, masks_val = val_data[0]\n",
    "print(img_val.shape, masks_val.shape)"
   ]
  },
  {
   "cell_type": "code",
   "execution_count": 13,
   "id": "422be873-1c35-4e87-9fda-2e664e40c582",
   "metadata": {},
   "outputs": [
    {
     "name": "stderr",
     "output_type": "stream",
     "text": [
      "Clipping input data to the valid range for imshow with RGB data ([0..1] for floats or [0..255] for integers). Got range [-2.117904..2.64].\n"
     ]
    },
    {
     "data": {
      "image/png": "[encoded data removed]",
      "text/plain": [
       "<Figure size 1200x500 with 2 Axes>"
      ]
     },
     "metadata": {},
     "output_type": "display_data"
    }
   ],
   "source": [
    "fig, ax = plt.subplots(1, 2, figsize=(12, 5))\n",
    "ax[0].imshow(img_train.permute(1, 2, 0))\n",
    "ax[1].imshow(masks_train) # ['road', 'building', 'vegetation', 'car', 'sky', 'person']\n",
    "plt.show()"
   ]
  },
  {
   "cell_type": "code",
   "execution_count": 14,
   "id": "d9f51439-3acc-4325-aab0-680d65fe7243",
   "metadata": {},
   "outputs": [],
   "source": [
    "train_data_loader = DataLoader(\n",
    "    train_data,\n",
    "    batch_size=4,\n",
    "    shuffle=True\n",
    ")\n",
    "val_data_loader = DataLoader(\n",
    "    val_data,\n",
    "    batch_size=2,\n",
    "    shuffle=False\n",
    ")"
   ]
  },
  {
   "cell_type": "code",
   "execution_count": 15,
   "id": "669293be-3600-45b6-8398-081ab46ae21b",
   "metadata": {},
   "outputs": [
    {
     "name": "stdout",
     "output_type": "stream",
     "text": [
      "torch.Size([4, 3, 1056, 1920]) torch.Size([4, 1056, 1920])\n",
      "tensor(-2.1179) tensor(2.6400)\n",
      "tensor(0) tensor(5)\n"
     ]
    }
   ],
   "source": [
    "for img, target in train_data_loader:\n",
    "    print(img.shape, target.shape)\n",
    "    print(img[0].min(), img[0].max())\n",
    "    print(target[0].min(), target[0].max())\n",
    "    break"
   ]
  },
  {
   "cell_type": "code",
   "execution_count": 16,
   "id": "a8deb93c-53e4-4700-bc1f-7eee3e3d401e",
   "metadata": {},
   "outputs": [
    {
     "data": {
      "application/vnd.jupyter.widget-view+json": {
       "model_id": "8c426e15cb8d4d80b250508c5967aff2",
       "version_major": 2,
       "version_minor": 0
      },
      "text/plain": [
       "Epoch 1/30 - Training:   0%|          | 0/108 [00:00<?, ?batch/s]"
      ]
     },
     "metadata": {},
     "output_type": "display_data"
    },
    {
     "data": {
      "application/vnd.jupyter.widget-view+json": {
       "model_id": "c78378010e2a468795b105bf22f0bf3b",
       "version_major": 2,
       "version_minor": 0
      },
      "text/plain": [
       "Epoch 1/30 - Validation:   0%|          | 0/38 [00:00<?, ?batch/s]"
      ]
     },
     "metadata": {},
     "output_type": "display_data"
    },
    {
     "name": "stdout",
     "output_type": "stream",
     "text": [
      "Epoch 1/30 - Mean Train IoU: 0.4387, Mean Train F1-score: 0.5651, Avg Train Loss: 0.8224, Mean Val IoU: 0.3398, Mean Val F1-score: 0.4475, Avg Val Loss: 1.0651\n",
      "Time: 102.95 seconds\n",
      "Model saved!\n"
     ]
    },
    {
     "data": {
      "application/vnd.jupyter.widget-view+json": {
       "model_id": "516f5c67bdc643b4a7eb9eb3e0b7f474",
       "version_major": 2,
       "version_minor": 0
      },
      "text/plain": [
       "Epoch 2/30 - Training:   0%|          | 0/108 [00:00<?, ?batch/s]"
      ]
     },
     "metadata": {},
     "output_type": "display_data"
    },
    {
     "data": {
      "application/vnd.jupyter.widget-view+json": {
       "model_id": "cd421ea60abb4566884eec3379ed2e6b",
       "version_major": 2,
       "version_minor": 0
      },
      "text/plain": [
       "Epoch 2/30 - Validation:   0%|          | 0/38 [00:00<?, ?batch/s]"
      ]
     },
     "metadata": {},
     "output_type": "display_data"
    },
    {
     "name": "stdout",
     "output_type": "stream",
     "text": [
      "Epoch 2/30 - Mean Train IoU: 0.5159, Mean Train F1-score: 0.6471, Avg Train Loss: 0.6556, Mean Val IoU: 0.4382, Mean Val F1-score: 0.5453, Avg Val Loss: 0.7591\n",
      "Time: 107.16 seconds\n",
      "Model saved!\n"
     ]
    },
    {
     "data": {
      "application/vnd.jupyter.widget-view+json": {
       "model_id": "491ee706bafc4d91b68b1ac21da21261",
       "version_major": 2,
       "version_minor": 0
      },
      "text/plain": [
       "Epoch 3/30 - Training:   0%|          | 0/108 [00:00<?, ?batch/s]"
      ]
     },
     "metadata": {},
     "output_type": "display_data"
    },
    {
     "data": {
      "application/vnd.jupyter.widget-view+json": {
       "model_id": "631c203fc0d644fe9b171d2cf17a92cc",
       "version_major": 2,
       "version_minor": 0
      },
      "text/plain": [
       "Epoch 3/30 - Validation:   0%|          | 0/38 [00:00<?, ?batch/s]"
      ]
     },
     "metadata": {},
     "output_type": "display_data"
    },
    {
     "name": "stdout",
     "output_type": "stream",
     "text": [
      "Epoch 3/30 - Mean Train IoU: 0.5413, Mean Train F1-score: 0.6738, Avg Train Loss: 0.6166, Mean Val IoU: 0.4647, Mean Val F1-score: 0.5873, Avg Val Loss: 0.7389\n",
      "Time: 108.10 seconds\n",
      "Model saved!\n"
     ]
    },
    {
     "data": {
      "application/vnd.jupyter.widget-view+json": {
       "model_id": "1dfc4bc05a6840b89f794342ec636679",
       "version_major": 2,
       "version_minor": 0
      },
      "text/plain": [
       "Epoch 4/30 - Training:   0%|          | 0/108 [00:00<?, ?batch/s]"
      ]
     },
     "metadata": {},
     "output_type": "display_data"
    },
    {
     "data": {
      "application/vnd.jupyter.widget-view+json": {
       "model_id": "408288b6dd78445e85bfc8a1cd61ae83",
       "version_major": 2,
       "version_minor": 0
      },
      "text/plain": [
       "Epoch 4/30 - Validation:   0%|          | 0/38 [00:00<?, ?batch/s]"
      ]
     },
     "metadata": {},
     "output_type": "display_data"
    },
    {
     "name": "stdout",
     "output_type": "stream",
     "text": [
      "Epoch 4/30 - Mean Train IoU: 0.5696, Mean Train F1-score: 0.6982, Avg Train Loss: 0.5665, Mean Val IoU: 0.4001, Mean Val F1-score: 0.5054, Avg Val Loss: 1.5898\n",
      "Time: 108.82 seconds\n"
     ]
    },
    {
     "data": {
      "application/vnd.jupyter.widget-view+json": {
       "model_id": "4fe17b0e18b641cc90a56dcdb9b3c242",
       "version_major": 2,
       "version_minor": 0
      },
      "text/plain": [
       "Epoch 5/30 - Training:   0%|          | 0/108 [00:00<?, ?batch/s]"
      ]
     },
     "metadata": {},
     "output_type": "display_data"
    },
    {
     "data": {
      "application/vnd.jupyter.widget-view+json": {
       "model_id": "85eeab420beb4be98dcf853eef31bc41",
       "version_major": 2,
       "version_minor": 0
      },
      "text/plain": [
       "Epoch 5/30 - Validation:   0%|          | 0/38 [00:00<?, ?batch/s]"
      ]
     },
     "metadata": {},
     "output_type": "display_data"
    },
    {
     "name": "stdout",
     "output_type": "stream",
     "text": [
      "Epoch 5/30 - Mean Train IoU: 0.5974, Mean Train F1-score: 0.7253, Avg Train Loss: 0.5321, Mean Val IoU: 0.5440, Mean Val F1-score: 0.6641, Avg Val Loss: 0.5624\n",
      "Time: 108.93 seconds\n",
      "Model saved!\n"
     ]
    },
    {
     "data": {
      "application/vnd.jupyter.widget-view+json": {
       "model_id": "4c1d32e750284ca1902da4c05fe5e961",
       "version_major": 2,
       "version_minor": 0
      },
      "text/plain": [
       "Epoch 6/30 - Training:   0%|          | 0/108 [00:00<?, ?batch/s]"
      ]
     },
     "metadata": {},
     "output_type": "display_data"
    },
    {
     "data": {
      "application/vnd.jupyter.widget-view+json": {
       "model_id": "31791f94f3b14571834a9791ab024c9c",
       "version_major": 2,
       "version_minor": 0
      },
      "text/plain": [
       "Epoch 6/30 - Validation:   0%|          | 0/38 [00:00<?, ?batch/s]"
      ]
     },
     "metadata": {},
     "output_type": "display_data"
    },
    {
     "name": "stdout",
     "output_type": "stream",
     "text": [
      "Epoch 6/30 - Mean Train IoU: 0.6134, Mean Train F1-score: 0.7391, Avg Train Loss: 0.5104, Mean Val IoU: 0.5717, Mean Val F1-score: 0.6884, Avg Val Loss: 0.5040\n",
      "Time: 100.16 seconds\n",
      "Model saved!\n"
     ]
    },
    {
     "data": {
      "application/vnd.jupyter.widget-view+json": {
       "model_id": "4880defeb6de447b848e19f5eda3d2e8",
       "version_major": 2,
       "version_minor": 0
      },
      "text/plain": [
       "Epoch 7/30 - Training:   0%|          | 0/108 [00:00<?, ?batch/s]"
      ]
     },
     "metadata": {},
     "output_type": "display_data"
    },
    {
     "data": {
      "application/vnd.jupyter.widget-view+json": {
       "model_id": "5abe53cbd8974f27b08c91ba6f9232fc",
       "version_major": 2,
       "version_minor": 0
      },
      "text/plain": [
       "Epoch 7/30 - Validation:   0%|          | 0/38 [00:00<?, ?batch/s]"
      ]
     },
     "metadata": {},
     "output_type": "display_data"
    },
    {
     "name": "stdout",
     "output_type": "stream",
     "text": [
      "Epoch 7/30 - Mean Train IoU: 0.6206, Mean Train F1-score: 0.7449, Avg Train Loss: 0.4885, Mean Val IoU: 0.5912, Mean Val F1-score: 0.7114, Avg Val Loss: 0.4981\n",
      "Time: 101.68 seconds\n",
      "Model saved!\n"
     ]
    },
    {
     "data": {
      "application/vnd.jupyter.widget-view+json": {
       "model_id": "0763abad5f714b029e66bb9226aa7430",
       "version_major": 2,
       "version_minor": 0
      },
      "text/plain": [
       "Epoch 8/30 - Training:   0%|          | 0/108 [00:00<?, ?batch/s]"
      ]
     },
     "metadata": {},
     "output_type": "display_data"
    },
    {
     "data": {
      "application/vnd.jupyter.widget-view+json": {
       "model_id": "6da53eb9eaa74656b8348d8a867ea51a",
       "version_major": 2,
       "version_minor": 0
      },
      "text/plain": [
       "Epoch 8/30 - Validation:   0%|          | 0/38 [00:00<?, ?batch/s]"
      ]
     },
     "metadata": {},
     "output_type": "display_data"
    },
    {
     "name": "stdout",
     "output_type": "stream",
     "text": [
      "Epoch 8/30 - Mean Train IoU: 0.6454, Mean Train F1-score: 0.7670, Avg Train Loss: 0.4572, Mean Val IoU: 0.5787, Mean Val F1-score: 0.6996, Avg Val Loss: 0.5450\n",
      "Time: 108.15 seconds\n"
     ]
    },
    {
     "data": {
      "application/vnd.jupyter.widget-view+json": {
       "model_id": "096d46a094e54cdab3fb32db6b3cab29",
       "version_major": 2,
       "version_minor": 0
      },
      "text/plain": [
       "Epoch 9/30 - Training:   0%|          | 0/108 [00:00<?, ?batch/s]"
      ]
     },
     "metadata": {},
     "output_type": "display_data"
    },
    {
     "data": {
      "application/vnd.jupyter.widget-view+json": {
       "model_id": "28ca797994474cf7a9cb3352d880a064",
       "version_major": 2,
       "version_minor": 0
      },
      "text/plain": [
       "Epoch 9/30 - Validation:   0%|          | 0/38 [00:00<?, ?batch/s]"
      ]
     },
     "metadata": {},
     "output_type": "display_data"
    },
    {
     "name": "stdout",
     "output_type": "stream",
     "text": [
      "Epoch 9/30 - Mean Train IoU: 0.6472, Mean Train F1-score: 0.7674, Avg Train Loss: 0.4460, Mean Val IoU: 0.6035, Mean Val F1-score: 0.7234, Avg Val Loss: 0.4750\n",
      "Time: 108.38 seconds\n",
      "Model saved!\n"
     ]
    },
    {
     "data": {
      "application/vnd.jupyter.widget-view+json": {
       "model_id": "68faaf836b45418daabc05b08063189e",
       "version_major": 2,
       "version_minor": 0
      },
      "text/plain": [
       "Epoch 10/30 - Training:   0%|          | 0/108 [00:00<?, ?batch/s]"
      ]
     },
     "metadata": {},
     "output_type": "display_data"
    },
    {
     "data": {
      "application/vnd.jupyter.widget-view+json": {
       "model_id": "762a8750f41c4f83be5b87bc11124093",
       "version_major": 2,
       "version_minor": 0
      },
      "text/plain": [
       "Epoch 10/30 - Validation:   0%|          | 0/38 [00:00<?, ?batch/s]"
      ]
     },
     "metadata": {},
     "output_type": "display_data"
    },
    {
     "name": "stdout",
     "output_type": "stream",
     "text": [
      "Epoch 10/30 - Mean Train IoU: 0.6586, Mean Train F1-score: 0.7774, Avg Train Loss: 0.4382, Mean Val IoU: 0.5949, Mean Val F1-score: 0.7129, Avg Val Loss: 0.4990\n",
      "Time: 108.37 seconds\n"
     ]
    },
    {
     "data": {
      "application/vnd.jupyter.widget-view+json": {
       "model_id": "6fb08f3e54f94c2e9e869b6cb48e0233",
       "version_major": 2,
       "version_minor": 0
      },
      "text/plain": [
       "Epoch 11/30 - Training:   0%|          | 0/108 [00:00<?, ?batch/s]"
      ]
     },
     "metadata": {},
     "output_type": "display_data"
    },
    {
     "data": {
      "application/vnd.jupyter.widget-view+json": {
       "model_id": "7a397eb3cdf342ae9509ecd3afffafe0",
       "version_major": 2,
       "version_minor": 0
      },
      "text/plain": [
       "Epoch 11/30 - Validation:   0%|          | 0/38 [00:00<?, ?batch/s]"
      ]
     },
     "metadata": {},
     "output_type": "display_data"
    },
    {
     "name": "stdout",
     "output_type": "stream",
     "text": [
      "Epoch 11/30 - Mean Train IoU: 0.6734, Mean Train F1-score: 0.7882, Avg Train Loss: 0.4094, Mean Val IoU: 0.5411, Mean Val F1-score: 0.6561, Avg Val Loss: 0.5569\n",
      "Time: 108.34 seconds\n"
     ]
    },
    {
     "data": {
      "application/vnd.jupyter.widget-view+json": {
       "model_id": "67ed0fb7dc954b0f8cb68851f9e5a257",
       "version_major": 2,
       "version_minor": 0
      },
      "text/plain": [
       "Epoch 12/30 - Training:   0%|          | 0/108 [00:00<?, ?batch/s]"
      ]
     },
     "metadata": {},
     "output_type": "display_data"
    },
    {
     "data": {
      "application/vnd.jupyter.widget-view+json": {
       "model_id": "227a3cee22e2479fb6b1d8f05578b1c6",
       "version_major": 2,
       "version_minor": 0
      },
      "text/plain": [
       "Epoch 12/30 - Validation:   0%|          | 0/38 [00:00<?, ?batch/s]"
      ]
     },
     "metadata": {},
     "output_type": "display_data"
    },
    {
     "name": "stdout",
     "output_type": "stream",
     "text": [
      "Epoch 12/30 - Mean Train IoU: 0.6881, Mean Train F1-score: 0.8000, Avg Train Loss: 0.3857, Mean Val IoU: 0.6124, Mean Val F1-score: 0.7301, Avg Val Loss: 0.4577\n",
      "Time: 234.53 seconds\n",
      "Model saved!\n"
     ]
    },
    {
     "data": {
      "application/vnd.jupyter.widget-view+json": {
       "model_id": "0e02b382b9d14c7b926e06128a68d32d",
       "version_major": 2,
       "version_minor": 0
      },
      "text/plain": [
       "Epoch 13/30 - Training:   0%|          | 0/108 [00:00<?, ?batch/s]"
      ]
     },
     "metadata": {},
     "output_type": "display_data"
    },
    {
     "data": {
      "application/vnd.jupyter.widget-view+json": {
       "model_id": "04857ce55533487bbb144643894013ea",
       "version_major": 2,
       "version_minor": 0
      },
      "text/plain": [
       "Epoch 13/30 - Validation:   0%|          | 0/38 [00:00<?, ?batch/s]"
      ]
     },
     "metadata": {},
     "output_type": "display_data"
    },
    {
     "name": "stdout",
     "output_type": "stream",
     "text": [
      "Epoch 13/30 - Mean Train IoU: 0.6984, Mean Train F1-score: 0.8092, Avg Train Loss: 0.3806, Mean Val IoU: 0.5612, Mean Val F1-score: 0.6838, Avg Val Loss: 0.5925\n",
      "Time: 156.72 seconds\n"
     ]
    },
    {
     "data": {
      "application/vnd.jupyter.widget-view+json": {
       "model_id": "84211c58daed491f8a45451486a9aa48",
       "version_major": 2,
       "version_minor": 0
      },
      "text/plain": [
       "Epoch 14/30 - Training:   0%|          | 0/108 [00:00<?, ?batch/s]"
      ]
     },
     "metadata": {},
     "output_type": "display_data"
    },
    {
     "data": {
      "application/vnd.jupyter.widget-view+json": {
       "model_id": "b33b636d03af4fd89edde7205d4462b1",
       "version_major": 2,
       "version_minor": 0
      },
      "text/plain": [
       "Epoch 14/30 - Validation:   0%|          | 0/38 [00:00<?, ?batch/s]"
      ]
     },
     "metadata": {},
     "output_type": "display_data"
    },
    {
     "name": "stdout",
     "output_type": "stream",
     "text": [
      "Epoch 14/30 - Mean Train IoU: 0.6947, Mean Train F1-score: 0.8065, Avg Train Loss: 0.3781, Mean Val IoU: 0.6006, Mean Val F1-score: 0.7194, Avg Val Loss: 0.5312\n",
      "Time: 104.52 seconds\n"
     ]
    },
    {
     "data": {
      "application/vnd.jupyter.widget-view+json": {
       "model_id": "67af22fd2b3c4f8da6ca6b53cfc8dfaf",
       "version_major": 2,
       "version_minor": 0
      },
      "text/plain": [
       "Epoch 15/30 - Training:   0%|          | 0/108 [00:00<?, ?batch/s]"
      ]
     },
     "metadata": {},
     "output_type": "display_data"
    },
    {
     "data": {
      "application/vnd.jupyter.widget-view+json": {
       "model_id": "97fd77241d0948828ac060dc9134b092",
       "version_major": 2,
       "version_minor": 0
      },
      "text/plain": [
       "Epoch 15/30 - Validation:   0%|          | 0/38 [00:00<?, ?batch/s]"
      ]
     },
     "metadata": {},
     "output_type": "display_data"
    },
    {
     "name": "stdout",
     "output_type": "stream",
     "text": [
      "Epoch 15/30 - Mean Train IoU: 0.7106, Mean Train F1-score: 0.8166, Avg Train Loss: 0.3457, Mean Val IoU: 0.5832, Mean Val F1-score: 0.6965, Avg Val Loss: 0.5184\n",
      "Time: 104.62 seconds\n"
     ]
    },
    {
     "data": {
      "application/vnd.jupyter.widget-view+json": {
       "model_id": "a653386aec054a848b3cc15049b03ce4",
       "version_major": 2,
       "version_minor": 0
      },
      "text/plain": [
       "Epoch 16/30 - Training:   0%|          | 0/108 [00:00<?, ?batch/s]"
      ]
     },
     "metadata": {},
     "output_type": "display_data"
    },
    {
     "data": {
      "application/vnd.jupyter.widget-view+json": {
       "model_id": "8a341685c4ca48ecb0965401d8422cda",
       "version_major": 2,
       "version_minor": 0
      },
      "text/plain": [
       "Epoch 16/30 - Validation:   0%|          | 0/38 [00:00<?, ?batch/s]"
      ]
     },
     "metadata": {},
     "output_type": "display_data"
    },
    {
     "name": "stdout",
     "output_type": "stream",
     "text": [
      "Epoch 16/30 - Mean Train IoU: 0.7282, Mean Train F1-score: 0.8320, Avg Train Loss: 0.3306, Mean Val IoU: 0.5948, Mean Val F1-score: 0.7101, Avg Val Loss: 0.4876\n",
      "Time: 108.54 seconds\n"
     ]
    },
    {
     "data": {
      "application/vnd.jupyter.widget-view+json": {
       "model_id": "3ab9d92bd4164b669d7f377ff7530f3b",
       "version_major": 2,
       "version_minor": 0
      },
      "text/plain": [
       "Epoch 17/30 - Training:   0%|          | 0/108 [00:00<?, ?batch/s]"
      ]
     },
     "metadata": {},
     "output_type": "display_data"
    },
    {
     "data": {
      "application/vnd.jupyter.widget-view+json": {
       "model_id": "ec5a6ea9223e43319764897ceb0a466e",
       "version_major": 2,
       "version_minor": 0
      },
      "text/plain": [
       "Epoch 17/30 - Validation:   0%|          | 0/38 [00:00<?, ?batch/s]"
      ]
     },
     "metadata": {},
     "output_type": "display_data"
    },
    {
     "name": "stdout",
     "output_type": "stream",
     "text": [
      "Epoch 17/30 - Mean Train IoU: 0.7399, Mean Train F1-score: 0.8398, Avg Train Loss: 0.3124, Mean Val IoU: 0.5617, Mean Val F1-score: 0.6829, Avg Val Loss: 0.6090\n",
      "Time: 111.48 seconds\n"
     ]
    },
    {
     "data": {
      "application/vnd.jupyter.widget-view+json": {
       "model_id": "af4fea355e0144399948f195da0e84ee",
       "version_major": 2,
       "version_minor": 0
      },
      "text/plain": [
       "Epoch 18/30 - Training:   0%|          | 0/108 [00:00<?, ?batch/s]"
      ]
     },
     "metadata": {},
     "output_type": "display_data"
    },
    {
     "data": {
      "application/vnd.jupyter.widget-view+json": {
       "model_id": "3e379caeb8e1444e8cfdd80c7ffa4afd",
       "version_major": 2,
       "version_minor": 0
      },
      "text/plain": [
       "Epoch 18/30 - Validation:   0%|          | 0/38 [00:00<?, ?batch/s]"
      ]
     },
     "metadata": {},
     "output_type": "display_data"
    },
    {
     "name": "stdout",
     "output_type": "stream",
     "text": [
      "Epoch 18/30 - Mean Train IoU: 0.7549, Mean Train F1-score: 0.8517, Avg Train Loss: 0.2927, Mean Val IoU: 0.6415, Mean Val F1-score: 0.7543, Avg Val Loss: 0.4295\n",
      "Time: 107.83 seconds\n",
      "Model saved!\n"
     ]
    },
    {
     "data": {
      "application/vnd.jupyter.widget-view+json": {
       "model_id": "71306a9ed3024f26ac4e31473c7c2639",
       "version_major": 2,
       "version_minor": 0
      },
      "text/plain": [
       "Epoch 19/30 - Training:   0%|          | 0/108 [00:00<?, ?batch/s]"
      ]
     },
     "metadata": {},
     "output_type": "display_data"
    },
    {
     "data": {
      "application/vnd.jupyter.widget-view+json": {
       "model_id": "9c064816bc0d4a799d664ba1bc1d1fa6",
       "version_major": 2,
       "version_minor": 0
      },
      "text/plain": [
       "Epoch 19/30 - Validation:   0%|          | 0/38 [00:00<?, ?batch/s]"
      ]
     },
     "metadata": {},
     "output_type": "display_data"
    },
    {
     "name": "stdout",
     "output_type": "stream",
     "text": [
      "Epoch 19/30 - Mean Train IoU: 0.7667, Mean Train F1-score: 0.8583, Avg Train Loss: 0.2710, Mean Val IoU: 0.6332, Mean Val F1-score: 0.7483, Avg Val Loss: 0.4640\n",
      "Time: 106.58 seconds\n"
     ]
    },
    {
     "data": {
      "application/vnd.jupyter.widget-view+json": {
       "model_id": "3a6e981740994d92b91613177d11f8c7",
       "version_major": 2,
       "version_minor": 0
      },
      "text/plain": [
       "Epoch 20/30 - Training:   0%|          | 0/108 [00:00<?, ?batch/s]"
      ]
     },
     "metadata": {},
     "output_type": "display_data"
    },
    {
     "data": {
      "application/vnd.jupyter.widget-view+json": {
       "model_id": "8a882151c5254c1e9c2e0ce92da33274",
       "version_major": 2,
       "version_minor": 0
      },
      "text/plain": [
       "Epoch 20/30 - Validation:   0%|          | 0/38 [00:00<?, ?batch/s]"
      ]
     },
     "metadata": {},
     "output_type": "display_data"
    },
    {
     "name": "stdout",
     "output_type": "stream",
     "text": [
      "Epoch 20/30 - Mean Train IoU: 0.7735, Mean Train F1-score: 0.8637, Avg Train Loss: 0.2626, Mean Val IoU: 0.6409, Mean Val F1-score: 0.7541, Avg Val Loss: 0.4677\n",
      "Time: 114.86 seconds\n"
     ]
    },
    {
     "data": {
      "application/vnd.jupyter.widget-view+json": {
       "model_id": "8744ef2083594160a5bf407ac1d89a71",
       "version_major": 2,
       "version_minor": 0
      },
      "text/plain": [
       "Epoch 21/30 - Training:   0%|          | 0/108 [00:00<?, ?batch/s]"
      ]
     },
     "metadata": {},
     "output_type": "display_data"
    },
    {
     "data": {
      "application/vnd.jupyter.widget-view+json": {
       "model_id": "278d87ed94ab4505a72d1488ae96a44f",
       "version_major": 2,
       "version_minor": 0
      },
      "text/plain": [
       "Epoch 21/30 - Validation:   0%|          | 0/38 [00:00<?, ?batch/s]"
      ]
     },
     "metadata": {},
     "output_type": "display_data"
    },
    {
     "name": "stdout",
     "output_type": "stream",
     "text": [
      "Epoch 21/30 - Mean Train IoU: 0.7770, Mean Train F1-score: 0.8657, Avg Train Loss: 0.2562, Mean Val IoU: 0.5691, Mean Val F1-score: 0.6889, Avg Val Loss: 0.6144\n",
      "Time: 110.86 seconds\n"
     ]
    },
    {
     "data": {
      "application/vnd.jupyter.widget-view+json": {
       "model_id": "85e7458a8b8b4aeaab4ad50b4dd5a735",
       "version_major": 2,
       "version_minor": 0
      },
      "text/plain": [
       "Epoch 22/30 - Training:   0%|          | 0/108 [00:00<?, ?batch/s]"
      ]
     },
     "metadata": {},
     "output_type": "display_data"
    },
    {
     "data": {
      "application/vnd.jupyter.widget-view+json": {
       "model_id": "58f7d00229014a6e8adae4ca69ce1ae5",
       "version_major": 2,
       "version_minor": 0
      },
      "text/plain": [
       "Epoch 22/30 - Validation:   0%|          | 0/38 [00:00<?, ?batch/s]"
      ]
     },
     "metadata": {},
     "output_type": "display_data"
    },
    {
     "name": "stdout",
     "output_type": "stream",
     "text": [
      "Epoch 22/30 - Mean Train IoU: 0.7880, Mean Train F1-score: 0.8745, Avg Train Loss: 0.2467, Mean Val IoU: 0.6264, Mean Val F1-score: 0.7419, Avg Val Loss: 0.4865\n",
      "Time: 108.69 seconds\n"
     ]
    },
    {
     "data": {
      "application/vnd.jupyter.widget-view+json": {
       "model_id": "e8e1dcc459da4561bba147e2077a7329",
       "version_major": 2,
       "version_minor": 0
      },
      "text/plain": [
       "Epoch 23/30 - Training:   0%|          | 0/108 [00:00<?, ?batch/s]"
      ]
     },
     "metadata": {},
     "output_type": "display_data"
    },
    {
     "data": {
      "application/vnd.jupyter.widget-view+json": {
       "model_id": "78e478139b8b4f3fb82ac46b5e6e4c1e",
       "version_major": 2,
       "version_minor": 0
      },
      "text/plain": [
       "Epoch 23/30 - Validation:   0%|          | 0/38 [00:00<?, ?batch/s]"
      ]
     },
     "metadata": {},
     "output_type": "display_data"
    },
    {
     "name": "stdout",
     "output_type": "stream",
     "text": [
      "Epoch 23/30 - Mean Train IoU: 0.8010, Mean Train F1-score: 0.8827, Avg Train Loss: 0.2224, Mean Val IoU: 0.6321, Mean Val F1-score: 0.7477, Avg Val Loss: 0.5178\n",
      "Time: 107.00 seconds\n"
     ]
    },
    {
     "data": {
      "application/vnd.jupyter.widget-view+json": {
       "model_id": "a1ea53c18ee54df68d8019e50645cd47",
       "version_major": 2,
       "version_minor": 0
      },
      "text/plain": [
       "Epoch 24/30 - Training:   0%|          | 0/108 [00:00<?, ?batch/s]"
      ]
     },
     "metadata": {},
     "output_type": "display_data"
    },
    {
     "data": {
      "application/vnd.jupyter.widget-view+json": {
       "model_id": "c99f92ed34f943c6b2448a47234299c8",
       "version_major": 2,
       "version_minor": 0
      },
      "text/plain": [
       "Epoch 24/30 - Validation:   0%|          | 0/38 [00:00<?, ?batch/s]"
      ]
     },
     "metadata": {},
     "output_type": "display_data"
    },
    {
     "name": "stdout",
     "output_type": "stream",
     "text": [
      "Epoch 24/30 - Mean Train IoU: 0.8133, Mean Train F1-score: 0.8915, Avg Train Loss: 0.2107, Mean Val IoU: 0.6394, Mean Val F1-score: 0.7531, Avg Val Loss: 0.4799\n",
      "Time: 109.03 seconds\n"
     ]
    },
    {
     "data": {
      "application/vnd.jupyter.widget-view+json": {
       "model_id": "3c4a8ae10d064d79bcb26b56ee0d04a5",
       "version_major": 2,
       "version_minor": 0
      },
      "text/plain": [
       "Epoch 25/30 - Training:   0%|          | 0/108 [00:00<?, ?batch/s]"
      ]
     },
     "metadata": {},
     "output_type": "display_data"
    },
    {
     "data": {
      "application/vnd.jupyter.widget-view+json": {
       "model_id": "b2f02b164bd540879d77d0648fcf9bb0",
       "version_major": 2,
       "version_minor": 0
      },
      "text/plain": [
       "Epoch 25/30 - Validation:   0%|          | 0/38 [00:00<?, ?batch/s]"
      ]
     },
     "metadata": {},
     "output_type": "display_data"
    },
    {
     "name": "stdout",
     "output_type": "stream",
     "text": [
      "Epoch 25/30 - Mean Train IoU: 0.8151, Mean Train F1-score: 0.8925, Avg Train Loss: 0.2051, Mean Val IoU: 0.6454, Mean Val F1-score: 0.7586, Avg Val Loss: 0.4948\n",
      "Time: 108.02 seconds\n",
      "Model saved!\n"
     ]
    },
    {
     "data": {
      "application/vnd.jupyter.widget-view+json": {
       "model_id": "125d2d5a7cf84faba89728d536e2dae8",
       "version_major": 2,
       "version_minor": 0
      },
      "text/plain": [
       "Epoch 26/30 - Training:   0%|          | 0/108 [00:00<?, ?batch/s]"
      ]
     },
     "metadata": {},
     "output_type": "display_data"
    },
    {
     "data": {
      "application/vnd.jupyter.widget-view+json": {
       "model_id": "0510ddc4d44b4971bacb79b64cf7ba1b",
       "version_major": 2,
       "version_minor": 0
      },
      "text/plain": [
       "Epoch 26/30 - Validation:   0%|          | 0/38 [00:00<?, ?batch/s]"
      ]
     },
     "metadata": {},
     "output_type": "display_data"
    },
    {
     "name": "stdout",
     "output_type": "stream",
     "text": [
      "Epoch 26/30 - Mean Train IoU: 0.8283, Mean Train F1-score: 0.9015, Avg Train Loss: 0.1933, Mean Val IoU: 0.6428, Mean Val F1-score: 0.7565, Avg Val Loss: 0.5066\n",
      "Time: 107.92 seconds\n"
     ]
    },
    {
     "data": {
      "application/vnd.jupyter.widget-view+json": {
       "model_id": "d5b6e98269e2489fbcbf66656ff2c5ba",
       "version_major": 2,
       "version_minor": 0
      },
      "text/plain": [
       "Epoch 27/30 - Training:   0%|          | 0/108 [00:00<?, ?batch/s]"
      ]
     },
     "metadata": {},
     "output_type": "display_data"
    },
    {
     "data": {
      "application/vnd.jupyter.widget-view+json": {
       "model_id": "908afea6c241412fa2cc698b6dbfb7eb",
       "version_major": 2,
       "version_minor": 0
      },
      "text/plain": [
       "Epoch 27/30 - Validation:   0%|          | 0/38 [00:00<?, ?batch/s]"
      ]
     },
     "metadata": {},
     "output_type": "display_data"
    },
    {
     "name": "stdout",
     "output_type": "stream",
     "text": [
      "Epoch 27/30 - Mean Train IoU: 0.8348, Mean Train F1-score: 0.9050, Avg Train Loss: 0.1801, Mean Val IoU: 0.6384, Mean Val F1-score: 0.7535, Avg Val Loss: 0.5418\n",
      "Time: 109.15 seconds\n"
     ]
    },
    {
     "data": {
      "application/vnd.jupyter.widget-view+json": {
       "model_id": "a54510f61ffc4f9fb1cd7121cb4c5ec4",
       "version_major": 2,
       "version_minor": 0
      },
      "text/plain": [
       "Epoch 28/30 - Training:   0%|          | 0/108 [00:00<?, ?batch/s]"
      ]
     },
     "metadata": {},
     "output_type": "display_data"
    },
    {
     "data": {
      "application/vnd.jupyter.widget-view+json": {
       "model_id": "c7c0eba182d24830aabd9ab030a6a78c",
       "version_major": 2,
       "version_minor": 0
      },
      "text/plain": [
       "Epoch 28/30 - Validation:   0%|          | 0/38 [00:00<?, ?batch/s]"
      ]
     },
     "metadata": {},
     "output_type": "display_data"
    },
    {
     "name": "stdout",
     "output_type": "stream",
     "text": [
      "Epoch 28/30 - Mean Train IoU: 0.8385, Mean Train F1-score: 0.9078, Avg Train Loss: 0.1836, Mean Val IoU: 0.6250, Mean Val F1-score: 0.7398, Avg Val Loss: 0.5454\n",
      "Time: 108.38 seconds\n"
     ]
    },
    {
     "data": {
      "application/vnd.jupyter.widget-view+json": {
       "model_id": "e11126178f864af9a2f13b8b26256868",
       "version_major": 2,
       "version_minor": 0
      },
      "text/plain": [
       "Epoch 29/30 - Training:   0%|          | 0/108 [00:00<?, ?batch/s]"
      ]
     },
     "metadata": {},
     "output_type": "display_data"
    },
    {
     "data": {
      "application/vnd.jupyter.widget-view+json": {
       "model_id": "17f4b405f378445aa100a8a0d686f136",
       "version_major": 2,
       "version_minor": 0
      },
      "text/plain": [
       "Epoch 29/30 - Validation:   0%|          | 0/38 [00:00<?, ?batch/s]"
      ]
     },
     "metadata": {},
     "output_type": "display_data"
    },
    {
     "name": "stdout",
     "output_type": "stream",
     "text": [
      "Epoch 29/30 - Mean Train IoU: 0.8375, Mean Train F1-score: 0.9076, Avg Train Loss: 0.1782, Mean Val IoU: 0.6517, Mean Val F1-score: 0.7627, Avg Val Loss: 0.5240\n",
      "Time: 108.20 seconds\n",
      "Model saved!\n"
     ]
    },
    {
     "data": {
      "application/vnd.jupyter.widget-view+json": {
       "model_id": "2c0867d277774fcf9bba26b1e94b1288",
       "version_major": 2,
       "version_minor": 0
      },
      "text/plain": [
       "Epoch 30/30 - Training:   0%|          | 0/108 [00:00<?, ?batch/s]"
      ]
     },
     "metadata": {},
     "output_type": "display_data"
    },
    {
     "data": {
      "application/vnd.jupyter.widget-view+json": {
       "model_id": "604ba23e3da54df6aa80a4cfcc637372",
       "version_major": 2,
       "version_minor": 0
      },
      "text/plain": [
       "Epoch 30/30 - Validation:   0%|          | 0/38 [00:00<?, ?batch/s]"
      ]
     },
     "metadata": {},
     "output_type": "display_data"
    },
    {
     "name": "stdout",
     "output_type": "stream",
     "text": [
      "Epoch 30/30 - Mean Train IoU: 0.8515, Mean Train F1-score: 0.9160, Avg Train Loss: 0.1582, Mean Val IoU: 0.6494, Mean Val F1-score: 0.7636, Avg Val Loss: 0.5470\n",
      "Time: 109.48 seconds\n",
      "Estimated total training time: 54.74 minutes\n"
     ]
    }
   ],
   "source": [
    "# COMPLETE FINAL VERSION ************************************\n",
    "\n",
    "# Function to compute IoU per class\n",
    "def compute_iou(pred, target, num_classes):\n",
    "    iou_list = []\n",
    "    for cls in range(num_classes):\n",
    "        pred_cls = (pred == cls).float()\n",
    "        target_cls = (target == cls).float()\n",
    "        \n",
    "        intersection = torch.sum(pred_cls * target_cls)\n",
    "        union = torch.sum(pred_cls) + torch.sum(target_cls) - intersection\n",
    "        \n",
    "        iou = intersection / (union + 1e-7)  # Adding epsilon to avoid division by zero\n",
    "        iou_list.append(iou.item())\n",
    "    \n",
    "    return iou_list\n",
    "\n",
    "# Function to compute F1-score per class\n",
    "def compute_f1_score(pred, target, num_classes):\n",
    "    f1_scores = []\n",
    "    for cls in range(num_classes):\n",
    "        pred_cls = (pred == cls).float()\n",
    "        target_cls = (target == cls).float()\n",
    "        \n",
    "        intersection = torch.sum(pred_cls * target_cls)\n",
    "        precision = intersection / (torch.sum(pred_cls) + 1e-7)\n",
    "        recall = intersection / (torch.sum(target_cls) + 1e-7)\n",
    "        \n",
    "        f1 = 2 * (precision * recall) / (precision + recall + 1e-7)\n",
    "        f1_scores.append(f1.item())\n",
    "    \n",
    "    return f1_scores\n",
    "\n",
    "# Initialize DataFrame to store logs\n",
    "logs_df = pd.DataFrame(columns=[\n",
    "    'Epoch', 'Train_Loss', 'Train_IoU_per_Class', 'Train_Mean_IoU',\n",
    "    'Train_F1_per_Class', 'Train_Mean_F1',\n",
    "    'Val_Loss', 'Val_IoU_per_Class', 'Val_Mean_IoU',\n",
    "    'Val_F1_per_Class', 'Val_Mean_F1'\n",
    "])\n",
    "\n",
    "num_classes = 6\n",
    "num_epochs = 30  # Adjust as needed\n",
    "\n",
    "\n",
    "# Define your model, loss function, and optimizer\n",
    "segmodel = smp.DeepLabV3Plus(encoder_name='resnet34', encoder_weights='imagenet', classes=num_classes, activation=None).to(device)\n",
    "# Define your model with dropout\n",
    "#segmodel = smp.Unet(BACKBONE, classes=num_classes, activation=None, encoder_weights=None, dropout=dropout_rate).to(device)\n",
    "\n",
    "criterion = torch.nn.CrossEntropyLoss()\n",
    "#optimizer = torch.optim.Adam(segmodel.parameters(), lr=0.001, weight_decay=1e-4)\n",
    "optimizer = torch.optim.Adam(segmodel.parameters(), lr=0.001)\n",
    "\n",
    "# Initialize DataFrame to store logs\n",
    "logs_df = pd.DataFrame(columns=['Epoch',\n",
    "                                'Train_Loss',\n",
    "                                'Train_IoU_per_Class',\n",
    "                                'Train_Mean_IoU',\n",
    "                                'Train_F1_per_Class',\n",
    "                                'Train_Mean_F1',\n",
    "                                'Val_Loss',\n",
    "                                'Val_IoU_per_Class',\n",
    "                                'Val_Mean_IoU',\n",
    "                                'Val_F1_per_Class',\n",
    "                                'Val_Mean_F1'])\n",
    "# Train model\n",
    "max_score = 0\n",
    "\n",
    "# Training and validation loop\n",
    "for epoch in range(num_epochs):\n",
    "    start_time = time.time()  # Track start time\n",
    "    # Training\n",
    "    segmodel.train()\n",
    "    train_loss = 0\n",
    "    train_iou_scores = []\n",
    "    train_f1_scores = []\n",
    "    \n",
    "    # Progress bar for training\n",
    "    with tqdm(total=len(train_data_loader), desc=f'Epoch {epoch + 1}/{num_epochs} - Training', unit='batch') as pbar:\n",
    "        for batch in train_data_loader:\n",
    "            x, y = batch\n",
    "            x, y = x.to(device), y.to(device)\n",
    "            \n",
    "            optimizer.zero_grad()\n",
    "            pred = segmodel(x)\n",
    "            loss = criterion(pred, y)\n",
    "            loss.backward()\n",
    "            optimizer.step()\n",
    "            \n",
    "            train_loss += loss.item()\n",
    "            \n",
    "            # Calculate IoU and F1-score\n",
    "            pred_classes = torch.argmax(pred, dim=1)\n",
    "            iou = compute_iou(pred_classes, y, num_classes)\n",
    "            f1_score = compute_f1_score(pred_classes, y, num_classes)\n",
    "            \n",
    "            train_iou_scores.append(iou)\n",
    "            train_f1_scores.append(f1_score)\n",
    "            \n",
    "            pbar.set_postfix({'Train_Loss': loss.item(), 'IoU': np.mean(iou), 'F1': np.mean(f1_score)})\n",
    "            pbar.update(1)\n",
    "    \n",
    "    # Calculate mean metrics for training\n",
    "    avg_train_iou = np.mean(train_iou_scores, axis=0)\n",
    "    mean_train_iou = np.mean(avg_train_iou)\n",
    "    avg_train_f1 = np.mean(train_f1_scores, axis=0)\n",
    "    mean_train_f1 = np.mean(avg_train_f1)\n",
    "    avg_train_loss = train_loss / len(train_data_loader)\n",
    "    \n",
    "    # Validation\n",
    "    segmodel.eval()\n",
    "    val_loss = 0\n",
    "    val_iou_scores = []\n",
    "    val_f1_scores = []\n",
    "    \n",
    "    with torch.no_grad():\n",
    "        # Progress bar for validation\n",
    "        with tqdm(total=len(val_data_loader), desc=f'Epoch {epoch + 1}/{num_epochs} - Validation', unit='batch') as pbar:\n",
    "            for batch in val_data_loader:\n",
    "                x, y = batch\n",
    "                x, y = x.to(device), y.to(device)\n",
    "                pred = segmodel(x)\n",
    "                \n",
    "                loss = criterion(pred, y)\n",
    "                val_loss += loss.item()\n",
    "                \n",
    "                # Calculate IoU and F1-score\n",
    "                pred_classes = torch.argmax(pred, dim=1)\n",
    "                iou = compute_iou(pred_classes, y, num_classes)\n",
    "                f1_score = compute_f1_score(pred_classes, y, num_classes)\n",
    "                \n",
    "                val_iou_scores.append(iou)\n",
    "                val_f1_scores.append(f1_score)\n",
    "                \n",
    "                pbar.set_postfix({'Val_Loss': loss.item(), 'IoU': np.mean(iou), 'F1': np.mean(f1_score)})\n",
    "                pbar.update(1)\n",
    "    \n",
    "    # Calculate mean metrics for validation\n",
    "    avg_val_iou = np.mean(val_iou_scores, axis=0)\n",
    "    mean_val_iou = np.mean(avg_val_iou)\n",
    "    avg_val_f1 = np.mean(val_f1_scores, axis=0)\n",
    "    mean_val_f1 = np.mean(avg_val_f1)\n",
    "    avg_val_loss = val_loss / len(val_data_loader)\n",
    "    \n",
    "    # Save logs to DataFrame\n",
    "    new_log = {\n",
    "        'Epoch': epoch + 1,\n",
    "        'Train_Loss': avg_train_loss,\n",
    "        'Train_IoU_per_Class': avg_train_iou,\n",
    "        'Train_Mean_IoU': mean_train_iou,\n",
    "        'Train_F1_per_Class': avg_train_f1,\n",
    "        'Train_Mean_F1': mean_train_f1,\n",
    "        'Val_Loss': avg_val_loss,\n",
    "        'Val_IoU_per_Class': avg_val_iou,\n",
    "        'Val_Mean_IoU': mean_val_iou,\n",
    "        'Val_F1_per_Class': avg_val_f1,\n",
    "        'Val_Mean_F1': mean_val_f1\n",
    "    }\n",
    "    # Convert the new_row dictionary to a DataFrame\n",
    "    new_log_df = pd.DataFrame([new_log])\n",
    "    # Concatenate the new_row_df to logs_df\n",
    "    logs_df = pd.concat([logs_df, new_log_df], ignore_index=True)\n",
    "    \n",
    "    # Print metrics\n",
    "    print(f\"Epoch {epoch + 1}/{num_epochs} - \"\n",
    "          f\"Mean Train IoU: {mean_train_iou:.4f}, \"\n",
    "          f\"Mean Train F1-score: {mean_train_f1:.4f}, \"\n",
    "          f\"Avg Train Loss: {avg_train_loss:.4f}, \"\n",
    "          f\"Mean Val IoU: {mean_val_iou:.4f}, \"\n",
    "          f\"Mean Val F1-score: {mean_val_f1:.4f}, \"\n",
    "          f\"Avg Val Loss: {avg_val_loss:.4f}\")\n",
    "\n",
    "    # Calculate and print time for each epoch\n",
    "    epoch_time = time.time() - start_time\n",
    "    print(f\"Time: {epoch_time:.2f} seconds\")\n",
    "\n",
    "    # Save the model if it's the best one\n",
    "    if mean_val_iou > max_score:\n",
    "        max_score = mean_val_iou\n",
    "        torch.save(segmodel.state_dict(), './acdc_best_model_deeplabv3_multiclass_merged30e.pth')\n",
    "        print('Model saved!')\n",
    "\n",
    "total_time = epoch_time * num_epochs\n",
    "print(f\"Estimated total training time: {total_time/60:.2f} minutes\")\n",
    "# Save DataFrame to CSV\n",
    "logs_df.to_csv('acdc_best_model_deeplabv3_multiclass_merged30e.csv', index=False)\n"
   ]
  },
  {
   "cell_type": "code",
   "execution_count": 17,
   "id": "b9fa1dd7-f6ed-4bf1-bba5-899fb04fc6a9",
   "metadata": {},
   "outputs": [
    {
     "name": "stdout",
     "output_type": "stream",
     "text": [
      "Loaded DeepLabV3+ model from this run.\n"
     ]
    }
   ],
   "source": [
    "# load best saved model checkpoint from the current run\n",
    "if os.path.exists('./acdc_best_model_deeplabv3_multiclass_merged30e.pth'):\n",
    "    best_model = torch.load('./acdc_best_model_deeplabv3_multiclass_merged30e.pth', map_location=device)\n",
    "    print('Loaded DeepLabV3+ model from this run.')\n",
    "else:\n",
    "    print(\"There is not a saved model\")"
   ]
  },
  {
   "cell_type": "code",
   "execution_count": 18,
   "id": "c2ed9970-8083-43bd-8ecb-4d558485adf3",
   "metadata": {},
   "outputs": [
    {
     "data": {
      "image/png": "[encoded data removed]",
      "text/plain": [
       "<Figure size 2000x800 with 1 Axes>"
      ]
     },
     "metadata": {},
     "output_type": "display_data"
    }
   ],
   "source": [
    "plt.figure(figsize=(20,8))\n",
    "plt.plot(logs_df.Epoch.tolist(), logs_df.Train_Loss.tolist(), lw=3, label = 'Training')\n",
    "plt.plot(logs_df.Epoch.tolist(), logs_df.Val_Loss.tolist(), lw=3, label = 'Validation')\n",
    "plt.xlabel('Epochs', fontsize=21)\n",
    "plt.ylabel('Loss', fontsize=21)\n",
    "plt.title('Loss Plot', fontsize=21)\n",
    "plt.legend(loc='best', fontsize=16)\n",
    "plt.grid()\n",
    "plt.savefig('Loss.png')\n",
    "plt.show()"
   ]
  },
  {
   "cell_type": "code",
   "execution_count": 19,
   "id": "e13e0b48",
   "metadata": {},
   "outputs": [
    {
     "data": {
      "text/plain": [
       "11"
      ]
     },
     "execution_count": 19,
     "metadata": {},
     "output_type": "execute_result"
    }
   ],
   "source": [
    "5+6"
   ]
  },
  {
   "cell_type": "code",
   "execution_count": null,
   "id": "7112d394-f318-44bc-bfa5-a7d44c82324d",
   "metadata": {},
   "outputs": [],
   "source": []
  }
 ],
 "metadata": {
  "kernelspec": {
   "display_name": "Python 3 (ipykernel)",
   "language": "python",
   "name": "python3"
  },
  "language_info": {
   "codemirror_mode": {
    "name": "ipython",
    "version": 3
   },
   "file_extension": ".py",
   "mimetype": "text/x-python",
   "name": "python",
   "nbconvert_exporter": "python",
   "pygments_lexer": "ipython3",
   "version": "3.9.19"
  }
 },
 "nbformat": 4,
 "nbformat_minor": 5
}
