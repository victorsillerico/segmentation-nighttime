{
 "cells": [
  {
   "cell_type": "code",
   "execution_count": 1,
   "id": "26ba47b3-d604-405b-a367-999a6bd0d117",
   "metadata": {},
   "outputs": [],
   "source": [
    "import os, cv2, time\n",
    "import numpy as np\n",
    "import pandas as pd\n",
    "import random, tqdm\n",
    "import seaborn as sns\n",
    "import matplotlib.pyplot as plt\n",
    "%matplotlib inline\n",
    "import warnings\n",
    "warnings.filterwarnings(\"ignore\")\n",
    "\n",
    "import torch\n",
    "import torch.nn as nn\n",
    "from torch.utils.data import DataLoader\n",
    "from torch.utils.data import Dataset\n",
    "import albumentations as album\n",
    "\n",
    "import segmentation_models_pytorch as smp\n",
    "from segmentation_models_pytorch import utils\n",
    "\n",
    "from torchvision import transforms\n",
    "\n",
    "from PIL import Image\n",
    "\n",
    "from sklearn.model_selection import train_test_split\n",
    "\n",
    "from tqdm.notebook import tqdm"
   ]
  },
  {
   "cell_type": "code",
   "execution_count": 2,
   "id": "6bb0a8ac-0c7f-4b46-bc07-2e768e772664",
   "metadata": {},
   "outputs": [],
   "source": [
    "#with torch.no_grad():\n",
    "#    torch.cuda.empty_cache()"
   ]
  },
  {
   "cell_type": "code",
   "execution_count": 3,
   "id": "e23ebd26-dc5b-4c50-a692-6d418327dab2",
   "metadata": {},
   "outputs": [],
   "source": [
    "def create_paths(dataset_dir):\n",
    "    rgb_files = []\n",
    "    mask_files = []\n",
    "    for root, dirs, files in os.walk(dataset_dir):\n",
    "        for name in files:\n",
    "            f = os.path.join(root, name)\n",
    "            if 'labelIds' in f:\n",
    "                mask_files.append(f)\n",
    "            elif 'rgb_anon' in f:\n",
    "                rgb_files.append(f)\n",
    "            else:\n",
    "                pass\n",
    "    return sorted(rgb_files), sorted(mask_files)"
   ]
  },
  {
   "cell_type": "code",
   "execution_count": 4,
   "id": "287abf8a-5f53-4d27-abb3-45312abedf3c",
   "metadata": {},
   "outputs": [],
   "source": [
    "class customDataset(Dataset):\n",
    "    \"\"\" Custom Dataset for multiclass semantic segmentation.\n",
    "\n",
    "    Args:\n",
    "        df (pd.DataFrame): DataFrame containing paths to images and masks.\n",
    "        class_list (list): List of class IDs to extract from segmentation mask.\n",
    "        preprocessing (callable, optional): Data preprocessing function.\n",
    "    \"\"\"\n",
    "    \n",
    "    def __init__(self, df, class_list=None, augmentation=None, preprocessing=None):\n",
    "        self.image_paths = df['rgb_file'].tolist()\n",
    "        self.mask_paths = df['mask_file'].tolist()\n",
    "\n",
    "        self.class_list = class_list\n",
    "        self.augmentation = augmentation\n",
    "        self.preprocessing = preprocessing\n",
    "\n",
    "        # Original Cityscapes IDs to be mapped to your 6 classes\n",
    "        # [7, 11, 21, 26, 23, 24] # ['road', 'building', 'vegetation', 'car', 'sky', 'person']\n",
    "        self.cityscapes_ids = [7, 11, 21, 26, 23]  # Target classes\n",
    "        # Mapping to new class indices [0, 1, 2, 3, 4, 5]\n",
    "        self.new_class_mapping = {7: 1, 11: 2, 21: 3, 26: 4, 23: 5}   \n",
    "        # Define a background class ID\n",
    "        #self.background_class_id = -1  # Or any other value not used by your classes\n",
    "\n",
    "    def __getitem__(self, i):\n",
    "        image = cv2.cvtColor(cv2.imread(self.image_paths[i]), cv2.COLOR_BGR2RGB)\n",
    "        mask = cv2.cvtColor(cv2.imread(self.mask_paths[i]), cv2.COLOR_BGR2GRAY)  # Read mask as grayscale\n",
    "\n",
    "        # Resize images and masks (640, 480)/(1920, 1080)\n",
    "        image = cv2.resize(image, (1920, 1056), interpolation=cv2.INTER_LINEAR)\n",
    "        mask = cv2.resize(mask, (1920, 1056), interpolation=cv2.INTER_NEAREST)\n",
    "\n",
    "        image = np.asarray(image).astype('float')\n",
    "\n",
    "        # apply augmentations\n",
    "        if self.augmentation:\n",
    "            sample = self.augmentation(image=image, mask=mask)\n",
    "            image, mask = sample['image'], sample['mask']\n",
    "        \n",
    "        if self.preprocessing:\n",
    "            image = self.preprocessing(image)\n",
    "            image = torch.as_tensor(image)\n",
    "        else:\n",
    "            # Normalize image to [0, 1]\n",
    "            image = torch.as_tensor(image) / 255.0\n",
    "        image = image.permute(2,0,1)\n",
    "\n",
    "        # Convert mask to tensor\n",
    "        #mask = torch.as_tensor(mask, dtype=torch.uint8)\n",
    "        \n",
    "        # Map original Cityscapes IDs to the new class indices\n",
    "        mask_mapped = np.zeros_like(mask, dtype=np.uint8)  # Initialize new mask\n",
    "        for original_id, new_id in self.new_class_mapping.items():\n",
    "            mask_mapped[mask == original_id] = new_id\n",
    "\n",
    "        # Convert mask to tensor with the mapped classes\n",
    "        mask_tensor = torch.as_tensor(mask_mapped, dtype=torch.long)\n",
    "\n",
    "        # -------------------\n",
    "        # Convert mask to tensor and remap class IDs\n",
    "        #mask = torch.as_tensor(mask, dtype=torch.uint8)\n",
    "        #mask_mapped = torch.full_like(mask, self.background_class_id, dtype=torch.long)  # Initialize new mask with background class ID\n",
    "        \n",
    "        #for original_id, new_id in self.new_class_mapping.items():\n",
    "        #    mask_mapped[mask == original_id] = new_id\n",
    "\n",
    "        return image.float(), mask_tensor\n",
    "\n",
    "    def __len__(self):\n",
    "        return len(self.image_paths)\n"
   ]
  },
  {
   "cell_type": "code",
   "execution_count": 5,
   "id": "4126ff70-e850-4ec3-a13c-5c9812db1981",
   "metadata": {},
   "outputs": [
    {
     "name": "stdout",
     "output_type": "stream",
     "text": [
      "acdc-shape = (506, 2) --- train-shape=(430, 2) --- val-shape=(76, 2)\n"
     ]
    }
   ],
   "source": [
    "# for ACDC-Night dataset\n",
    "dataset_acdc_dir = '/home/vhsillerico/Documents/datasets/acdc-night'\n",
    "imgs_acdc_rgb, imgs_acdc_mask = create_paths(dataset_acdc_dir)\n",
    "#print(f'LEN imgs_acdc_rgb: {len(imgs_acdc_rgb)} --- LEN imgs_acdc_mask: {len(imgs_acdc_mask)}')\n",
    "df_acdc = pd.DataFrame({'rgb_file': imgs_acdc_rgb, 'mask_file': imgs_acdc_mask})\n",
    "df_acdc.sort_values(by='rgb_file',inplace=True)\n",
    "df_acdc.reset_index(drop=True, inplace=True)\n",
    "df_acdc = df_acdc.sample(frac=1).reset_index(drop=True)\n",
    "df_acdc.head(5)\n",
    "\n",
    "# Split data 85% for trainig and 15% for validation\n",
    "df_acdc_train, df_acdc_val = train_test_split(df_acdc, test_size=0.15)\n",
    "\n",
    "df_acdc_train.reset_index(drop=True, inplace=True)\n",
    "df_acdc_val.reset_index(drop=True, inplace=True)\n",
    "\n",
    "print(f'acdc-shape = {df_acdc.shape} --- train-shape={df_acdc_train.shape} --- val-shape={df_acdc_val.shape}')"
   ]
  },
  {
   "cell_type": "code",
   "execution_count": 6,
   "id": "c480b83e-8bd6-460a-bf3f-095a807658b4",
   "metadata": {},
   "outputs": [],
   "source": [
    "selected_class_list = [7, 11, 21, 26, 23] # ['road', 'building', 'vegetation', 'car', 'sky', 'person']"
   ]
  },
  {
   "cell_type": "code",
   "execution_count": 7,
   "id": "4c01e1af-775e-4ed8-a335-eb6eadf2725d",
   "metadata": {},
   "outputs": [],
   "source": [
    "#activation = torch.nn.Softmax(dim=1)\n",
    "\n",
    "device = torch.device('cuda:1' if torch.cuda.is_available() else 'cpu')\n",
    "device\n",
    "\n",
    "BACKBONE = 'resnet34'\n",
    "#segmodel = smp.Unet(BACKBONE, classes=6, activation='softmax2d').to(device)\n",
    "\n",
    "#segmodel = smp.Unet(BACKBONE, classes=6, activation=None).to(device)\n",
    "\n",
    "preprocess_input = smp.encoders.get_preprocessing_fn(BACKBONE, pretrained='imagenet')"
   ]
  },
  {
   "cell_type": "code",
   "execution_count": 8,
   "id": "04309836",
   "metadata": {},
   "outputs": [],
   "source": [
    "# image dimensions: (480, 640) (H,W)\n",
    "global h_aux, w_aux\n",
    "h_aux = 1056\n",
    "w_aux = 1920\n",
    "h_crop_size = 1056\n",
    "w_crop_size = 1920\n",
    "def get_training_augmentation():\n",
    "    train_transform = [\n",
    "        album.RandomCrop(height=h_crop_size, width=w_crop_size, always_apply=True),\n",
    "        album.PadIfNeeded(min_height=h_aux, min_width=w_aux, always_apply=True, border_mode=0, value=(0, 0, 0)),\n",
    "        album.HorizontalFlip(p=0.75),\n",
    "    ]\n",
    "    return album.Compose(train_transform)\n",
    "\n",
    "\n",
    "def get_validation_augmentation():\n",
    "    # Add sufficient padding to ensure image is divisible by 32\n",
    "    test_transform = [\n",
    "        #album.PadIfNeeded(min_height=1536, min_width=1536, always_apply=True, border_mode=0, value=(0, 0, 0)),\n",
    "        album.PadIfNeeded(min_height=h_aux, min_width=w_aux, always_apply=True, border_mode=0, value=(0, 0, 0)),\n",
    "    ]\n",
    "    return album.Compose(test_transform)"
   ]
  },
  {
   "cell_type": "code",
   "execution_count": 9,
   "id": "692bcf86-8a00-4914-8b80-2fa24bf2e1fd",
   "metadata": {},
   "outputs": [
    {
     "name": "stdout",
     "output_type": "stream",
     "text": [
      "torch.Size([3, 1056, 1920]) torch.Size([1056, 1920])\n"
     ]
    }
   ],
   "source": [
    "# configure dataset for training\n",
    "train_data = customDataset(df_acdc_train, class_list=selected_class_list, preprocessing=preprocess_input)\n",
    "img_train, masks_train = train_data[1]\n",
    "print(img_train.shape, masks_train.shape)"
   ]
  },
  {
   "cell_type": "code",
   "execution_count": 10,
   "id": "27676556-2816-4c5f-b0f9-68fb8a3da127",
   "metadata": {},
   "outputs": [
    {
     "data": {
      "text/plain": [
       "array([0, 1, 2, 3, 4, 5])"
      ]
     },
     "execution_count": 10,
     "metadata": {},
     "output_type": "execute_result"
    }
   ],
   "source": [
    "np.unique(masks_train.detach().cpu().numpy())"
   ]
  },
  {
   "cell_type": "code",
   "execution_count": 11,
   "id": "033ceda9",
   "metadata": {},
   "outputs": [],
   "source": [
    "#def visualize(**images):\n",
    "#    \"\"\"\n",
    "#    Plot images in one row\n",
    "#    \"\"\"\n",
    "#    n_images = len(images)\n",
    "#    plt.figure(figsize=(20,8))\n",
    "#    for idx, (name, image) in enumerate(images.items()):\n",
    "#        plt.subplot(1, n_images, idx + 1)\n",
    "#        plt.xticks([]);\n",
    "#        plt.yticks([])\n",
    "#        # get title from the parameter names\n",
    "#        plt.title(name.replace('_',' ').title(), fontsize=20)\n",
    "#        plt.imshow(image)\n",
    "#    plt.show()"
   ]
  },
  {
   "cell_type": "code",
   "execution_count": 12,
   "id": "168e738f-52be-487c-b4d7-fa2234246d75",
   "metadata": {},
   "outputs": [
    {
     "name": "stdout",
     "output_type": "stream",
     "text": [
      "torch.Size([3, 1056, 1920]) torch.Size([1056, 1920])\n"
     ]
    }
   ],
   "source": [
    "# configure dataset for training\n",
    "val_data = customDataset(df_acdc_val, class_list=selected_class_list, preprocessing=preprocess_input)\n",
    "img_val, masks_val = val_data[0]\n",
    "print(img_val.shape, masks_val.shape)"
   ]
  },
  {
   "cell_type": "code",
   "execution_count": 13,
   "id": "422be873-1c35-4e87-9fda-2e664e40c582",
   "metadata": {},
   "outputs": [
    {
     "name": "stderr",
     "output_type": "stream",
     "text": [
      "Clipping input data to the valid range for imshow with RGB data ([0..1] for floats or [0..255] for integers). Got range [-2.0494049..2.64].\n"
     ]
    },
    {
     "data": {
      "image/png": "[encoded data removed]",
      "text/plain": [
       "<Figure size 1200x500 with 2 Axes>"
      ]
     },
     "metadata": {},
     "output_type": "display_data"
    }
   ],
   "source": [
    "fig, ax = plt.subplots(1, 2, figsize=(12, 5))\n",
    "ax[0].imshow(img_train.permute(1, 2, 0))\n",
    "ax[1].imshow(masks_train) # ['road', 'building', 'vegetation', 'car', 'sky', 'person']\n",
    "plt.show()"
   ]
  },
  {
   "cell_type": "code",
   "execution_count": 14,
   "id": "d9f51439-3acc-4325-aab0-680d65fe7243",
   "metadata": {},
   "outputs": [],
   "source": [
    "train_data_loader = DataLoader(\n",
    "    train_data,\n",
    "    batch_size=2,\n",
    "    shuffle=True\n",
    ")\n",
    "val_data_loader = DataLoader(\n",
    "    val_data,\n",
    "    batch_size=1,\n",
    "    shuffle=False\n",
    ")"
   ]
  },
  {
   "cell_type": "code",
   "execution_count": 15,
   "id": "669293be-3600-45b6-8398-081ab46ae21b",
   "metadata": {},
   "outputs": [
    {
     "name": "stdout",
     "output_type": "stream",
     "text": [
      "torch.Size([2, 3, 1056, 1920]) torch.Size([2, 1056, 1920])\n",
      "tensor(-2.1179) tensor(2.6400)\n",
      "tensor(0) tensor(5)\n"
     ]
    }
   ],
   "source": [
    "for img, target in train_data_loader:\n",
    "    print(img.shape, target.shape)\n",
    "    print(img[0].min(), img[0].max())\n",
    "    print(target[0].min(), target[0].max())\n",
    "    break"
   ]
  },
  {
   "cell_type": "code",
   "execution_count": 16,
   "id": "a8deb93c-53e4-4700-bc1f-7eee3e3d401e",
   "metadata": {},
   "outputs": [
    {
     "data": {
      "application/vnd.jupyter.widget-view+json": {
       "model_id": "204f212c136047418e9694d3855ff627",
       "version_major": 2,
       "version_minor": 0
      },
      "text/plain": [
       "Epoch 1/30 - Training:   0%|          | 0/215 [00:00<?, ?batch/s]"
      ]
     },
     "metadata": {},
     "output_type": "display_data"
    },
    {
     "data": {
      "application/vnd.jupyter.widget-view+json": {
       "model_id": "6d130fb891d2439eab2f5b11fba40e20",
       "version_major": 2,
       "version_minor": 0
      },
      "text/plain": [
       "Epoch 1/30 - Validation:   0%|          | 0/76 [00:00<?, ?batch/s]"
      ]
     },
     "metadata": {},
     "output_type": "display_data"
    },
    {
     "name": "stdout",
     "output_type": "stream",
     "text": [
      "Epoch 1/30 - Mean Train IoU: 0.3547, Mean Train F1-score: 0.4659, Avg Train Loss: 0.9852, Mean Val IoU: 0.3610, Mean Val F1-score: 0.4568, Avg Val Loss: 0.8858\n",
      "Time: 112.59 seconds\n",
      "Model saved!\n"
     ]
    },
    {
     "data": {
      "application/vnd.jupyter.widget-view+json": {
       "model_id": "c53d0bdb12384b5bacfcefbf43e8869a",
       "version_major": 2,
       "version_minor": 0
      },
      "text/plain": [
       "Epoch 2/30 - Training:   0%|          | 0/215 [00:00<?, ?batch/s]"
      ]
     },
     "metadata": {},
     "output_type": "display_data"
    },
    {
     "data": {
      "application/vnd.jupyter.widget-view+json": {
       "model_id": "48608f225246413fb5a3447082fa471c",
       "version_major": 2,
       "version_minor": 0
      },
      "text/plain": [
       "Epoch 2/30 - Validation:   0%|          | 0/76 [00:00<?, ?batch/s]"
      ]
     },
     "metadata": {},
     "output_type": "display_data"
    },
    {
     "name": "stdout",
     "output_type": "stream",
     "text": [
      "Epoch 2/30 - Mean Train IoU: 0.4241, Mean Train F1-score: 0.5395, Avg Train Loss: 0.7987, Mean Val IoU: 0.3474, Mean Val F1-score: 0.4473, Avg Val Loss: 0.9615\n",
      "Time: 117.13 seconds\n"
     ]
    },
    {
     "data": {
      "application/vnd.jupyter.widget-view+json": {
       "model_id": "0579ddb431fd4e6da8238ce6da53ab4f",
       "version_major": 2,
       "version_minor": 0
      },
      "text/plain": [
       "Epoch 3/30 - Training:   0%|          | 0/215 [00:00<?, ?batch/s]"
      ]
     },
     "metadata": {},
     "output_type": "display_data"
    },
    {
     "data": {
      "application/vnd.jupyter.widget-view+json": {
       "model_id": "192892657cb244fba56ced272b06bc25",
       "version_major": 2,
       "version_minor": 0
      },
      "text/plain": [
       "Epoch 3/30 - Validation:   0%|          | 0/76 [00:00<?, ?batch/s]"
      ]
     },
     "metadata": {},
     "output_type": "display_data"
    },
    {
     "name": "stdout",
     "output_type": "stream",
     "text": [
      "Epoch 3/30 - Mean Train IoU: 0.4625, Mean Train F1-score: 0.5852, Avg Train Loss: 0.7433, Mean Val IoU: 0.4171, Mean Val F1-score: 0.5327, Avg Val Loss: 0.7819\n",
      "Time: 116.90 seconds\n",
      "Model saved!\n"
     ]
    },
    {
     "data": {
      "application/vnd.jupyter.widget-view+json": {
       "model_id": "705b3d40d1804ea7be369e42f5f0c5a7",
       "version_major": 2,
       "version_minor": 0
      },
      "text/plain": [
       "Epoch 4/30 - Training:   0%|          | 0/215 [00:00<?, ?batch/s]"
      ]
     },
     "metadata": {},
     "output_type": "display_data"
    },
    {
     "data": {
      "application/vnd.jupyter.widget-view+json": {
       "model_id": "70f43a8c78204cbc951c83ae12a0cbd3",
       "version_major": 2,
       "version_minor": 0
      },
      "text/plain": [
       "Epoch 4/30 - Validation:   0%|          | 0/76 [00:00<?, ?batch/s]"
      ]
     },
     "metadata": {},
     "output_type": "display_data"
    },
    {
     "name": "stdout",
     "output_type": "stream",
     "text": [
      "Epoch 4/30 - Mean Train IoU: 0.4941, Mean Train F1-score: 0.6189, Avg Train Loss: 0.6876, Mean Val IoU: 0.3824, Mean Val F1-score: 0.4870, Avg Val Loss: 0.9007\n",
      "Time: 121.41 seconds\n"
     ]
    },
    {
     "data": {
      "application/vnd.jupyter.widget-view+json": {
       "model_id": "7e7b8a2d653b48ba9dcc99cce0390f0f",
       "version_major": 2,
       "version_minor": 0
      },
      "text/plain": [
       "Epoch 5/30 - Training:   0%|          | 0/215 [00:00<?, ?batch/s]"
      ]
     },
     "metadata": {},
     "output_type": "display_data"
    },
    {
     "data": {
      "application/vnd.jupyter.widget-view+json": {
       "model_id": "1d779c9904994fdeaa886c5985036146",
       "version_major": 2,
       "version_minor": 0
      },
      "text/plain": [
       "Epoch 5/30 - Validation:   0%|          | 0/76 [00:00<?, ?batch/s]"
      ]
     },
     "metadata": {},
     "output_type": "display_data"
    },
    {
     "name": "stdout",
     "output_type": "stream",
     "text": [
      "Epoch 5/30 - Mean Train IoU: 0.5095, Mean Train F1-score: 0.6366, Avg Train Loss: 0.6732, Mean Val IoU: 0.4804, Mean Val F1-score: 0.5953, Avg Val Loss: 0.6841\n",
      "Time: 126.04 seconds\n",
      "Model saved!\n"
     ]
    },
    {
     "data": {
      "application/vnd.jupyter.widget-view+json": {
       "model_id": "3b1b5d64aeab4f6cb8bd31594c1c75c9",
       "version_major": 2,
       "version_minor": 0
      },
      "text/plain": [
       "Epoch 6/30 - Training:   0%|          | 0/215 [00:00<?, ?batch/s]"
      ]
     },
     "metadata": {},
     "output_type": "display_data"
    },
    {
     "data": {
      "application/vnd.jupyter.widget-view+json": {
       "model_id": "8185f671e6be466e9de6a5328508b7a6",
       "version_major": 2,
       "version_minor": 0
      },
      "text/plain": [
       "Epoch 6/30 - Validation:   0%|          | 0/76 [00:00<?, ?batch/s]"
      ]
     },
     "metadata": {},
     "output_type": "display_data"
    },
    {
     "name": "stdout",
     "output_type": "stream",
     "text": [
      "Epoch 6/30 - Mean Train IoU: 0.5300, Mean Train F1-score: 0.6568, Avg Train Loss: 0.6387, Mean Val IoU: 0.4579, Mean Val F1-score: 0.5703, Avg Val Loss: 0.7870\n",
      "Time: 121.54 seconds\n"
     ]
    },
    {
     "data": {
      "application/vnd.jupyter.widget-view+json": {
       "model_id": "192a9ac9a5c5432b8a5af9aa2245dd69",
       "version_major": 2,
       "version_minor": 0
      },
      "text/plain": [
       "Epoch 7/30 - Training:   0%|          | 0/215 [00:00<?, ?batch/s]"
      ]
     },
     "metadata": {},
     "output_type": "display_data"
    },
    {
     "data": {
      "application/vnd.jupyter.widget-view+json": {
       "model_id": "d0abda9810ab491785ffa57658f58452",
       "version_major": 2,
       "version_minor": 0
      },
      "text/plain": [
       "Epoch 7/30 - Validation:   0%|          | 0/76 [00:00<?, ?batch/s]"
      ]
     },
     "metadata": {},
     "output_type": "display_data"
    },
    {
     "name": "stdout",
     "output_type": "stream",
     "text": [
      "Epoch 7/30 - Mean Train IoU: 0.5380, Mean Train F1-score: 0.6639, Avg Train Loss: 0.6255, Mean Val IoU: 0.4301, Mean Val F1-score: 0.5388, Avg Val Loss: 0.8391\n",
      "Time: 120.82 seconds\n"
     ]
    },
    {
     "data": {
      "application/vnd.jupyter.widget-view+json": {
       "model_id": "08f805c4195d4da5810e998f4945c521",
       "version_major": 2,
       "version_minor": 0
      },
      "text/plain": [
       "Epoch 8/30 - Training:   0%|          | 0/215 [00:00<?, ?batch/s]"
      ]
     },
     "metadata": {},
     "output_type": "display_data"
    },
    {
     "data": {
      "application/vnd.jupyter.widget-view+json": {
       "model_id": "34c125d681074ca7a9a1ac62bf0cea3b",
       "version_major": 2,
       "version_minor": 0
      },
      "text/plain": [
       "Epoch 8/30 - Validation:   0%|          | 0/76 [00:00<?, ?batch/s]"
      ]
     },
     "metadata": {},
     "output_type": "display_data"
    },
    {
     "name": "stdout",
     "output_type": "stream",
     "text": [
      "Epoch 8/30 - Mean Train IoU: 0.5535, Mean Train F1-score: 0.6786, Avg Train Loss: 0.6028, Mean Val IoU: 0.4630, Mean Val F1-score: 0.5713, Avg Val Loss: 0.7111\n",
      "Time: 121.50 seconds\n"
     ]
    },
    {
     "data": {
      "application/vnd.jupyter.widget-view+json": {
       "model_id": "0fcd9265919c416f89f8408e8e7f8a44",
       "version_major": 2,
       "version_minor": 0
      },
      "text/plain": [
       "Epoch 9/30 - Training:   0%|          | 0/215 [00:00<?, ?batch/s]"
      ]
     },
     "metadata": {},
     "output_type": "display_data"
    },
    {
     "data": {
      "application/vnd.jupyter.widget-view+json": {
       "model_id": "8992d430183a44549ca5ed1668828aaf",
       "version_major": 2,
       "version_minor": 0
      },
      "text/plain": [
       "Epoch 9/30 - Validation:   0%|          | 0/76 [00:00<?, ?batch/s]"
      ]
     },
     "metadata": {},
     "output_type": "display_data"
    },
    {
     "name": "stdout",
     "output_type": "stream",
     "text": [
      "Epoch 9/30 - Mean Train IoU: 0.5654, Mean Train F1-score: 0.6881, Avg Train Loss: 0.5800, Mean Val IoU: 0.4321, Mean Val F1-score: 0.5396, Avg Val Loss: 0.8306\n",
      "Time: 121.18 seconds\n"
     ]
    },
    {
     "data": {
      "application/vnd.jupyter.widget-view+json": {
       "model_id": "8fc555003f4c4e1fb990dbc86e3a8ad9",
       "version_major": 2,
       "version_minor": 0
      },
      "text/plain": [
       "Epoch 10/30 - Training:   0%|          | 0/215 [00:00<?, ?batch/s]"
      ]
     },
     "metadata": {},
     "output_type": "display_data"
    },
    {
     "data": {
      "application/vnd.jupyter.widget-view+json": {
       "model_id": "ca90ad85cc77489bb6c6e2ed0d339a83",
       "version_major": 2,
       "version_minor": 0
      },
      "text/plain": [
       "Epoch 10/30 - Validation:   0%|          | 0/76 [00:00<?, ?batch/s]"
      ]
     },
     "metadata": {},
     "output_type": "display_data"
    },
    {
     "name": "stdout",
     "output_type": "stream",
     "text": [
      "Epoch 10/30 - Mean Train IoU: 0.5823, Mean Train F1-score: 0.7051, Avg Train Loss: 0.5472, Mean Val IoU: 0.5183, Mean Val F1-score: 0.6269, Avg Val Loss: 0.5966\n",
      "Time: 122.02 seconds\n",
      "Model saved!\n"
     ]
    },
    {
     "data": {
      "application/vnd.jupyter.widget-view+json": {
       "model_id": "ad0e35c52a2046d89840582a3880a214",
       "version_major": 2,
       "version_minor": 0
      },
      "text/plain": [
       "Epoch 11/30 - Training:   0%|          | 0/215 [00:00<?, ?batch/s]"
      ]
     },
     "metadata": {},
     "output_type": "display_data"
    },
    {
     "data": {
      "application/vnd.jupyter.widget-view+json": {
       "model_id": "2123635a411345ed996b86c7e56b3bd7",
       "version_major": 2,
       "version_minor": 0
      },
      "text/plain": [
       "Epoch 11/30 - Validation:   0%|          | 0/76 [00:00<?, ?batch/s]"
      ]
     },
     "metadata": {},
     "output_type": "display_data"
    },
    {
     "name": "stdout",
     "output_type": "stream",
     "text": [
      "Epoch 11/30 - Mean Train IoU: 0.5914, Mean Train F1-score: 0.7114, Avg Train Loss: 0.5310, Mean Val IoU: 0.5535, Mean Val F1-score: 0.6620, Avg Val Loss: 0.5361\n",
      "Time: 121.36 seconds\n",
      "Model saved!\n"
     ]
    },
    {
     "data": {
      "application/vnd.jupyter.widget-view+json": {
       "model_id": "d65eea4494bd444c8f6f550887183fef",
       "version_major": 2,
       "version_minor": 0
      },
      "text/plain": [
       "Epoch 12/30 - Training:   0%|          | 0/215 [00:00<?, ?batch/s]"
      ]
     },
     "metadata": {},
     "output_type": "display_data"
    },
    {
     "data": {
      "application/vnd.jupyter.widget-view+json": {
       "model_id": "bec42051dd034e8a8506ce2735428dad",
       "version_major": 2,
       "version_minor": 0
      },
      "text/plain": [
       "Epoch 12/30 - Validation:   0%|          | 0/76 [00:00<?, ?batch/s]"
      ]
     },
     "metadata": {},
     "output_type": "display_data"
    },
    {
     "name": "stdout",
     "output_type": "stream",
     "text": [
      "Epoch 12/30 - Mean Train IoU: 0.5948, Mean Train F1-score: 0.7144, Avg Train Loss: 0.5217, Mean Val IoU: 0.4962, Mean Val F1-score: 0.6095, Avg Val Loss: 0.6376\n",
      "Time: 121.26 seconds\n"
     ]
    },
    {
     "data": {
      "application/vnd.jupyter.widget-view+json": {
       "model_id": "3ffb56c2a8f44432888864a3506777fe",
       "version_major": 2,
       "version_minor": 0
      },
      "text/plain": [
       "Epoch 13/30 - Training:   0%|          | 0/215 [00:00<?, ?batch/s]"
      ]
     },
     "metadata": {},
     "output_type": "display_data"
    },
    {
     "data": {
      "application/vnd.jupyter.widget-view+json": {
       "model_id": "4db60dfff7d046d197038e377ed0a828",
       "version_major": 2,
       "version_minor": 0
      },
      "text/plain": [
       "Epoch 13/30 - Validation:   0%|          | 0/76 [00:00<?, ?batch/s]"
      ]
     },
     "metadata": {},
     "output_type": "display_data"
    },
    {
     "name": "stdout",
     "output_type": "stream",
     "text": [
      "Epoch 13/30 - Mean Train IoU: 0.6006, Mean Train F1-score: 0.7200, Avg Train Loss: 0.5132, Mean Val IoU: 0.4674, Mean Val F1-score: 0.5742, Avg Val Loss: 0.7672\n",
      "Time: 121.90 seconds\n"
     ]
    },
    {
     "data": {
      "application/vnd.jupyter.widget-view+json": {
       "model_id": "d407ea184e2d4dd288617a1e2f5a01d9",
       "version_major": 2,
       "version_minor": 0
      },
      "text/plain": [
       "Epoch 14/30 - Training:   0%|          | 0/215 [00:00<?, ?batch/s]"
      ]
     },
     "metadata": {},
     "output_type": "display_data"
    },
    {
     "data": {
      "application/vnd.jupyter.widget-view+json": {
       "model_id": "4fd487cbebcf41b1a84d6cf037813ba5",
       "version_major": 2,
       "version_minor": 0
      },
      "text/plain": [
       "Epoch 14/30 - Validation:   0%|          | 0/76 [00:00<?, ?batch/s]"
      ]
     },
     "metadata": {},
     "output_type": "display_data"
    },
    {
     "name": "stdout",
     "output_type": "stream",
     "text": [
      "Epoch 14/30 - Mean Train IoU: 0.6203, Mean Train F1-score: 0.7356, Avg Train Loss: 0.4800, Mean Val IoU: 0.4856, Mean Val F1-score: 0.5977, Avg Val Loss: 0.7001\n",
      "Time: 120.64 seconds\n"
     ]
    },
    {
     "data": {
      "application/vnd.jupyter.widget-view+json": {
       "model_id": "7f1f41eaaf074bfd86bf33e95397d0b1",
       "version_major": 2,
       "version_minor": 0
      },
      "text/plain": [
       "Epoch 15/30 - Training:   0%|          | 0/215 [00:00<?, ?batch/s]"
      ]
     },
     "metadata": {},
     "output_type": "display_data"
    },
    {
     "data": {
      "application/vnd.jupyter.widget-view+json": {
       "model_id": "91ffd7e74e774f44bfd29ee4a9b0ec85",
       "version_major": 2,
       "version_minor": 0
      },
      "text/plain": [
       "Epoch 15/30 - Validation:   0%|          | 0/76 [00:00<?, ?batch/s]"
      ]
     },
     "metadata": {},
     "output_type": "display_data"
    },
    {
     "name": "stdout",
     "output_type": "stream",
     "text": [
      "Epoch 15/30 - Mean Train IoU: 0.6360, Mean Train F1-score: 0.7510, Avg Train Loss: 0.4570, Mean Val IoU: 0.5254, Mean Val F1-score: 0.6259, Avg Val Loss: 0.5678\n",
      "Time: 117.50 seconds\n"
     ]
    },
    {
     "data": {
      "application/vnd.jupyter.widget-view+json": {
       "model_id": "aea39101bacb424fb4682c36dad21471",
       "version_major": 2,
       "version_minor": 0
      },
      "text/plain": [
       "Epoch 16/30 - Training:   0%|          | 0/215 [00:00<?, ?batch/s]"
      ]
     },
     "metadata": {},
     "output_type": "display_data"
    },
    {
     "data": {
      "application/vnd.jupyter.widget-view+json": {
       "model_id": "bc4e101938c64bdd9bcd11013aafd85d",
       "version_major": 2,
       "version_minor": 0
      },
      "text/plain": [
       "Epoch 16/30 - Validation:   0%|          | 0/76 [00:00<?, ?batch/s]"
      ]
     },
     "metadata": {},
     "output_type": "display_data"
    },
    {
     "name": "stdout",
     "output_type": "stream",
     "text": [
      "Epoch 16/30 - Mean Train IoU: 0.6347, Mean Train F1-score: 0.7486, Avg Train Loss: 0.4517, Mean Val IoU: 0.5314, Mean Val F1-score: 0.6414, Avg Val Loss: 0.5993\n",
      "Time: 110.95 seconds\n"
     ]
    },
    {
     "data": {
      "application/vnd.jupyter.widget-view+json": {
       "model_id": "071dad7410984c40b05cedb509713694",
       "version_major": 2,
       "version_minor": 0
      },
      "text/plain": [
       "Epoch 17/30 - Training:   0%|          | 0/215 [00:00<?, ?batch/s]"
      ]
     },
     "metadata": {},
     "output_type": "display_data"
    },
    {
     "data": {
      "application/vnd.jupyter.widget-view+json": {
       "model_id": "dd4341777ca6446392c561d100626d6f",
       "version_major": 2,
       "version_minor": 0
      },
      "text/plain": [
       "Epoch 17/30 - Validation:   0%|          | 0/76 [00:00<?, ?batch/s]"
      ]
     },
     "metadata": {},
     "output_type": "display_data"
    },
    {
     "name": "stdout",
     "output_type": "stream",
     "text": [
      "Epoch 17/30 - Mean Train IoU: 0.6561, Mean Train F1-score: 0.7692, Avg Train Loss: 0.4218, Mean Val IoU: 0.5619, Mean Val F1-score: 0.6671, Avg Val Loss: 0.5142\n",
      "Time: 117.01 seconds\n",
      "Model saved!\n"
     ]
    },
    {
     "data": {
      "application/vnd.jupyter.widget-view+json": {
       "model_id": "d823399596b544d789f8c0778af81c1f",
       "version_major": 2,
       "version_minor": 0
      },
      "text/plain": [
       "Epoch 18/30 - Training:   0%|          | 0/215 [00:00<?, ?batch/s]"
      ]
     },
     "metadata": {},
     "output_type": "display_data"
    },
    {
     "data": {
      "application/vnd.jupyter.widget-view+json": {
       "model_id": "e940170721984e28b447a061e7bd85ca",
       "version_major": 2,
       "version_minor": 0
      },
      "text/plain": [
       "Epoch 18/30 - Validation:   0%|          | 0/76 [00:00<?, ?batch/s]"
      ]
     },
     "metadata": {},
     "output_type": "display_data"
    },
    {
     "name": "stdout",
     "output_type": "stream",
     "text": [
      "Epoch 18/30 - Mean Train IoU: 0.6645, Mean Train F1-score: 0.7750, Avg Train Loss: 0.4123, Mean Val IoU: 0.5421, Mean Val F1-score: 0.6466, Avg Val Loss: 0.5343\n",
      "Time: 117.84 seconds\n"
     ]
    },
    {
     "data": {
      "application/vnd.jupyter.widget-view+json": {
       "model_id": "570e9178432d4878944f223cbf3a9bc4",
       "version_major": 2,
       "version_minor": 0
      },
      "text/plain": [
       "Epoch 19/30 - Training:   0%|          | 0/215 [00:00<?, ?batch/s]"
      ]
     },
     "metadata": {},
     "output_type": "display_data"
    },
    {
     "data": {
      "application/vnd.jupyter.widget-view+json": {
       "model_id": "a8eea0b1924949638bcbca83ea14b2aa",
       "version_major": 2,
       "version_minor": 0
      },
      "text/plain": [
       "Epoch 19/30 - Validation:   0%|          | 0/76 [00:00<?, ?batch/s]"
      ]
     },
     "metadata": {},
     "output_type": "display_data"
    },
    {
     "name": "stdout",
     "output_type": "stream",
     "text": [
      "Epoch 19/30 - Mean Train IoU: 0.6647, Mean Train F1-score: 0.7737, Avg Train Loss: 0.4012, Mean Val IoU: 0.5488, Mean Val F1-score: 0.6598, Avg Val Loss: 0.5300\n",
      "Time: 116.60 seconds\n"
     ]
    },
    {
     "data": {
      "application/vnd.jupyter.widget-view+json": {
       "model_id": "9c11acc2f9e040209b59a3f4aff3d9d7",
       "version_major": 2,
       "version_minor": 0
      },
      "text/plain": [
       "Epoch 20/30 - Training:   0%|          | 0/215 [00:00<?, ?batch/s]"
      ]
     },
     "metadata": {},
     "output_type": "display_data"
    },
    {
     "data": {
      "application/vnd.jupyter.widget-view+json": {
       "model_id": "37f759e06f634521a3a68b834627f29e",
       "version_major": 2,
       "version_minor": 0
      },
      "text/plain": [
       "Epoch 20/30 - Validation:   0%|          | 0/76 [00:00<?, ?batch/s]"
      ]
     },
     "metadata": {},
     "output_type": "display_data"
    },
    {
     "name": "stdout",
     "output_type": "stream",
     "text": [
      "Epoch 20/30 - Mean Train IoU: 0.6760, Mean Train F1-score: 0.7825, Avg Train Loss: 0.3826, Mean Val IoU: 0.5628, Mean Val F1-score: 0.6710, Avg Val Loss: 0.5435\n",
      "Time: 113.35 seconds\n",
      "Model saved!\n"
     ]
    },
    {
     "data": {
      "application/vnd.jupyter.widget-view+json": {
       "model_id": "5a1f4a1e35ec406d97c89b1c75c58870",
       "version_major": 2,
       "version_minor": 0
      },
      "text/plain": [
       "Epoch 21/30 - Training:   0%|          | 0/215 [00:00<?, ?batch/s]"
      ]
     },
     "metadata": {},
     "output_type": "display_data"
    },
    {
     "data": {
      "application/vnd.jupyter.widget-view+json": {
       "model_id": "34cd07d23cb54b99ae2bc860d33711ad",
       "version_major": 2,
       "version_minor": 0
      },
      "text/plain": [
       "Epoch 21/30 - Validation:   0%|          | 0/76 [00:00<?, ?batch/s]"
      ]
     },
     "metadata": {},
     "output_type": "display_data"
    },
    {
     "name": "stdout",
     "output_type": "stream",
     "text": [
      "Epoch 21/30 - Mean Train IoU: 0.6871, Mean Train F1-score: 0.7923, Avg Train Loss: 0.3683, Mean Val IoU: 0.5339, Mean Val F1-score: 0.6373, Avg Val Loss: 0.5547\n",
      "Time: 117.72 seconds\n"
     ]
    },
    {
     "data": {
      "application/vnd.jupyter.widget-view+json": {
       "model_id": "f7866264af554a84ad9f6afa055fe1b6",
       "version_major": 2,
       "version_minor": 0
      },
      "text/plain": [
       "Epoch 22/30 - Training:   0%|          | 0/215 [00:00<?, ?batch/s]"
      ]
     },
     "metadata": {},
     "output_type": "display_data"
    },
    {
     "data": {
      "application/vnd.jupyter.widget-view+json": {
       "model_id": "942fc6d04dd54b44ba325c4210270e92",
       "version_major": 2,
       "version_minor": 0
      },
      "text/plain": [
       "Epoch 22/30 - Validation:   0%|          | 0/76 [00:00<?, ?batch/s]"
      ]
     },
     "metadata": {},
     "output_type": "display_data"
    },
    {
     "name": "stdout",
     "output_type": "stream",
     "text": [
      "Epoch 22/30 - Mean Train IoU: 0.6972, Mean Train F1-score: 0.8014, Avg Train Loss: 0.3548, Mean Val IoU: 0.5875, Mean Val F1-score: 0.6936, Avg Val Loss: 0.4829\n",
      "Time: 117.67 seconds\n",
      "Model saved!\n"
     ]
    },
    {
     "data": {
      "application/vnd.jupyter.widget-view+json": {
       "model_id": "1e9f95b26912421787038a0a931787cd",
       "version_major": 2,
       "version_minor": 0
      },
      "text/plain": [
       "Epoch 23/30 - Training:   0%|          | 0/215 [00:00<?, ?batch/s]"
      ]
     },
     "metadata": {},
     "output_type": "display_data"
    },
    {
     "data": {
      "application/vnd.jupyter.widget-view+json": {
       "model_id": "bf5d384941044210a6af8716ad77c8a0",
       "version_major": 2,
       "version_minor": 0
      },
      "text/plain": [
       "Epoch 23/30 - Validation:   0%|          | 0/76 [00:00<?, ?batch/s]"
      ]
     },
     "metadata": {},
     "output_type": "display_data"
    },
    {
     "name": "stdout",
     "output_type": "stream",
     "text": [
      "Epoch 23/30 - Mean Train IoU: 0.6843, Mean Train F1-score: 0.7909, Avg Train Loss: 0.3829, Mean Val IoU: 0.5668, Mean Val F1-score: 0.6728, Avg Val Loss: 0.5215\n",
      "Time: 117.06 seconds\n"
     ]
    },
    {
     "data": {
      "application/vnd.jupyter.widget-view+json": {
       "model_id": "29d8de0ca4734dfda740518a93cc8216",
       "version_major": 2,
       "version_minor": 0
      },
      "text/plain": [
       "Epoch 24/30 - Training:   0%|          | 0/215 [00:00<?, ?batch/s]"
      ]
     },
     "metadata": {},
     "output_type": "display_data"
    },
    {
     "data": {
      "application/vnd.jupyter.widget-view+json": {
       "model_id": "f316f52fa78646acb1ced3a1f9cb60c8",
       "version_major": 2,
       "version_minor": 0
      },
      "text/plain": [
       "Epoch 24/30 - Validation:   0%|          | 0/76 [00:00<?, ?batch/s]"
      ]
     },
     "metadata": {},
     "output_type": "display_data"
    },
    {
     "name": "stdout",
     "output_type": "stream",
     "text": [
      "Epoch 24/30 - Mean Train IoU: 0.7260, Mean Train F1-score: 0.8239, Avg Train Loss: 0.3120, Mean Val IoU: 0.5979, Mean Val F1-score: 0.7032, Avg Val Loss: 0.4752\n",
      "Time: 115.01 seconds\n",
      "Model saved!\n"
     ]
    },
    {
     "data": {
      "application/vnd.jupyter.widget-view+json": {
       "model_id": "47bd3cb32c4848b1860619f1db34eacf",
       "version_major": 2,
       "version_minor": 0
      },
      "text/plain": [
       "Epoch 25/30 - Training:   0%|          | 0/215 [00:00<?, ?batch/s]"
      ]
     },
     "metadata": {},
     "output_type": "display_data"
    },
    {
     "data": {
      "application/vnd.jupyter.widget-view+json": {
       "model_id": "66c7e735d2d641a99fc8e69fa8b39384",
       "version_major": 2,
       "version_minor": 0
      },
      "text/plain": [
       "Epoch 25/30 - Validation:   0%|          | 0/76 [00:00<?, ?batch/s]"
      ]
     },
     "metadata": {},
     "output_type": "display_data"
    },
    {
     "name": "stdout",
     "output_type": "stream",
     "text": [
      "Epoch 25/30 - Mean Train IoU: 0.7465, Mean Train F1-score: 0.8398, Avg Train Loss: 0.2836, Mean Val IoU: 0.5463, Mean Val F1-score: 0.6520, Avg Val Loss: 0.5758\n",
      "Time: 114.49 seconds\n"
     ]
    },
    {
     "data": {
      "application/vnd.jupyter.widget-view+json": {
       "model_id": "451cd3dd511b4f99ac1e91b3dc34c86b",
       "version_major": 2,
       "version_minor": 0
      },
      "text/plain": [
       "Epoch 26/30 - Training:   0%|          | 0/215 [00:00<?, ?batch/s]"
      ]
     },
     "metadata": {},
     "output_type": "display_data"
    },
    {
     "data": {
      "application/vnd.jupyter.widget-view+json": {
       "model_id": "95634abe80a341c488d29f747739b215",
       "version_major": 2,
       "version_minor": 0
      },
      "text/plain": [
       "Epoch 26/30 - Validation:   0%|          | 0/76 [00:00<?, ?batch/s]"
      ]
     },
     "metadata": {},
     "output_type": "display_data"
    },
    {
     "name": "stdout",
     "output_type": "stream",
     "text": [
      "Epoch 26/30 - Mean Train IoU: 0.7435, Mean Train F1-score: 0.8373, Avg Train Loss: 0.2852, Mean Val IoU: 0.5925, Mean Val F1-score: 0.6983, Avg Val Loss: 0.5135\n",
      "Time: 114.08 seconds\n"
     ]
    },
    {
     "data": {
      "application/vnd.jupyter.widget-view+json": {
       "model_id": "f24a46c8759745699d304478a3d55912",
       "version_major": 2,
       "version_minor": 0
      },
      "text/plain": [
       "Epoch 27/30 - Training:   0%|          | 0/215 [00:00<?, ?batch/s]"
      ]
     },
     "metadata": {},
     "output_type": "display_data"
    },
    {
     "data": {
      "application/vnd.jupyter.widget-view+json": {
       "model_id": "33696165c7034bfbbd503e57f0030b3c",
       "version_major": 2,
       "version_minor": 0
      },
      "text/plain": [
       "Epoch 27/30 - Validation:   0%|          | 0/76 [00:00<?, ?batch/s]"
      ]
     },
     "metadata": {},
     "output_type": "display_data"
    },
    {
     "name": "stdout",
     "output_type": "stream",
     "text": [
      "Epoch 27/30 - Mean Train IoU: 0.7439, Mean Train F1-score: 0.8361, Avg Train Loss: 0.2776, Mean Val IoU: 0.5755, Mean Val F1-score: 0.6836, Avg Val Loss: 0.5537\n",
      "Time: 117.70 seconds\n"
     ]
    },
    {
     "data": {
      "application/vnd.jupyter.widget-view+json": {
       "model_id": "dc6f350f52904476a9e6c4b6c5cfbafd",
       "version_major": 2,
       "version_minor": 0
      },
      "text/plain": [
       "Epoch 28/30 - Training:   0%|          | 0/215 [00:00<?, ?batch/s]"
      ]
     },
     "metadata": {},
     "output_type": "display_data"
    },
    {
     "data": {
      "application/vnd.jupyter.widget-view+json": {
       "model_id": "b5399ceebbd44098985a61a03522aae0",
       "version_major": 2,
       "version_minor": 0
      },
      "text/plain": [
       "Epoch 28/30 - Validation:   0%|          | 0/76 [00:00<?, ?batch/s]"
      ]
     },
     "metadata": {},
     "output_type": "display_data"
    },
    {
     "name": "stdout",
     "output_type": "stream",
     "text": [
      "Epoch 28/30 - Mean Train IoU: 0.7443, Mean Train F1-score: 0.8353, Avg Train Loss: 0.2765, Mean Val IoU: 0.5869, Mean Val F1-score: 0.6930, Avg Val Loss: 0.5547\n",
      "Time: 116.98 seconds\n"
     ]
    },
    {
     "data": {
      "application/vnd.jupyter.widget-view+json": {
       "model_id": "566ae56342a4444b803eb4e0c8fe298d",
       "version_major": 2,
       "version_minor": 0
      },
      "text/plain": [
       "Epoch 29/30 - Training:   0%|          | 0/215 [00:00<?, ?batch/s]"
      ]
     },
     "metadata": {},
     "output_type": "display_data"
    },
    {
     "data": {
      "application/vnd.jupyter.widget-view+json": {
       "model_id": "37213057b437411881baa81983c68719",
       "version_major": 2,
       "version_minor": 0
      },
      "text/plain": [
       "Epoch 29/30 - Validation:   0%|          | 0/76 [00:00<?, ?batch/s]"
      ]
     },
     "metadata": {},
     "output_type": "display_data"
    },
    {
     "name": "stdout",
     "output_type": "stream",
     "text": [
      "Epoch 29/30 - Mean Train IoU: 0.7096, Mean Train F1-score: 0.8069, Avg Train Loss: 0.3377, Mean Val IoU: 0.5424, Mean Val F1-score: 0.6485, Avg Val Loss: 0.6012\n",
      "Time: 111.35 seconds\n"
     ]
    },
    {
     "data": {
      "application/vnd.jupyter.widget-view+json": {
       "model_id": "722324becdd840388fb6d77d9c0d6005",
       "version_major": 2,
       "version_minor": 0
      },
      "text/plain": [
       "Epoch 30/30 - Training:   0%|          | 0/215 [00:00<?, ?batch/s]"
      ]
     },
     "metadata": {},
     "output_type": "display_data"
    },
    {
     "data": {
      "application/vnd.jupyter.widget-view+json": {
       "model_id": "50df0483af824e84953a9e632cfbb3b5",
       "version_major": 2,
       "version_minor": 0
      },
      "text/plain": [
       "Epoch 30/30 - Validation:   0%|          | 0/76 [00:00<?, ?batch/s]"
      ]
     },
     "metadata": {},
     "output_type": "display_data"
    },
    {
     "name": "stdout",
     "output_type": "stream",
     "text": [
      "Epoch 30/30 - Mean Train IoU: 0.7465, Mean Train F1-score: 0.8388, Avg Train Loss: 0.2736, Mean Val IoU: 0.5323, Mean Val F1-score: 0.6439, Avg Val Loss: 0.9556\n",
      "Time: 114.46 seconds\n",
      "Estimated total training time: 57.23 minutes\n"
     ]
    }
   ],
   "source": [
    "# COMPLETE FINAL VERSION ************************************\n",
    "\n",
    "# Function to compute IoU per class\n",
    "def compute_iou(pred, target, num_classes):\n",
    "    iou_list = []\n",
    "    for cls in range(num_classes):\n",
    "        pred_cls = (pred == cls).float()\n",
    "        target_cls = (target == cls).float()\n",
    "        \n",
    "        intersection = torch.sum(pred_cls * target_cls)\n",
    "        union = torch.sum(pred_cls) + torch.sum(target_cls) - intersection\n",
    "        \n",
    "        iou = intersection / (union + 1e-7)  # Adding epsilon to avoid division by zero\n",
    "        iou_list.append(iou.item())\n",
    "    \n",
    "    return iou_list\n",
    "\n",
    "# Function to compute F1-score per class\n",
    "def compute_f1_score(pred, target, num_classes):\n",
    "    f1_scores = []\n",
    "    for cls in range(num_classes):\n",
    "        pred_cls = (pred == cls).float()\n",
    "        target_cls = (target == cls).float()\n",
    "        \n",
    "        intersection = torch.sum(pred_cls * target_cls)\n",
    "        precision = intersection / (torch.sum(pred_cls) + 1e-7)\n",
    "        recall = intersection / (torch.sum(target_cls) + 1e-7)\n",
    "        \n",
    "        f1 = 2 * (precision * recall) / (precision + recall + 1e-7)\n",
    "        f1_scores.append(f1.item())\n",
    "    \n",
    "    return f1_scores\n",
    "\n",
    "# Initialize DataFrame to store logs\n",
    "logs_df = pd.DataFrame(columns=[\n",
    "    'Epoch', 'Train_Loss', 'Train_IoU_per_Class', 'Train_Mean_IoU',\n",
    "    'Train_F1_per_Class', 'Train_Mean_F1',\n",
    "    'Val_Loss', 'Val_IoU_per_Class', 'Val_Mean_IoU',\n",
    "    'Val_F1_per_Class', 'Val_Mean_F1'\n",
    "])\n",
    "\n",
    "num_classes = 6\n",
    "num_epochs = 30  # Adjust as needed\n",
    "\n",
    "\n",
    "# Define your model, loss function, and optimizer\n",
    "segmodel = smp.Unet(encoder_name='resnet34', encoder_weights='imagenet', classes=num_classes, activation=None).to(device)\n",
    "# Define your model with dropout\n",
    "#segmodel = smp.Unet(BACKBONE, classes=num_classes, activation=None, encoder_weights=None, dropout=dropout_rate).to(device)\n",
    "\n",
    "criterion = torch.nn.CrossEntropyLoss()\n",
    "#optimizer = torch.optim.Adam(segmodel.parameters(), lr=0.001, weight_decay=1e-4)\n",
    "optimizer = torch.optim.Adam(segmodel.parameters(), lr=0.001)\n",
    "\n",
    "# Initialize DataFrame to store logs\n",
    "logs_df = pd.DataFrame(columns=['Epoch',\n",
    "                                'Train_Loss',\n",
    "                                'Train_IoU_per_Class',\n",
    "                                'Train_Mean_IoU',\n",
    "                                'Train_F1_per_Class',\n",
    "                                'Train_Mean_F1',\n",
    "                                'Val_Loss',\n",
    "                                'Val_IoU_per_Class',\n",
    "                                'Val_Mean_IoU',\n",
    "                                'Val_F1_per_Class',\n",
    "                                'Val_Mean_F1'])\n",
    "# Train model\n",
    "max_score = 0\n",
    "\n",
    "# Training and validation loop\n",
    "for epoch in range(num_epochs):\n",
    "    start_time = time.time()  # Track start time\n",
    "    # Training\n",
    "    segmodel.train()\n",
    "    train_loss = 0\n",
    "    train_iou_scores = []\n",
    "    train_f1_scores = []\n",
    "    \n",
    "    # Progress bar for training\n",
    "    with tqdm(total=len(train_data_loader), desc=f'Epoch {epoch + 1}/{num_epochs} - Training', unit='batch') as pbar:\n",
    "        for batch in train_data_loader:\n",
    "            x, y = batch\n",
    "            x, y = x.to(device), y.to(device)\n",
    "            \n",
    "            optimizer.zero_grad()\n",
    "            pred = segmodel(x)\n",
    "            loss = criterion(pred, y)\n",
    "            loss.backward()\n",
    "            optimizer.step()\n",
    "            \n",
    "            train_loss += loss.item()\n",
    "            \n",
    "            # Calculate IoU and F1-score\n",
    "            pred_classes = torch.argmax(pred, dim=1)\n",
    "            iou = compute_iou(pred_classes, y, num_classes)\n",
    "            f1_score = compute_f1_score(pred_classes, y, num_classes)\n",
    "            \n",
    "            train_iou_scores.append(iou)\n",
    "            train_f1_scores.append(f1_score)\n",
    "            \n",
    "            pbar.set_postfix({'Train_Loss': loss.item(), 'IoU': np.mean(iou), 'F1': np.mean(f1_score)})\n",
    "            pbar.update(1)\n",
    "    \n",
    "    # Calculate mean metrics for training\n",
    "    avg_train_iou = np.mean(train_iou_scores, axis=0)\n",
    "    mean_train_iou = np.mean(avg_train_iou)\n",
    "    avg_train_f1 = np.mean(train_f1_scores, axis=0)\n",
    "    mean_train_f1 = np.mean(avg_train_f1)\n",
    "    avg_train_loss = train_loss / len(train_data_loader)\n",
    "    \n",
    "    # Validation\n",
    "    segmodel.eval()\n",
    "    val_loss = 0\n",
    "    val_iou_scores = []\n",
    "    val_f1_scores = []\n",
    "    \n",
    "    with torch.no_grad():\n",
    "        # Progress bar for validation\n",
    "        with tqdm(total=len(val_data_loader), desc=f'Epoch {epoch + 1}/{num_epochs} - Validation', unit='batch') as pbar:\n",
    "            for batch in val_data_loader:\n",
    "                x, y = batch\n",
    "                x, y = x.to(device), y.to(device)\n",
    "                pred = segmodel(x)\n",
    "                \n",
    "                loss = criterion(pred, y)\n",
    "                val_loss += loss.item()\n",
    "                \n",
    "                # Calculate IoU and F1-score\n",
    "                pred_classes = torch.argmax(pred, dim=1)\n",
    "                iou = compute_iou(pred_classes, y, num_classes)\n",
    "                f1_score = compute_f1_score(pred_classes, y, num_classes)\n",
    "                \n",
    "                val_iou_scores.append(iou)\n",
    "                val_f1_scores.append(f1_score)\n",
    "                \n",
    "                pbar.set_postfix({'Val_Loss': loss.item(), 'IoU': np.mean(iou), 'F1': np.mean(f1_score)})\n",
    "                pbar.update(1)\n",
    "    \n",
    "    # Calculate mean metrics for validation\n",
    "    avg_val_iou = np.mean(val_iou_scores, axis=0)\n",
    "    mean_val_iou = np.mean(avg_val_iou)\n",
    "    avg_val_f1 = np.mean(val_f1_scores, axis=0)\n",
    "    mean_val_f1 = np.mean(avg_val_f1)\n",
    "    avg_val_loss = val_loss / len(val_data_loader)\n",
    "    \n",
    "    # Save logs to DataFrame\n",
    "    new_log = {\n",
    "        'Epoch': epoch + 1,\n",
    "        'Train_Loss': avg_train_loss,\n",
    "        'Train_IoU_per_Class': avg_train_iou,\n",
    "        'Train_Mean_IoU': mean_train_iou,\n",
    "        'Train_F1_per_Class': avg_train_f1,\n",
    "        'Train_Mean_F1': mean_train_f1,\n",
    "        'Val_Loss': avg_val_loss,\n",
    "        'Val_IoU_per_Class': avg_val_iou,\n",
    "        'Val_Mean_IoU': mean_val_iou,\n",
    "        'Val_F1_per_Class': avg_val_f1,\n",
    "        'Val_Mean_F1': mean_val_f1\n",
    "    }\n",
    "    # Convert the new_row dictionary to a DataFrame\n",
    "    new_log_df = pd.DataFrame([new_log])\n",
    "    # Concatenate the new_row_df to logs_df\n",
    "    logs_df = pd.concat([logs_df, new_log_df], ignore_index=True)\n",
    "    \n",
    "    # Print metrics\n",
    "    print(f\"Epoch {epoch + 1}/{num_epochs} - \"\n",
    "          f\"Mean Train IoU: {mean_train_iou:.4f}, \"\n",
    "          f\"Mean Train F1-score: {mean_train_f1:.4f}, \"\n",
    "          f\"Avg Train Loss: {avg_train_loss:.4f}, \"\n",
    "          f\"Mean Val IoU: {mean_val_iou:.4f}, \"\n",
    "          f\"Mean Val F1-score: {mean_val_f1:.4f}, \"\n",
    "          f\"Avg Val Loss: {avg_val_loss:.4f}\")\n",
    "\n",
    "    # Calculate and print time for each epoch\n",
    "    epoch_time = time.time() - start_time\n",
    "    print(f\"Time: {epoch_time:.2f} seconds\")\n",
    "\n",
    "    # Save the model if it's the best one\n",
    "    if mean_val_iou > max_score:\n",
    "        max_score = mean_val_iou\n",
    "        torch.save(segmodel.state_dict(), './acdc_best_model_unet_multiclass_merged30e.pth')\n",
    "        print('Model saved!')\n",
    "\n",
    "total_time = epoch_time * num_epochs\n",
    "print(f\"Estimated total training time: {total_time/60:.2f} minutes\")\n",
    "# Save DataFrame to CSV\n",
    "logs_df.to_csv('acdc_best_model_unet_multiclass_merged30e.csv', index=False)\n"
   ]
  },
  {
   "cell_type": "code",
   "execution_count": 17,
   "id": "b9fa1dd7-f6ed-4bf1-bba5-899fb04fc6a9",
   "metadata": {},
   "outputs": [
    {
     "name": "stdout",
     "output_type": "stream",
     "text": [
      "Loaded UNet model from this run.\n"
     ]
    }
   ],
   "source": [
    "# load best saved model checkpoint from the current run\n",
    "if os.path.exists('./acdc_best_model_unet_multiclass_merged30e.pth'):\n",
    "    best_model = torch.load('./acdc_best_model_unet_multiclass_merged30e.pth', map_location=device)\n",
    "    print('Loaded UNet model from this run.')\n",
    "else:\n",
    "    print(\"There is not a saved model\")"
   ]
  },
  {
   "cell_type": "code",
   "execution_count": 18,
   "id": "c2ed9970-8083-43bd-8ecb-4d558485adf3",
   "metadata": {},
   "outputs": [
    {
     "data": {
      "image/png": "[encoded data removed]",
      "text/plain": [
       "<Figure size 2000x800 with 1 Axes>"
      ]
     },
     "metadata": {},
     "output_type": "display_data"
    }
   ],
   "source": [
    "plt.figure(figsize=(20,8))\n",
    "plt.plot(logs_df.Epoch.tolist(), logs_df.Train_Loss.tolist(), lw=3, label = 'Training')\n",
    "plt.plot(logs_df.Epoch.tolist(), logs_df.Val_Loss.tolist(), lw=3, label = 'Validation')\n",
    "plt.xlabel('Epochs', fontsize=21)\n",
    "plt.ylabel('Loss', fontsize=21)\n",
    "plt.title('Loss Plot', fontsize=21)\n",
    "plt.legend(loc='best', fontsize=16)\n",
    "plt.grid()\n",
    "plt.savefig('Loss.png')\n",
    "plt.show()"
   ]
  },
  {
   "cell_type": "code",
   "execution_count": 19,
   "id": "e13e0b48",
   "metadata": {},
   "outputs": [
    {
     "data": {
      "text/plain": [
       "11"
      ]
     },
     "execution_count": 19,
     "metadata": {},
     "output_type": "execute_result"
    }
   ],
   "source": [
    "5+6"
   ]
  },
  {
   "cell_type": "code",
   "execution_count": null,
   "id": "7112d394-f318-44bc-bfa5-a7d44c82324d",
   "metadata": {},
   "outputs": [],
   "source": []
  }
 ],
 "metadata": {
  "kernelspec": {
   "display_name": "Python 3 (ipykernel)",
   "language": "python",
   "name": "python3"
  },
  "language_info": {
   "codemirror_mode": {
    "name": "ipython",
    "version": 3
   },
   "file_extension": ".py",
   "mimetype": "text/x-python",
   "name": "python",
   "nbconvert_exporter": "python",
   "pygments_lexer": "ipython3",
   "version": "3.9.19"
  }
 },
 "nbformat": 4,
 "nbformat_minor": 5
}
