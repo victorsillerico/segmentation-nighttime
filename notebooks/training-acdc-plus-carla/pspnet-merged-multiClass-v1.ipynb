{
 "cells": [
  {
   "cell_type": "code",
   "execution_count": 1,
   "id": "26ba47b3-d604-405b-a367-999a6bd0d117",
   "metadata": {},
   "outputs": [],
   "source": [
    "import os, cv2, time\n",
    "import numpy as np\n",
    "import pandas as pd\n",
    "import random, tqdm\n",
    "import seaborn as sns\n",
    "import matplotlib.pyplot as plt\n",
    "%matplotlib inline\n",
    "import warnings\n",
    "warnings.filterwarnings(\"ignore\")\n",
    "\n",
    "import torch\n",
    "import torch.nn as nn\n",
    "from torch.utils.data import DataLoader\n",
    "from torch.utils.data import Dataset\n",
    "import albumentations as album\n",
    "\n",
    "import segmentation_models_pytorch as smp\n",
    "from segmentation_models_pytorch import utils\n",
    "\n",
    "from torchvision import transforms\n",
    "\n",
    "from PIL import Image\n",
    "\n",
    "from sklearn.model_selection import train_test_split\n",
    "\n",
    "from tqdm.notebook import tqdm"
   ]
  },
  {
   "cell_type": "code",
   "execution_count": 2,
   "id": "6bb0a8ac-0c7f-4b46-bc07-2e768e772664",
   "metadata": {},
   "outputs": [],
   "source": [
    "#with torch.no_grad():\n",
    "#    torch.cuda.empty_cache()"
   ]
  },
  {
   "cell_type": "code",
   "execution_count": 3,
   "id": "e23ebd26-dc5b-4c50-a692-6d418327dab2",
   "metadata": {},
   "outputs": [],
   "source": [
    "def create_paths(dataset_dir):\n",
    "    rgb_files = []\n",
    "    mask_files = []\n",
    "    for root, dirs, files in os.walk(dataset_dir):\n",
    "        for name in files:\n",
    "            f = os.path.join(root, name)\n",
    "            if 'labelIds' in f:\n",
    "                mask_files.append(f)\n",
    "            elif 'rgb_anon' in f:\n",
    "                rgb_files.append(f)\n",
    "            else:\n",
    "                pass\n",
    "    return sorted(rgb_files), sorted(mask_files)"
   ]
  },
  {
   "cell_type": "code",
   "execution_count": 4,
   "id": "287abf8a-5f53-4d27-abb3-45312abedf3c",
   "metadata": {},
   "outputs": [],
   "source": [
    "class customDataset(Dataset):\n",
    "    \"\"\" Custom Dataset for multiclass semantic segmentation.\n",
    "\n",
    "    Args:\n",
    "        df (pd.DataFrame): DataFrame containing paths to images and masks.\n",
    "        class_list (list): List of class IDs to extract from segmentation mask.\n",
    "        preprocessing (callable, optional): Data preprocessing function.\n",
    "    \"\"\"\n",
    "    \n",
    "    def __init__(self, df, class_list=None, augmentation=None, preprocessing=None):\n",
    "        self.image_paths = df['rgb_file'].tolist()\n",
    "        self.mask_paths = df['mask_file'].tolist()\n",
    "\n",
    "        self.class_list = class_list\n",
    "        self.augmentation = augmentation\n",
    "        self.preprocessing = preprocessing\n",
    "\n",
    "        # Original Cityscapes IDs to be mapped to your 6 classes\n",
    "        # [7, 11, 21, 26, 23, 24] # ['road', 'building', 'vegetation', 'car', 'sky', 'person']\n",
    "        self.cityscapes_ids = [7, 11, 21, 26, 23]  # Target classes\n",
    "        # Mapping to new class indices [0, 1, 2, 3, 4, 5]\n",
    "        self.new_class_mapping = {7: 1, 11: 2, 21: 3, 26: 4, 23: 5}   \n",
    "        # Define a background class ID\n",
    "        #self.background_class_id = -1  # Or any other value not used by your classes\n",
    "\n",
    "    def __getitem__(self, i):\n",
    "        image = cv2.cvtColor(cv2.imread(self.image_paths[i]), cv2.COLOR_BGR2RGB)\n",
    "        mask = cv2.cvtColor(cv2.imread(self.mask_paths[i]), cv2.COLOR_BGR2GRAY)  # Read mask as grayscale\n",
    "\n",
    "        # Resize images and masks (640, 480)/(1920, 1080)\n",
    "        image = cv2.resize(image, (1920, 1056), interpolation=cv2.INTER_LINEAR)\n",
    "        mask = cv2.resize(mask, (1920, 1056), interpolation=cv2.INTER_NEAREST)\n",
    "\n",
    "        image = np.asarray(image).astype('float')\n",
    "\n",
    "        # apply augmentations\n",
    "        if self.augmentation:\n",
    "            sample = self.augmentation(image=image, mask=mask)\n",
    "            image, mask = sample['image'], sample['mask']\n",
    "        \n",
    "        if self.preprocessing:\n",
    "            image = self.preprocessing(image)\n",
    "            image = torch.as_tensor(image)\n",
    "        else:\n",
    "            # Normalize image to [0, 1]\n",
    "            image = torch.as_tensor(image) / 255.0\n",
    "        image = image.permute(2,0,1)\n",
    "\n",
    "        # Convert mask to tensor\n",
    "        #mask = torch.as_tensor(mask, dtype=torch.uint8)\n",
    "        \n",
    "        # Map original Cityscapes IDs to the new class indices\n",
    "        mask_mapped = np.zeros_like(mask, dtype=np.uint8)  # Initialize new mask\n",
    "        for original_id, new_id in self.new_class_mapping.items():\n",
    "            mask_mapped[mask == original_id] = new_id\n",
    "\n",
    "        # Convert mask to tensor with the mapped classes\n",
    "        mask_tensor = torch.as_tensor(mask_mapped, dtype=torch.long)\n",
    "\n",
    "        # -------------------\n",
    "        # Convert mask to tensor and remap class IDs\n",
    "        #mask = torch.as_tensor(mask, dtype=torch.uint8)\n",
    "        #mask_mapped = torch.full_like(mask, self.background_class_id, dtype=torch.long)  # Initialize new mask with background class ID\n",
    "        \n",
    "        #for original_id, new_id in self.new_class_mapping.items():\n",
    "        #    mask_mapped[mask == original_id] = new_id\n",
    "\n",
    "        return image.float(), mask_tensor\n",
    "\n",
    "    def __len__(self):\n",
    "        return len(self.image_paths)\n"
   ]
  },
  {
   "cell_type": "code",
   "execution_count": 5,
   "id": "8928ea85-a83b-462a-9fae-b72aab110809",
   "metadata": {},
   "outputs": [
    {
     "name": "stdout",
     "output_type": "stream",
     "text": [
      "carla-shape = (1000, 2) --- train-shape=(800, 2) --- val-shape=(200, 2)\n"
     ]
    }
   ],
   "source": [
    "# for Carla-Night dataset\n",
    "dataset_carla_dir = '/home/vhsillerico/Documents/datasets/carla-night'\n",
    "imgs_rgb, imgs_mask = create_paths(dataset_carla_dir)\n",
    "df_carla = pd.DataFrame({'rgb_file': imgs_rgb, 'mask_file': imgs_mask})\n",
    "df_carla.sort_values(by='rgb_file',inplace=True)\n",
    "df_carla.reset_index(drop=True, inplace=True)\n",
    "df_carla = df_carla.sample(frac=1).reset_index(drop=True)\n",
    "df_carla.head(5)\n",
    "\n",
    "# Split data 85% for trainig and 15% for validation\n",
    "df_carla_train, df_carla_val = train_test_split(df_carla, test_size=0.20)\n",
    "\n",
    "df_carla_train.reset_index(drop=True, inplace=True)\n",
    "df_carla_val.reset_index(drop=True, inplace=True)\n",
    "\n",
    "print(f'carla-shape = {df_carla.shape} --- train-shape={df_carla_train.shape} --- val-shape={df_carla_val.shape}')"
   ]
  },
  {
   "cell_type": "code",
   "execution_count": 6,
   "id": "4126ff70-e850-4ec3-a13c-5c9812db1981",
   "metadata": {},
   "outputs": [
    {
     "name": "stdout",
     "output_type": "stream",
     "text": [
      "acdc-shape = (506, 2) --- train-shape=(430, 2) --- val-shape=(76, 2)\n"
     ]
    }
   ],
   "source": [
    "# for ACDC-Night dataset\n",
    "dataset_acdc_dir = '/home/vhsillerico/Documents/datasets/acdc-night'\n",
    "imgs_acdc_rgb, imgs_acdc_mask = create_paths(dataset_acdc_dir)\n",
    "df_acdc = pd.DataFrame({'rgb_file': imgs_acdc_rgb, 'mask_file': imgs_acdc_mask})\n",
    "df_acdc.sort_values(by='rgb_file',inplace=True)\n",
    "df_acdc.reset_index(drop=True, inplace=True)\n",
    "df_acdc = df_acdc.sample(frac=1).reset_index(drop=True)\n",
    "df_acdc.head(5)\n",
    "\n",
    "# Split data 85% for trainig and 15% for validation\n",
    "df_acdc_train, df_acdc_val = train_test_split(df_acdc, test_size=0.15)\n",
    "\n",
    "df_acdc_train.reset_index(drop=True, inplace=True)\n",
    "df_acdc_val.reset_index(drop=True, inplace=True)\n",
    "\n",
    "print(f'acdc-shape = {df_acdc.shape} --- train-shape={df_acdc_train.shape} --- val-shape={df_acdc_val.shape}')"
   ]
  },
  {
   "cell_type": "code",
   "execution_count": 7,
   "id": "e09c8888-0065-44e7-badf-7f85df5c1756",
   "metadata": {},
   "outputs": [
    {
     "name": "stdout",
     "output_type": "stream",
     "text": [
      "merged-train-shape = (1230, 2)\n"
     ]
    }
   ],
   "source": [
    "# Concatenate the datasets (ACDC + CARLA)\n",
    "# Training set\n",
    "df_merged_train = pd.concat([df_carla_train, df_acdc_train], ignore_index=True)\n",
    "df_merged_train = df_merged_train.sample(frac=1).reset_index(drop=True)\n",
    "#df_merged_train.head(20)\n",
    "print(f'merged-train-shape = {df_merged_train.shape}')"
   ]
  },
  {
   "cell_type": "code",
   "execution_count": 8,
   "id": "2dc11071-2b00-4c07-9aa4-4d8b83140591",
   "metadata": {},
   "outputs": [
    {
     "name": "stdout",
     "output_type": "stream",
     "text": [
      "merged-val-shape = (276, 2)\n"
     ]
    }
   ],
   "source": [
    "# Validation set\n",
    "df_merged_val = pd.concat([df_carla_val, df_acdc_val], ignore_index=True)\n",
    "df_merged_val = df_merged_val.sample(frac=1).reset_index(drop=True)\n",
    "#df_merged_val.head(20)\n",
    "print(f'merged-val-shape = {df_merged_val.shape}')"
   ]
  },
  {
   "cell_type": "code",
   "execution_count": 9,
   "id": "c480b83e-8bd6-460a-bf3f-095a807658b4",
   "metadata": {},
   "outputs": [],
   "source": [
    "selected_class_list = [7, 11, 21, 26, 23] # ['road', 'building', 'vegetation', 'car', 'sky', 'person']"
   ]
  },
  {
   "cell_type": "code",
   "execution_count": 10,
   "id": "4c01e1af-775e-4ed8-a335-eb6eadf2725d",
   "metadata": {},
   "outputs": [],
   "source": [
    "#activation = torch.nn.Softmax(dim=1)\n",
    "\n",
    "device = torch.device('cuda:1' if torch.cuda.is_available() else 'cpu')\n",
    "device\n",
    "\n",
    "BACKBONE = 'resnext50_32x4d'\n",
    "#segmodel = smp.Unet(BACKBONE, classes=6, activation='softmax2d').to(device)\n",
    "\n",
    "#segmodel = smp.Unet(BACKBONE, classes=6, activation=None).to(device)\n",
    "\n",
    "preprocess_input = smp.encoders.get_preprocessing_fn(BACKBONE, pretrained='imagenet')"
   ]
  },
  {
   "cell_type": "code",
   "execution_count": 11,
   "id": "04309836",
   "metadata": {},
   "outputs": [],
   "source": [
    "# image dimensions: (480, 640) (H,W)\n",
    "global h_aux, w_aux\n",
    "h_aux = 1056\n",
    "w_aux = 1920\n",
    "h_crop_size = 1056\n",
    "w_crop_size = 1920\n",
    "def get_training_augmentation():\n",
    "    train_transform = [\n",
    "        album.RandomCrop(height=h_crop_size, width=w_crop_size, always_apply=True),\n",
    "        album.PadIfNeeded(min_height=480, min_width=640, always_apply=True, border_mode=0, value=(0, 0, 0)),\n",
    "        album.HorizontalFlip(p=0.75),\n",
    "    ]\n",
    "    return album.Compose(train_transform)\n",
    "\n",
    "\n",
    "def get_validation_augmentation():\n",
    "    # Add sufficient padding to ensure image is divisible by 32\n",
    "    test_transform = [\n",
    "        #album.PadIfNeeded(min_height=1536, min_width=1536, always_apply=True, border_mode=0, value=(0, 0, 0)),\n",
    "        album.PadIfNeeded(min_height=h_aux, min_width=w_aux, always_apply=True, border_mode=0, value=(0, 0, 0)),\n",
    "    ]\n",
    "    return album.Compose(test_transform)"
   ]
  },
  {
   "cell_type": "code",
   "execution_count": 12,
   "id": "692bcf86-8a00-4914-8b80-2fa24bf2e1fd",
   "metadata": {},
   "outputs": [
    {
     "name": "stdout",
     "output_type": "stream",
     "text": [
      "torch.Size([3, 1056, 1920]) torch.Size([1056, 1920])\n"
     ]
    }
   ],
   "source": [
    "# configure dataset for training\n",
    "train_data = customDataset(df_merged_train, class_list=selected_class_list, preprocessing=preprocess_input)\n",
    "img_train, masks_train = train_data[1]\n",
    "print(img_train.shape, masks_train.shape)"
   ]
  },
  {
   "cell_type": "code",
   "execution_count": 13,
   "id": "27676556-2816-4c5f-b0f9-68fb8a3da127",
   "metadata": {},
   "outputs": [
    {
     "data": {
      "text/plain": [
       "array([0, 1, 2, 3, 4, 5])"
      ]
     },
     "execution_count": 13,
     "metadata": {},
     "output_type": "execute_result"
    }
   ],
   "source": [
    "np.unique(masks_train.detach().cpu().numpy())"
   ]
  },
  {
   "cell_type": "code",
   "execution_count": 14,
   "id": "033ceda9",
   "metadata": {},
   "outputs": [],
   "source": [
    "#def visualize(**images):\n",
    "#    \"\"\"\n",
    "#    Plot images in one row\n",
    "#    \"\"\"\n",
    "#    n_images = len(images)\n",
    "#    plt.figure(figsize=(20,8))\n",
    "#    for idx, (name, image) in enumerate(images.items()):\n",
    "#        plt.subplot(1, n_images, idx + 1)\n",
    "#        plt.xticks([]);\n",
    "#        plt.yticks([])\n",
    "#        # get title from the parameter names\n",
    "#        plt.title(name.replace('_',' ').title(), fontsize=20)\n",
    "#        plt.imshow(image)\n",
    "#    plt.show()"
   ]
  },
  {
   "cell_type": "code",
   "execution_count": 15,
   "id": "168e738f-52be-487c-b4d7-fa2234246d75",
   "metadata": {},
   "outputs": [
    {
     "name": "stdout",
     "output_type": "stream",
     "text": [
      "torch.Size([3, 1056, 1920]) torch.Size([1056, 1920])\n"
     ]
    }
   ],
   "source": [
    "# configure dataset for training\n",
    "val_data = customDataset(df_merged_val, class_list=selected_class_list, preprocessing=preprocess_input)\n",
    "img_val, masks_val = val_data[0]\n",
    "print(img_val.shape, masks_val.shape)"
   ]
  },
  {
   "cell_type": "code",
   "execution_count": 16,
   "id": "422be873-1c35-4e87-9fda-2e664e40c582",
   "metadata": {},
   "outputs": [
    {
     "name": "stderr",
     "output_type": "stream",
     "text": [
      "Clipping input data to the valid range for imshow with RGB data ([0..1] for floats or [0..255] for integers). Got range [-2.117904..2.64].\n"
     ]
    },
    {
     "data": {
      "image/png": "[encoded data removed]",
      "text/plain": [
       "<Figure size 1200x500 with 2 Axes>"
      ]
     },
     "metadata": {},
     "output_type": "display_data"
    }
   ],
   "source": [
    "fig, ax = plt.subplots(1, 2, figsize=(12, 5))\n",
    "ax[0].imshow(img_train.permute(1, 2, 0))\n",
    "ax[1].imshow(masks_train) # ['road', 'building', 'vegetation', 'car', 'sky', 'person']\n",
    "plt.show()"
   ]
  },
  {
   "cell_type": "code",
   "execution_count": 17,
   "id": "d9f51439-3acc-4325-aab0-680d65fe7243",
   "metadata": {},
   "outputs": [],
   "source": [
    "train_data_loader = DataLoader(\n",
    "    train_data,\n",
    "    batch_size=4,\n",
    "    shuffle=True\n",
    ")\n",
    "val_data_loader = DataLoader(\n",
    "    val_data,\n",
    "    batch_size=2,\n",
    "    shuffle=False\n",
    ")"
   ]
  },
  {
   "cell_type": "code",
   "execution_count": 18,
   "id": "669293be-3600-45b6-8398-081ab46ae21b",
   "metadata": {},
   "outputs": [
    {
     "name": "stdout",
     "output_type": "stream",
     "text": [
      "torch.Size([4, 3, 1056, 1920]) torch.Size([4, 1056, 1920])\n",
      "tensor(-2.1179) tensor(2.6400)\n",
      "tensor(0) tensor(5)\n"
     ]
    }
   ],
   "source": [
    "for img, target in train_data_loader:\n",
    "    print(img.shape, target.shape)\n",
    "    print(img[0].min(), img[0].max())\n",
    "    print(target[0].min(), target[0].max())\n",
    "    break"
   ]
  },
  {
   "cell_type": "code",
   "execution_count": 19,
   "id": "a8deb93c-53e4-4700-bc1f-7eee3e3d401e",
   "metadata": {},
   "outputs": [
    {
     "name": "stderr",
     "output_type": "stream",
     "text": [
      "Downloading: \"https://download.pytorch.org/models/resnext50_32x4d-7cdf4587.pth\" to /home/vhsillerico/.cache/torch/hub/checkpoints/resnext50_32x4d-7cdf4587.pth\n",
      "100%|██████████████████████████████████████████████████████████████████████████████████████████████| 95.8M/95.8M [00:09<00:00, 10.2MB/s]\n"
     ]
    },
    {
     "data": {
      "application/vnd.jupyter.widget-view+json": {
       "model_id": "94009ff927554308807d589ce7d497dd",
       "version_major": 2,
       "version_minor": 0
      },
      "text/plain": [
       "Epoch 1/30 - Training:   0%|          | 0/308 [00:00<?, ?batch/s]"
      ]
     },
     "metadata": {},
     "output_type": "display_data"
    },
    {
     "data": {
      "application/vnd.jupyter.widget-view+json": {
       "model_id": "8fc8b2c4987d4a8c83045ccb135f9e88",
       "version_major": 2,
       "version_minor": 0
      },
      "text/plain": [
       "Epoch 1/30 - Validation:   0%|          | 0/138 [00:00<?, ?batch/s]"
      ]
     },
     "metadata": {},
     "output_type": "display_data"
    },
    {
     "name": "stdout",
     "output_type": "stream",
     "text": [
      "Epoch 1/30 - Mean Train IoU: 0.5606, Mean Train F1-score: 0.6823, Avg Train Loss: 0.5906, Mean Val IoU: 0.6238, Mean Val F1-score: 0.7325, Avg Val Loss: 0.4246\n",
      "Time: 395.30 seconds\n",
      "Model saved!\n"
     ]
    },
    {
     "data": {
      "application/vnd.jupyter.widget-view+json": {
       "model_id": "cb9541caad24483cac01a38e70462860",
       "version_major": 2,
       "version_minor": 0
      },
      "text/plain": [
       "Epoch 2/30 - Training:   0%|          | 0/308 [00:00<?, ?batch/s]"
      ]
     },
     "metadata": {},
     "output_type": "display_data"
    },
    {
     "data": {
      "application/vnd.jupyter.widget-view+json": {
       "model_id": "d26cb030f21d4051b778012ef6fa02d0",
       "version_major": 2,
       "version_minor": 0
      },
      "text/plain": [
       "Epoch 2/30 - Validation:   0%|          | 0/138 [00:00<?, ?batch/s]"
      ]
     },
     "metadata": {},
     "output_type": "display_data"
    },
    {
     "name": "stdout",
     "output_type": "stream",
     "text": [
      "Epoch 2/30 - Mean Train IoU: 0.6617, Mean Train F1-score: 0.7762, Avg Train Loss: 0.4030, Mean Val IoU: 0.6933, Mean Val F1-score: 0.7933, Avg Val Loss: 0.3347\n",
      "Time: 377.35 seconds\n",
      "Model saved!\n"
     ]
    },
    {
     "data": {
      "application/vnd.jupyter.widget-view+json": {
       "model_id": "474af57ebefe49d68498835e21d4c442",
       "version_major": 2,
       "version_minor": 0
      },
      "text/plain": [
       "Epoch 3/30 - Training:   0%|          | 0/308 [00:00<?, ?batch/s]"
      ]
     },
     "metadata": {},
     "output_type": "display_data"
    },
    {
     "data": {
      "application/vnd.jupyter.widget-view+json": {
       "model_id": "8f0b90348ea14eb09754c3f3539078fd",
       "version_major": 2,
       "version_minor": 0
      },
      "text/plain": [
       "Epoch 3/30 - Validation:   0%|          | 0/138 [00:00<?, ?batch/s]"
      ]
     },
     "metadata": {},
     "output_type": "display_data"
    },
    {
     "name": "stdout",
     "output_type": "stream",
     "text": [
      "Epoch 3/30 - Mean Train IoU: 0.6907, Mean Train F1-score: 0.8001, Avg Train Loss: 0.3661, Mean Val IoU: 0.6904, Mean Val F1-score: 0.7872, Avg Val Loss: 0.3251\n",
      "Time: 381.69 seconds\n"
     ]
    },
    {
     "data": {
      "application/vnd.jupyter.widget-view+json": {
       "model_id": "a9f82bb481ca4242b16be9e875c6dafc",
       "version_major": 2,
       "version_minor": 0
      },
      "text/plain": [
       "Epoch 4/30 - Training:   0%|          | 0/308 [00:00<?, ?batch/s]"
      ]
     },
     "metadata": {},
     "output_type": "display_data"
    },
    {
     "data": {
      "application/vnd.jupyter.widget-view+json": {
       "model_id": "0d225685485c4f32b8dfefe4bf22014c",
       "version_major": 2,
       "version_minor": 0
      },
      "text/plain": [
       "Epoch 4/30 - Validation:   0%|          | 0/138 [00:00<?, ?batch/s]"
      ]
     },
     "metadata": {},
     "output_type": "display_data"
    },
    {
     "name": "stdout",
     "output_type": "stream",
     "text": [
      "Epoch 4/30 - Mean Train IoU: 0.7050, Mean Train F1-score: 0.8114, Avg Train Loss: 0.3411, Mean Val IoU: 0.6837, Mean Val F1-score: 0.7797, Avg Val Loss: 0.3240\n",
      "Time: 378.44 seconds\n"
     ]
    },
    {
     "data": {
      "application/vnd.jupyter.widget-view+json": {
       "model_id": "97f09ca199844b099c149276940c4255",
       "version_major": 2,
       "version_minor": 0
      },
      "text/plain": [
       "Epoch 5/30 - Training:   0%|          | 0/308 [00:00<?, ?batch/s]"
      ]
     },
     "metadata": {},
     "output_type": "display_data"
    },
    {
     "data": {
      "application/vnd.jupyter.widget-view+json": {
       "model_id": "5ae9faa4c80d42778c94d8820931a1b0",
       "version_major": 2,
       "version_minor": 0
      },
      "text/plain": [
       "Epoch 5/30 - Validation:   0%|          | 0/138 [00:00<?, ?batch/s]"
      ]
     },
     "metadata": {},
     "output_type": "display_data"
    },
    {
     "name": "stdout",
     "output_type": "stream",
     "text": [
      "Epoch 5/30 - Mean Train IoU: 0.7196, Mean Train F1-score: 0.8234, Avg Train Loss: 0.3261, Mean Val IoU: 0.7039, Mean Val F1-score: 0.8012, Avg Val Loss: 0.3248\n",
      "Time: 377.88 seconds\n",
      "Model saved!\n"
     ]
    },
    {
     "data": {
      "application/vnd.jupyter.widget-view+json": {
       "model_id": "5b682df590674fa694bbfb16047e4c56",
       "version_major": 2,
       "version_minor": 0
      },
      "text/plain": [
       "Epoch 6/30 - Training:   0%|          | 0/308 [00:00<?, ?batch/s]"
      ]
     },
     "metadata": {},
     "output_type": "display_data"
    },
    {
     "data": {
      "application/vnd.jupyter.widget-view+json": {
       "model_id": "13d632d95dac46abb32d2a92938715d5",
       "version_major": 2,
       "version_minor": 0
      },
      "text/plain": [
       "Epoch 6/30 - Validation:   0%|          | 0/138 [00:00<?, ?batch/s]"
      ]
     },
     "metadata": {},
     "output_type": "display_data"
    },
    {
     "name": "stdout",
     "output_type": "stream",
     "text": [
      "Epoch 6/30 - Mean Train IoU: 0.7293, Mean Train F1-score: 0.8296, Avg Train Loss: 0.3072, Mean Val IoU: 0.7307, Mean Val F1-score: 0.8214, Avg Val Loss: 0.2896\n",
      "Time: 386.41 seconds\n",
      "Model saved!\n"
     ]
    },
    {
     "data": {
      "application/vnd.jupyter.widget-view+json": {
       "model_id": "5b1aa67d7f9d4f00b4883fe48773e410",
       "version_major": 2,
       "version_minor": 0
      },
      "text/plain": [
       "Epoch 7/30 - Training:   0%|          | 0/308 [00:00<?, ?batch/s]"
      ]
     },
     "metadata": {},
     "output_type": "display_data"
    },
    {
     "data": {
      "application/vnd.jupyter.widget-view+json": {
       "model_id": "306896f6875f42588f7dd02d9986c4b6",
       "version_major": 2,
       "version_minor": 0
      },
      "text/plain": [
       "Epoch 7/30 - Validation:   0%|          | 0/138 [00:00<?, ?batch/s]"
      ]
     },
     "metadata": {},
     "output_type": "display_data"
    },
    {
     "name": "stdout",
     "output_type": "stream",
     "text": [
      "Epoch 7/30 - Mean Train IoU: 0.7374, Mean Train F1-score: 0.8360, Avg Train Loss: 0.2948, Mean Val IoU: 0.7266, Mean Val F1-score: 0.8199, Avg Val Loss: 0.3000\n",
      "Time: 383.99 seconds\n"
     ]
    },
    {
     "data": {
      "application/vnd.jupyter.widget-view+json": {
       "model_id": "757b20a4a59e445d91b41c89c7fce2ed",
       "version_major": 2,
       "version_minor": 0
      },
      "text/plain": [
       "Epoch 8/30 - Training:   0%|          | 0/308 [00:00<?, ?batch/s]"
      ]
     },
     "metadata": {},
     "output_type": "display_data"
    },
    {
     "data": {
      "application/vnd.jupyter.widget-view+json": {
       "model_id": "bcef6ac8475f4fad8a42b3c10e99a001",
       "version_major": 2,
       "version_minor": 0
      },
      "text/plain": [
       "Epoch 8/30 - Validation:   0%|          | 0/138 [00:00<?, ?batch/s]"
      ]
     },
     "metadata": {},
     "output_type": "display_data"
    },
    {
     "name": "stdout",
     "output_type": "stream",
     "text": [
      "Epoch 8/30 - Mean Train IoU: 0.7452, Mean Train F1-score: 0.8418, Avg Train Loss: 0.2863, Mean Val IoU: 0.7281, Mean Val F1-score: 0.8194, Avg Val Loss: 0.2925\n",
      "Time: 386.72 seconds\n"
     ]
    },
    {
     "data": {
      "application/vnd.jupyter.widget-view+json": {
       "model_id": "8d7309309a07431a99d544404efe3fd3",
       "version_major": 2,
       "version_minor": 0
      },
      "text/plain": [
       "Epoch 9/30 - Training:   0%|          | 0/308 [00:00<?, ?batch/s]"
      ]
     },
     "metadata": {},
     "output_type": "display_data"
    },
    {
     "data": {
      "application/vnd.jupyter.widget-view+json": {
       "model_id": "2ded722d4a584f48b7a1de91323e11a5",
       "version_major": 2,
       "version_minor": 0
      },
      "text/plain": [
       "Epoch 9/30 - Validation:   0%|          | 0/138 [00:00<?, ?batch/s]"
      ]
     },
     "metadata": {},
     "output_type": "display_data"
    },
    {
     "name": "stdout",
     "output_type": "stream",
     "text": [
      "Epoch 9/30 - Mean Train IoU: 0.7508, Mean Train F1-score: 0.8460, Avg Train Loss: 0.2755, Mean Val IoU: 0.7436, Mean Val F1-score: 0.8311, Avg Val Loss: 0.2673\n",
      "Time: 382.70 seconds\n",
      "Model saved!\n"
     ]
    },
    {
     "data": {
      "application/vnd.jupyter.widget-view+json": {
       "model_id": "e0740e96420e4fb2ad26947b4ab23aec",
       "version_major": 2,
       "version_minor": 0
      },
      "text/plain": [
       "Epoch 10/30 - Training:   0%|          | 0/308 [00:00<?, ?batch/s]"
      ]
     },
     "metadata": {},
     "output_type": "display_data"
    },
    {
     "data": {
      "application/vnd.jupyter.widget-view+json": {
       "model_id": "1061d2f6644d4560b45bd753af6077cf",
       "version_major": 2,
       "version_minor": 0
      },
      "text/plain": [
       "Epoch 10/30 - Validation:   0%|          | 0/138 [00:00<?, ?batch/s]"
      ]
     },
     "metadata": {},
     "output_type": "display_data"
    },
    {
     "name": "stdout",
     "output_type": "stream",
     "text": [
      "Epoch 10/30 - Mean Train IoU: 0.7546, Mean Train F1-score: 0.8484, Avg Train Loss: 0.2687, Mean Val IoU: 0.7182, Mean Val F1-score: 0.8130, Avg Val Loss: 0.3111\n",
      "Time: 382.46 seconds\n"
     ]
    },
    {
     "data": {
      "application/vnd.jupyter.widget-view+json": {
       "model_id": "437bc8f7ff85436a993b190d286901f8",
       "version_major": 2,
       "version_minor": 0
      },
      "text/plain": [
       "Epoch 11/30 - Training:   0%|          | 0/308 [00:00<?, ?batch/s]"
      ]
     },
     "metadata": {},
     "output_type": "display_data"
    },
    {
     "data": {
      "application/vnd.jupyter.widget-view+json": {
       "model_id": "d5721ebf858d4c329a26f64cdf32bf64",
       "version_major": 2,
       "version_minor": 0
      },
      "text/plain": [
       "Epoch 11/30 - Validation:   0%|          | 0/138 [00:00<?, ?batch/s]"
      ]
     },
     "metadata": {},
     "output_type": "display_data"
    },
    {
     "name": "stdout",
     "output_type": "stream",
     "text": [
      "Epoch 11/30 - Mean Train IoU: 0.7637, Mean Train F1-score: 0.8555, Avg Train Loss: 0.2580, Mean Val IoU: 0.7520, Mean Val F1-score: 0.8395, Avg Val Loss: 0.2600\n",
      "Time: 382.19 seconds\n",
      "Model saved!\n"
     ]
    },
    {
     "data": {
      "application/vnd.jupyter.widget-view+json": {
       "model_id": "bda7b4dd921e4283a459c610ea89a165",
       "version_major": 2,
       "version_minor": 0
      },
      "text/plain": [
       "Epoch 12/30 - Training:   0%|          | 0/308 [00:00<?, ?batch/s]"
      ]
     },
     "metadata": {},
     "output_type": "display_data"
    },
    {
     "data": {
      "application/vnd.jupyter.widget-view+json": {
       "model_id": "4ab8216b4dbc4927b7e4b8bd02d9091a",
       "version_major": 2,
       "version_minor": 0
      },
      "text/plain": [
       "Epoch 12/30 - Validation:   0%|          | 0/138 [00:00<?, ?batch/s]"
      ]
     },
     "metadata": {},
     "output_type": "display_data"
    },
    {
     "name": "stdout",
     "output_type": "stream",
     "text": [
      "Epoch 12/30 - Mean Train IoU: 0.7691, Mean Train F1-score: 0.8593, Avg Train Loss: 0.2534, Mean Val IoU: 0.7426, Mean Val F1-score: 0.8305, Avg Val Loss: 0.2608\n",
      "Time: 383.59 seconds\n"
     ]
    },
    {
     "data": {
      "application/vnd.jupyter.widget-view+json": {
       "model_id": "56180ec77fa44f90b2a3dd7984c5ea6f",
       "version_major": 2,
       "version_minor": 0
      },
      "text/plain": [
       "Epoch 13/30 - Training:   0%|          | 0/308 [00:00<?, ?batch/s]"
      ]
     },
     "metadata": {},
     "output_type": "display_data"
    },
    {
     "data": {
      "application/vnd.jupyter.widget-view+json": {
       "model_id": "5c58640e5ac142b0ad21f9ecf2df2090",
       "version_major": 2,
       "version_minor": 0
      },
      "text/plain": [
       "Epoch 13/30 - Validation:   0%|          | 0/138 [00:00<?, ?batch/s]"
      ]
     },
     "metadata": {},
     "output_type": "display_data"
    },
    {
     "name": "stdout",
     "output_type": "stream",
     "text": [
      "Epoch 13/30 - Mean Train IoU: 0.7717, Mean Train F1-score: 0.8615, Avg Train Loss: 0.2500, Mean Val IoU: 0.7305, Mean Val F1-score: 0.8230, Avg Val Loss: 0.2969\n",
      "Time: 380.92 seconds\n"
     ]
    },
    {
     "data": {
      "application/vnd.jupyter.widget-view+json": {
       "model_id": "85d0ec6ec94f45c1a266cbba6a38d9cb",
       "version_major": 2,
       "version_minor": 0
      },
      "text/plain": [
       "Epoch 14/30 - Training:   0%|          | 0/308 [00:00<?, ?batch/s]"
      ]
     },
     "metadata": {},
     "output_type": "display_data"
    },
    {
     "data": {
      "application/vnd.jupyter.widget-view+json": {
       "model_id": "fe7436ad5d0e4e44b77ca4e8a602dd82",
       "version_major": 2,
       "version_minor": 0
      },
      "text/plain": [
       "Epoch 14/30 - Validation:   0%|          | 0/138 [00:00<?, ?batch/s]"
      ]
     },
     "metadata": {},
     "output_type": "display_data"
    },
    {
     "name": "stdout",
     "output_type": "stream",
     "text": [
      "Epoch 14/30 - Mean Train IoU: 0.7747, Mean Train F1-score: 0.8636, Avg Train Loss: 0.2473, Mean Val IoU: 0.7298, Mean Val F1-score: 0.8207, Avg Val Loss: 0.2962\n",
      "Time: 380.18 seconds\n"
     ]
    },
    {
     "data": {
      "application/vnd.jupyter.widget-view+json": {
       "model_id": "ac80d11d656d48889025572f3d24b438",
       "version_major": 2,
       "version_minor": 0
      },
      "text/plain": [
       "Epoch 15/30 - Training:   0%|          | 0/308 [00:00<?, ?batch/s]"
      ]
     },
     "metadata": {},
     "output_type": "display_data"
    },
    {
     "data": {
      "application/vnd.jupyter.widget-view+json": {
       "model_id": "f343e19cec5f44bea85c5baf9cd9e094",
       "version_major": 2,
       "version_minor": 0
      },
      "text/plain": [
       "Epoch 15/30 - Validation:   0%|          | 0/138 [00:00<?, ?batch/s]"
      ]
     },
     "metadata": {},
     "output_type": "display_data"
    },
    {
     "name": "stdout",
     "output_type": "stream",
     "text": [
      "Epoch 15/30 - Mean Train IoU: 0.7823, Mean Train F1-score: 0.8695, Avg Train Loss: 0.2348, Mean Val IoU: 0.7632, Mean Val F1-score: 0.8466, Avg Val Loss: 0.2458\n",
      "Time: 379.01 seconds\n",
      "Model saved!\n"
     ]
    },
    {
     "data": {
      "application/vnd.jupyter.widget-view+json": {
       "model_id": "654debb6bace45219cd717a286de9774",
       "version_major": 2,
       "version_minor": 0
      },
      "text/plain": [
       "Epoch 16/30 - Training:   0%|          | 0/308 [00:00<?, ?batch/s]"
      ]
     },
     "metadata": {},
     "output_type": "display_data"
    },
    {
     "data": {
      "application/vnd.jupyter.widget-view+json": {
       "model_id": "c5c80c4310344fa5a25ef77f2569de53",
       "version_major": 2,
       "version_minor": 0
      },
      "text/plain": [
       "Epoch 16/30 - Validation:   0%|          | 0/138 [00:00<?, ?batch/s]"
      ]
     },
     "metadata": {},
     "output_type": "display_data"
    },
    {
     "name": "stdout",
     "output_type": "stream",
     "text": [
      "Epoch 16/30 - Mean Train IoU: 0.7825, Mean Train F1-score: 0.8690, Avg Train Loss: 0.2358, Mean Val IoU: 0.7068, Mean Val F1-score: 0.8029, Avg Val Loss: 0.3667\n",
      "Time: 379.14 seconds\n"
     ]
    },
    {
     "data": {
      "application/vnd.jupyter.widget-view+json": {
       "model_id": "9506fa4ec5d4428985a9bb97920d5018",
       "version_major": 2,
       "version_minor": 0
      },
      "text/plain": [
       "Epoch 17/30 - Training:   0%|          | 0/308 [00:00<?, ?batch/s]"
      ]
     },
     "metadata": {},
     "output_type": "display_data"
    },
    {
     "data": {
      "application/vnd.jupyter.widget-view+json": {
       "model_id": "3466c080d8ea44e687791bae75e9bd30",
       "version_major": 2,
       "version_minor": 0
      },
      "text/plain": [
       "Epoch 17/30 - Validation:   0%|          | 0/138 [00:00<?, ?batch/s]"
      ]
     },
     "metadata": {},
     "output_type": "display_data"
    },
    {
     "name": "stdout",
     "output_type": "stream",
     "text": [
      "Epoch 17/30 - Mean Train IoU: 0.7785, Mean Train F1-score: 0.8664, Avg Train Loss: 0.2383, Mean Val IoU: 0.7504, Mean Val F1-score: 0.8367, Avg Val Loss: 0.2544\n",
      "Time: 377.86 seconds\n"
     ]
    },
    {
     "data": {
      "application/vnd.jupyter.widget-view+json": {
       "model_id": "7b3f57565ebd44ad986e9a3597ba098d",
       "version_major": 2,
       "version_minor": 0
      },
      "text/plain": [
       "Epoch 18/30 - Training:   0%|          | 0/308 [00:00<?, ?batch/s]"
      ]
     },
     "metadata": {},
     "output_type": "display_data"
    },
    {
     "data": {
      "application/vnd.jupyter.widget-view+json": {
       "model_id": "33633a8f1b994c4ba3e49cdc4334aa98",
       "version_major": 2,
       "version_minor": 0
      },
      "text/plain": [
       "Epoch 18/30 - Validation:   0%|          | 0/138 [00:00<?, ?batch/s]"
      ]
     },
     "metadata": {},
     "output_type": "display_data"
    },
    {
     "name": "stdout",
     "output_type": "stream",
     "text": [
      "Epoch 18/30 - Mean Train IoU: 0.7917, Mean Train F1-score: 0.8753, Avg Train Loss: 0.2211, Mean Val IoU: 0.7668, Mean Val F1-score: 0.8504, Avg Val Loss: 0.2454\n",
      "Time: 381.89 seconds\n",
      "Model saved!\n"
     ]
    },
    {
     "data": {
      "application/vnd.jupyter.widget-view+json": {
       "model_id": "d17b1d1848f94407850d687d1e001cb3",
       "version_major": 2,
       "version_minor": 0
      },
      "text/plain": [
       "Epoch 19/30 - Training:   0%|          | 0/308 [00:00<?, ?batch/s]"
      ]
     },
     "metadata": {},
     "output_type": "display_data"
    },
    {
     "data": {
      "application/vnd.jupyter.widget-view+json": {
       "model_id": "daf90a48a07146a2855a6b8d53f0912d",
       "version_major": 2,
       "version_minor": 0
      },
      "text/plain": [
       "Epoch 19/30 - Validation:   0%|          | 0/138 [00:00<?, ?batch/s]"
      ]
     },
     "metadata": {},
     "output_type": "display_data"
    },
    {
     "name": "stdout",
     "output_type": "stream",
     "text": [
      "Epoch 19/30 - Mean Train IoU: 0.7977, Mean Train F1-score: 0.8797, Avg Train Loss: 0.2137, Mean Val IoU: 0.7491, Mean Val F1-score: 0.8344, Avg Val Loss: 0.2641\n",
      "Time: 377.56 seconds\n"
     ]
    },
    {
     "data": {
      "application/vnd.jupyter.widget-view+json": {
       "model_id": "6e563a8680434d7899b3201f66e6cd6e",
       "version_major": 2,
       "version_minor": 0
      },
      "text/plain": [
       "Epoch 20/30 - Training:   0%|          | 0/308 [00:00<?, ?batch/s]"
      ]
     },
     "metadata": {},
     "output_type": "display_data"
    },
    {
     "data": {
      "application/vnd.jupyter.widget-view+json": {
       "model_id": "926f678ffc414667ad4aaf6330ca2377",
       "version_major": 2,
       "version_minor": 0
      },
      "text/plain": [
       "Epoch 20/30 - Validation:   0%|          | 0/138 [00:00<?, ?batch/s]"
      ]
     },
     "metadata": {},
     "output_type": "display_data"
    },
    {
     "name": "stdout",
     "output_type": "stream",
     "text": [
      "Epoch 20/30 - Mean Train IoU: 0.7974, Mean Train F1-score: 0.8790, Avg Train Loss: 0.2122, Mean Val IoU: 0.7570, Mean Val F1-score: 0.8428, Avg Val Loss: 0.2601\n",
      "Time: 376.96 seconds\n"
     ]
    },
    {
     "data": {
      "application/vnd.jupyter.widget-view+json": {
       "model_id": "91beec0340c34a5ca9c63795f45045b5",
       "version_major": 2,
       "version_minor": 0
      },
      "text/plain": [
       "Epoch 21/30 - Training:   0%|          | 0/308 [00:00<?, ?batch/s]"
      ]
     },
     "metadata": {},
     "output_type": "display_data"
    },
    {
     "data": {
      "application/vnd.jupyter.widget-view+json": {
       "model_id": "f77c637432784c6bbc11d075ddd02a14",
       "version_major": 2,
       "version_minor": 0
      },
      "text/plain": [
       "Epoch 21/30 - Validation:   0%|          | 0/138 [00:00<?, ?batch/s]"
      ]
     },
     "metadata": {},
     "output_type": "display_data"
    },
    {
     "name": "stdout",
     "output_type": "stream",
     "text": [
      "Epoch 21/30 - Mean Train IoU: 0.7908, Mean Train F1-score: 0.8753, Avg Train Loss: 0.2215, Mean Val IoU: 0.7698, Mean Val F1-score: 0.8514, Avg Val Loss: 0.2349\n",
      "Time: 375.15 seconds\n",
      "Model saved!\n"
     ]
    },
    {
     "data": {
      "application/vnd.jupyter.widget-view+json": {
       "model_id": "e4b269b793c74918b21961b0fa7fa842",
       "version_major": 2,
       "version_minor": 0
      },
      "text/plain": [
       "Epoch 22/30 - Training:   0%|          | 0/308 [00:00<?, ?batch/s]"
      ]
     },
     "metadata": {},
     "output_type": "display_data"
    },
    {
     "data": {
      "application/vnd.jupyter.widget-view+json": {
       "model_id": "2bbf368048d44dd4b7dfebf4a343faf2",
       "version_major": 2,
       "version_minor": 0
      },
      "text/plain": [
       "Epoch 22/30 - Validation:   0%|          | 0/138 [00:00<?, ?batch/s]"
      ]
     },
     "metadata": {},
     "output_type": "display_data"
    },
    {
     "name": "stdout",
     "output_type": "stream",
     "text": [
      "Epoch 22/30 - Mean Train IoU: 0.8043, Mean Train F1-score: 0.8844, Avg Train Loss: 0.2053, Mean Val IoU: 0.7639, Mean Val F1-score: 0.8468, Avg Val Loss: 0.2455\n",
      "Time: 379.19 seconds\n"
     ]
    },
    {
     "data": {
      "application/vnd.jupyter.widget-view+json": {
       "model_id": "0df02350bab84c99be9c7786a14d2cd9",
       "version_major": 2,
       "version_minor": 0
      },
      "text/plain": [
       "Epoch 23/30 - Training:   0%|          | 0/308 [00:00<?, ?batch/s]"
      ]
     },
     "metadata": {},
     "output_type": "display_data"
    },
    {
     "data": {
      "application/vnd.jupyter.widget-view+json": {
       "model_id": "1ff5dce5f1cc45ca9cf9d98595be0686",
       "version_major": 2,
       "version_minor": 0
      },
      "text/plain": [
       "Epoch 23/30 - Validation:   0%|          | 0/138 [00:00<?, ?batch/s]"
      ]
     },
     "metadata": {},
     "output_type": "display_data"
    },
    {
     "name": "stdout",
     "output_type": "stream",
     "text": [
      "Epoch 23/30 - Mean Train IoU: 0.8011, Mean Train F1-score: 0.8819, Avg Train Loss: 0.2089, Mean Val IoU: 0.7276, Mean Val F1-score: 0.8162, Avg Val Loss: 0.3098\n",
      "Time: 379.23 seconds\n"
     ]
    },
    {
     "data": {
      "application/vnd.jupyter.widget-view+json": {
       "model_id": "1653b957916c40a88933e7039c02a61e",
       "version_major": 2,
       "version_minor": 0
      },
      "text/plain": [
       "Epoch 24/30 - Training:   0%|          | 0/308 [00:00<?, ?batch/s]"
      ]
     },
     "metadata": {},
     "output_type": "display_data"
    },
    {
     "data": {
      "application/vnd.jupyter.widget-view+json": {
       "model_id": "1eb343c2dee84e43bff07b94fcdaf85e",
       "version_major": 2,
       "version_minor": 0
      },
      "text/plain": [
       "Epoch 24/30 - Validation:   0%|          | 0/138 [00:00<?, ?batch/s]"
      ]
     },
     "metadata": {},
     "output_type": "display_data"
    },
    {
     "name": "stdout",
     "output_type": "stream",
     "text": [
      "Epoch 24/30 - Mean Train IoU: 0.8092, Mean Train F1-score: 0.8877, Avg Train Loss: 0.1963, Mean Val IoU: 0.7643, Mean Val F1-score: 0.8479, Avg Val Loss: 0.2364\n",
      "Time: 383.97 seconds\n"
     ]
    },
    {
     "data": {
      "application/vnd.jupyter.widget-view+json": {
       "model_id": "f8c175fd57e74f8f9c3a222d6eb72df7",
       "version_major": 2,
       "version_minor": 0
      },
      "text/plain": [
       "Epoch 25/30 - Training:   0%|          | 0/308 [00:00<?, ?batch/s]"
      ]
     },
     "metadata": {},
     "output_type": "display_data"
    },
    {
     "data": {
      "application/vnd.jupyter.widget-view+json": {
       "model_id": "3a9bb3df2ebe4c78869b1ec70bdf4cc7",
       "version_major": 2,
       "version_minor": 0
      },
      "text/plain": [
       "Epoch 25/30 - Validation:   0%|          | 0/138 [00:00<?, ?batch/s]"
      ]
     },
     "metadata": {},
     "output_type": "display_data"
    },
    {
     "name": "stdout",
     "output_type": "stream",
     "text": [
      "Epoch 25/30 - Mean Train IoU: 0.8076, Mean Train F1-score: 0.8867, Avg Train Loss: 0.2011, Mean Val IoU: 0.7727, Mean Val F1-score: 0.8537, Avg Val Loss: 0.2369\n",
      "Time: 376.39 seconds\n",
      "Model saved!\n"
     ]
    },
    {
     "data": {
      "application/vnd.jupyter.widget-view+json": {
       "model_id": "d0e0342dd85946018d727f79d63af751",
       "version_major": 2,
       "version_minor": 0
      },
      "text/plain": [
       "Epoch 26/30 - Training:   0%|          | 0/308 [00:00<?, ?batch/s]"
      ]
     },
     "metadata": {},
     "output_type": "display_data"
    },
    {
     "data": {
      "application/vnd.jupyter.widget-view+json": {
       "model_id": "ea673da38a1543dda7b5359549ee24a5",
       "version_major": 2,
       "version_minor": 0
      },
      "text/plain": [
       "Epoch 26/30 - Validation:   0%|          | 0/138 [00:00<?, ?batch/s]"
      ]
     },
     "metadata": {},
     "output_type": "display_data"
    },
    {
     "name": "stdout",
     "output_type": "stream",
     "text": [
      "Epoch 26/30 - Mean Train IoU: 0.8136, Mean Train F1-score: 0.8910, Avg Train Loss: 0.1927, Mean Val IoU: 0.7742, Mean Val F1-score: 0.8555, Avg Val Loss: 0.2400\n",
      "Time: 377.77 seconds\n",
      "Model saved!\n"
     ]
    },
    {
     "data": {
      "application/vnd.jupyter.widget-view+json": {
       "model_id": "19c78d52090948bdbb2fc0c2a7ac2a66",
       "version_major": 2,
       "version_minor": 0
      },
      "text/plain": [
       "Epoch 27/30 - Training:   0%|          | 0/308 [00:00<?, ?batch/s]"
      ]
     },
     "metadata": {},
     "output_type": "display_data"
    },
    {
     "data": {
      "application/vnd.jupyter.widget-view+json": {
       "model_id": "b6bc047777b74e508ce3477c245a14a3",
       "version_major": 2,
       "version_minor": 0
      },
      "text/plain": [
       "Epoch 27/30 - Validation:   0%|          | 0/138 [00:00<?, ?batch/s]"
      ]
     },
     "metadata": {},
     "output_type": "display_data"
    },
    {
     "name": "stdout",
     "output_type": "stream",
     "text": [
      "Epoch 27/30 - Mean Train IoU: 0.8142, Mean Train F1-score: 0.8913, Avg Train Loss: 0.1932, Mean Val IoU: 0.7396, Mean Val F1-score: 0.8296, Avg Val Loss: 0.3122\n",
      "Time: 376.23 seconds\n"
     ]
    },
    {
     "data": {
      "application/vnd.jupyter.widget-view+json": {
       "model_id": "9596757f6ea549bba9accb11e871d1ee",
       "version_major": 2,
       "version_minor": 0
      },
      "text/plain": [
       "Epoch 28/30 - Training:   0%|          | 0/308 [00:00<?, ?batch/s]"
      ]
     },
     "metadata": {},
     "output_type": "display_data"
    },
    {
     "data": {
      "application/vnd.jupyter.widget-view+json": {
       "model_id": "f39b6694ff2143b3b6258dd46da501ab",
       "version_major": 2,
       "version_minor": 0
      },
      "text/plain": [
       "Epoch 28/30 - Validation:   0%|          | 0/138 [00:00<?, ?batch/s]"
      ]
     },
     "metadata": {},
     "output_type": "display_data"
    },
    {
     "name": "stdout",
     "output_type": "stream",
     "text": [
      "Epoch 28/30 - Mean Train IoU: 0.8136, Mean Train F1-score: 0.8907, Avg Train Loss: 0.1921, Mean Val IoU: 0.7792, Mean Val F1-score: 0.8589, Avg Val Loss: 0.2325\n",
      "Time: 376.00 seconds\n",
      "Model saved!\n"
     ]
    },
    {
     "data": {
      "application/vnd.jupyter.widget-view+json": {
       "model_id": "8469198631794a9fabbcd39576fa00e0",
       "version_major": 2,
       "version_minor": 0
      },
      "text/plain": [
       "Epoch 29/30 - Training:   0%|          | 0/308 [00:00<?, ?batch/s]"
      ]
     },
     "metadata": {},
     "output_type": "display_data"
    },
    {
     "data": {
      "application/vnd.jupyter.widget-view+json": {
       "model_id": "fedc0ef11ded44dd9e1285ce402e18e6",
       "version_major": 2,
       "version_minor": 0
      },
      "text/plain": [
       "Epoch 29/30 - Validation:   0%|          | 0/138 [00:00<?, ?batch/s]"
      ]
     },
     "metadata": {},
     "output_type": "display_data"
    },
    {
     "name": "stdout",
     "output_type": "stream",
     "text": [
      "Epoch 29/30 - Mean Train IoU: 0.8211, Mean Train F1-score: 0.8961, Avg Train Loss: 0.1845, Mean Val IoU: 0.7543, Mean Val F1-score: 0.8395, Avg Val Loss: 0.2873\n",
      "Time: 379.38 seconds\n"
     ]
    },
    {
     "data": {
      "application/vnd.jupyter.widget-view+json": {
       "model_id": "c0e46ffc02b447a88073c795148b139c",
       "version_major": 2,
       "version_minor": 0
      },
      "text/plain": [
       "Epoch 30/30 - Training:   0%|          | 0/308 [00:00<?, ?batch/s]"
      ]
     },
     "metadata": {},
     "output_type": "display_data"
    },
    {
     "data": {
      "application/vnd.jupyter.widget-view+json": {
       "model_id": "9d509839b71a434b9461653d9dc46e2a",
       "version_major": 2,
       "version_minor": 0
      },
      "text/plain": [
       "Epoch 30/30 - Validation:   0%|          | 0/138 [00:00<?, ?batch/s]"
      ]
     },
     "metadata": {},
     "output_type": "display_data"
    },
    {
     "name": "stdout",
     "output_type": "stream",
     "text": [
      "Epoch 30/30 - Mean Train IoU: 0.8235, Mean Train F1-score: 0.8977, Avg Train Loss: 0.1807, Mean Val IoU: 0.7779, Mean Val F1-score: 0.8564, Avg Val Loss: 0.2294\n",
      "Time: 377.35 seconds\n",
      "Estimated total training time: 188.68 minutes\n"
     ]
    }
   ],
   "source": [
    "# COMPLETE FINAL VERSION ************************************\n",
    "\n",
    "# Function to compute IoU per class\n",
    "def compute_iou(pred, target, num_classes):\n",
    "    iou_list = []\n",
    "    for cls in range(num_classes):\n",
    "        pred_cls = (pred == cls).float()\n",
    "        target_cls = (target == cls).float()\n",
    "        \n",
    "        intersection = torch.sum(pred_cls * target_cls)\n",
    "        union = torch.sum(pred_cls) + torch.sum(target_cls) - intersection\n",
    "        \n",
    "        iou = intersection / (union + 1e-7)  # Adding epsilon to avoid division by zero\n",
    "        iou_list.append(iou.item())\n",
    "    \n",
    "    return iou_list\n",
    "\n",
    "# Function to compute F1-score per class\n",
    "def compute_f1_score(pred, target, num_classes):\n",
    "    f1_scores = []\n",
    "    for cls in range(num_classes):\n",
    "        pred_cls = (pred == cls).float()\n",
    "        target_cls = (target == cls).float()\n",
    "        \n",
    "        intersection = torch.sum(pred_cls * target_cls)\n",
    "        precision = intersection / (torch.sum(pred_cls) + 1e-7)\n",
    "        recall = intersection / (torch.sum(target_cls) + 1e-7)\n",
    "        \n",
    "        f1 = 2 * (precision * recall) / (precision + recall + 1e-7)\n",
    "        f1_scores.append(f1.item())\n",
    "    \n",
    "    return f1_scores\n",
    "\n",
    "# Initialize DataFrame to store logs\n",
    "logs_df = pd.DataFrame(columns=[\n",
    "    'Epoch', 'Train_Loss', 'Train_IoU_per_Class', 'Train_Mean_IoU',\n",
    "    'Train_F1_per_Class', 'Train_Mean_F1',\n",
    "    'Val_Loss', 'Val_IoU_per_Class', 'Val_Mean_IoU',\n",
    "    'Val_F1_per_Class', 'Val_Mean_F1'\n",
    "])\n",
    "\n",
    "num_classes = 6\n",
    "num_epochs = 30  # Adjust as needed\n",
    "\n",
    "\n",
    "# Define your model, loss function, and optimizer\n",
    "segmodel = smp.PSPNet(encoder_name='resnext50_32x4d', encoder_weights='imagenet', classes=num_classes, activation=None).to(device)\n",
    "# Define your model with dropout\n",
    "#segmodel = smp.Unet(BACKBONE, classes=num_classes, activation=None, encoder_weights=None, dropout=dropout_rate).to(device)\n",
    "\n",
    "criterion = torch.nn.CrossEntropyLoss()\n",
    "#optimizer = torch.optim.Adam(segmodel.parameters(), lr=0.001, weight_decay=1e-4)\n",
    "optimizer = torch.optim.Adam(segmodel.parameters(), lr=0.001)\n",
    "\n",
    "# Initialize DataFrame to store logs\n",
    "logs_df = pd.DataFrame(columns=['Epoch',\n",
    "                                'Train_Loss',\n",
    "                                'Train_IoU_per_Class',\n",
    "                                'Train_Mean_IoU',\n",
    "                                'Train_F1_per_Class',\n",
    "                                'Train_Mean_F1',\n",
    "                                'Val_Loss',\n",
    "                                'Val_IoU_per_Class',\n",
    "                                'Val_Mean_IoU',\n",
    "                                'Val_F1_per_Class',\n",
    "                                'Val_Mean_F1'])\n",
    "# Train model\n",
    "max_score = 0\n",
    "\n",
    "# Training and validation loop\n",
    "for epoch in range(num_epochs):\n",
    "    start_time = time.time()  # Track start time\n",
    "    # Training\n",
    "    segmodel.train()\n",
    "    train_loss = 0\n",
    "    train_iou_scores = []\n",
    "    train_f1_scores = []\n",
    "    \n",
    "    # Progress bar for training\n",
    "    with tqdm(total=len(train_data_loader), desc=f'Epoch {epoch + 1}/{num_epochs} - Training', unit='batch') as pbar:\n",
    "        for batch in train_data_loader:\n",
    "            x, y = batch\n",
    "            x, y = x.to(device), y.to(device)\n",
    "            \n",
    "            optimizer.zero_grad()\n",
    "            pred = segmodel(x)\n",
    "            loss = criterion(pred, y)\n",
    "            loss.backward()\n",
    "            optimizer.step()\n",
    "            \n",
    "            train_loss += loss.item()\n",
    "            \n",
    "            # Calculate IoU and F1-score\n",
    "            pred_classes = torch.argmax(pred, dim=1)\n",
    "            iou = compute_iou(pred_classes, y, num_classes)\n",
    "            f1_score = compute_f1_score(pred_classes, y, num_classes)\n",
    "            \n",
    "            train_iou_scores.append(iou)\n",
    "            train_f1_scores.append(f1_score)\n",
    "            \n",
    "            pbar.set_postfix({'Train_Loss': loss.item(), 'IoU': np.mean(iou), 'F1': np.mean(f1_score)})\n",
    "            pbar.update(1)\n",
    "    \n",
    "    # Calculate mean metrics for training\n",
    "    avg_train_iou = np.mean(train_iou_scores, axis=0)\n",
    "    mean_train_iou = np.mean(avg_train_iou)\n",
    "    avg_train_f1 = np.mean(train_f1_scores, axis=0)\n",
    "    mean_train_f1 = np.mean(avg_train_f1)\n",
    "    avg_train_loss = train_loss / len(train_data_loader)\n",
    "    \n",
    "    # Validation\n",
    "    segmodel.eval()\n",
    "    val_loss = 0\n",
    "    val_iou_scores = []\n",
    "    val_f1_scores = []\n",
    "    \n",
    "    with torch.no_grad():\n",
    "        # Progress bar for validation\n",
    "        with tqdm(total=len(val_data_loader), desc=f'Epoch {epoch + 1}/{num_epochs} - Validation', unit='batch') as pbar:\n",
    "            for batch in val_data_loader:\n",
    "                x, y = batch\n",
    "                x, y = x.to(device), y.to(device)\n",
    "                pred = segmodel(x)\n",
    "                \n",
    "                loss = criterion(pred, y)\n",
    "                val_loss += loss.item()\n",
    "                \n",
    "                # Calculate IoU and F1-score\n",
    "                pred_classes = torch.argmax(pred, dim=1)\n",
    "                iou = compute_iou(pred_classes, y, num_classes)\n",
    "                f1_score = compute_f1_score(pred_classes, y, num_classes)\n",
    "                \n",
    "                val_iou_scores.append(iou)\n",
    "                val_f1_scores.append(f1_score)\n",
    "                \n",
    "                pbar.set_postfix({'Val_Loss': loss.item(), 'IoU': np.mean(iou), 'F1': np.mean(f1_score)})\n",
    "                pbar.update(1)\n",
    "    \n",
    "    # Calculate mean metrics for validation\n",
    "    avg_val_iou = np.mean(val_iou_scores, axis=0)\n",
    "    mean_val_iou = np.mean(avg_val_iou)\n",
    "    avg_val_f1 = np.mean(val_f1_scores, axis=0)\n",
    "    mean_val_f1 = np.mean(avg_val_f1)\n",
    "    avg_val_loss = val_loss / len(val_data_loader)\n",
    "    \n",
    "    # Save logs to DataFrame\n",
    "    new_log = {\n",
    "        'Epoch': epoch + 1,\n",
    "        'Train_Loss': avg_train_loss,\n",
    "        'Train_IoU_per_Class': avg_train_iou,\n",
    "        'Train_Mean_IoU': mean_train_iou,\n",
    "        'Train_F1_per_Class': avg_train_f1,\n",
    "        'Train_Mean_F1': mean_train_f1,\n",
    "        'Val_Loss': avg_val_loss,\n",
    "        'Val_IoU_per_Class': avg_val_iou,\n",
    "        'Val_Mean_IoU': mean_val_iou,\n",
    "        'Val_F1_per_Class': avg_val_f1,\n",
    "        'Val_Mean_F1': mean_val_f1\n",
    "    }\n",
    "    # Convert the new_row dictionary to a DataFrame\n",
    "    new_log_df = pd.DataFrame([new_log])\n",
    "    # Concatenate the new_row_df to logs_df\n",
    "    logs_df = pd.concat([logs_df, new_log_df], ignore_index=True)\n",
    "    \n",
    "    # Print metrics\n",
    "    print(f\"Epoch {epoch + 1}/{num_epochs} - \"\n",
    "          f\"Mean Train IoU: {mean_train_iou:.4f}, \"\n",
    "          f\"Mean Train F1-score: {mean_train_f1:.4f}, \"\n",
    "          f\"Avg Train Loss: {avg_train_loss:.4f}, \"\n",
    "          f\"Mean Val IoU: {mean_val_iou:.4f}, \"\n",
    "          f\"Mean Val F1-score: {mean_val_f1:.4f}, \"\n",
    "          f\"Avg Val Loss: {avg_val_loss:.4f}\")\n",
    "\n",
    "    # Calculate and print time for each epoch\n",
    "    epoch_time = time.time() - start_time\n",
    "    print(f\"Time: {epoch_time:.2f} seconds\")\n",
    "\n",
    "    # Save the model if it's the best one\n",
    "    if mean_val_iou > max_score:\n",
    "        max_score = mean_val_iou\n",
    "        torch.save(segmodel.state_dict(), './best_model_pspnet_multiclass_merged30e.pth')\n",
    "        print('Model saved!')\n",
    "\n",
    "total_time = epoch_time * num_epochs\n",
    "print(f\"Estimated total training time: {total_time/60:.2f} minutes\")\n",
    "# Save DataFrame to CSV\n",
    "logs_df.to_csv('best_model_pspnet_multiclass_merged30e.csv', index=False)\n"
   ]
  },
  {
   "cell_type": "code",
   "execution_count": 20,
   "id": "b9fa1dd7-f6ed-4bf1-bba5-899fb04fc6a9",
   "metadata": {},
   "outputs": [
    {
     "name": "stdout",
     "output_type": "stream",
     "text": [
      "Loaded PSPNet model from this run.\n"
     ]
    }
   ],
   "source": [
    "# load best saved model checkpoint from the current run\n",
    "if os.path.exists('./best_model_pspnet_multiclass_merged30e.pth'):\n",
    "    best_model = torch.load('./best_model_pspnet_multiclass_merged30e.pth', map_location=device)\n",
    "    print('Loaded PSPNet model from this run.')\n",
    "else:\n",
    "    print(\"There is not a saved model\")"
   ]
  },
  {
   "cell_type": "code",
   "execution_count": 21,
   "id": "c2ed9970-8083-43bd-8ecb-4d558485adf3",
   "metadata": {},
   "outputs": [
    {
     "data": {
      "image/png": "[encoded data removed]",
      "text/plain": [
       "<Figure size 2000x800 with 1 Axes>"
      ]
     },
     "metadata": {},
     "output_type": "display_data"
    }
   ],
   "source": [
    "plt.figure(figsize=(20,8))\n",
    "plt.plot(logs_df.Epoch.tolist(), logs_df.Train_Loss.tolist(), lw=3, label = 'Training')\n",
    "plt.plot(logs_df.Epoch.tolist(), logs_df.Val_Loss.tolist(), lw=3, label = 'Validation')\n",
    "plt.xlabel('Epochs', fontsize=21)\n",
    "plt.ylabel('Loss', fontsize=21)\n",
    "plt.title('Loss Plot', fontsize=21)\n",
    "plt.legend(loc='best', fontsize=16)\n",
    "plt.grid()\n",
    "plt.savefig('Loss-pspnet.png')\n",
    "plt.show()"
   ]
  },
  {
   "cell_type": "code",
   "execution_count": null,
   "id": "e13e0b48",
   "metadata": {},
   "outputs": [],
   "source": []
  }
 ],
 "metadata": {
  "kernelspec": {
   "display_name": "Python 3 (ipykernel)",
   "language": "python",
   "name": "python3"
  },
  "language_info": {
   "codemirror_mode": {
    "name": "ipython",
    "version": 3
   },
   "file_extension": ".py",
   "mimetype": "text/x-python",
   "name": "python",
   "nbconvert_exporter": "python",
   "pygments_lexer": "ipython3",
   "version": "3.9.19"
  }
 },
 "nbformat": 4,
 "nbformat_minor": 5
}
