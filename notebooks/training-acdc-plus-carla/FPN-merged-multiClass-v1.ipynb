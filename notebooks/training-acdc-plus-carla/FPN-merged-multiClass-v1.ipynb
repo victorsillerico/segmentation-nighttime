{
 "cells": [
  {
   "cell_type": "code",
   "execution_count": 1,
   "id": "26ba47b3-d604-405b-a367-999a6bd0d117",
   "metadata": {},
   "outputs": [],
   "source": [
    "import os, cv2, time\n",
    "import numpy as np\n",
    "import pandas as pd\n",
    "import random, tqdm\n",
    "import seaborn as sns\n",
    "import matplotlib.pyplot as plt\n",
    "%matplotlib inline\n",
    "import warnings\n",
    "warnings.filterwarnings(\"ignore\")\n",
    "\n",
    "import torch\n",
    "import torch.nn as nn\n",
    "from torch.utils.data import DataLoader\n",
    "from torch.utils.data import Dataset\n",
    "import albumentations as album\n",
    "\n",
    "import segmentation_models_pytorch as smp\n",
    "from segmentation_models_pytorch import utils\n",
    "\n",
    "from torchvision import transforms\n",
    "\n",
    "from PIL import Image\n",
    "\n",
    "from sklearn.model_selection import train_test_split\n",
    "\n",
    "from tqdm.notebook import tqdm"
   ]
  },
  {
   "cell_type": "code",
   "execution_count": 2,
   "id": "6bb0a8ac-0c7f-4b46-bc07-2e768e772664",
   "metadata": {},
   "outputs": [],
   "source": [
    "#with torch.no_grad():\n",
    "#    torch.cuda.empty_cache()"
   ]
  },
  {
   "cell_type": "code",
   "execution_count": 3,
   "id": "e23ebd26-dc5b-4c50-a692-6d418327dab2",
   "metadata": {},
   "outputs": [],
   "source": [
    "def create_paths(dataset_dir):\n",
    "    rgb_files = []\n",
    "    mask_files = []\n",
    "    for root, dirs, files in os.walk(dataset_dir):\n",
    "        for name in files:\n",
    "            f = os.path.join(root, name)\n",
    "            if 'labelIds' in f:\n",
    "                mask_files.append(f)\n",
    "            elif 'rgb_anon' in f:\n",
    "                rgb_files.append(f)\n",
    "            else:\n",
    "                pass\n",
    "    return sorted(rgb_files), sorted(mask_files)"
   ]
  },
  {
   "cell_type": "code",
   "execution_count": 4,
   "id": "287abf8a-5f53-4d27-abb3-45312abedf3c",
   "metadata": {},
   "outputs": [],
   "source": [
    "class customDataset(Dataset):\n",
    "    \"\"\" Custom Dataset for multiclass semantic segmentation.\n",
    "\n",
    "    Args:\n",
    "        df (pd.DataFrame): DataFrame containing paths to images and masks.\n",
    "        class_list (list): List of class IDs to extract from segmentation mask.\n",
    "        preprocessing (callable, optional): Data preprocessing function.\n",
    "    \"\"\"\n",
    "    \n",
    "    def __init__(self, df, class_list=None, augmentation=None, preprocessing=None):\n",
    "        self.image_paths = df['rgb_file'].tolist()\n",
    "        self.mask_paths = df['mask_file'].tolist()\n",
    "\n",
    "        self.class_list = class_list\n",
    "        self.augmentation = augmentation\n",
    "        self.preprocessing = preprocessing\n",
    "\n",
    "        # Original Cityscapes IDs to be mapped to your 6 classes\n",
    "        # [7, 11, 21, 26, 23, 24] # ['road', 'building', 'vegetation', 'car', 'sky', 'person']\n",
    "        self.cityscapes_ids = [7, 11, 21, 26, 23]  # Target classes\n",
    "        # Mapping to new class indices [0, 1, 2, 3, 4, 5]\n",
    "        self.new_class_mapping = {7: 1, 11: 2, 21: 3, 26: 4, 23: 5}   \n",
    "        # Define a background class ID\n",
    "        #self.background_class_id = -1  # Or any other value not used by your classes\n",
    "\n",
    "    def __getitem__(self, i):\n",
    "        image = cv2.cvtColor(cv2.imread(self.image_paths[i]), cv2.COLOR_BGR2RGB)\n",
    "        mask = cv2.cvtColor(cv2.imread(self.mask_paths[i]), cv2.COLOR_BGR2GRAY)  # Read mask as grayscale\n",
    "\n",
    "        # Resize images and masks (640, 480)/(1920, 1080)\n",
    "        image = cv2.resize(image, (1920, 1056), interpolation=cv2.INTER_LINEAR)\n",
    "        mask = cv2.resize(mask, (1920, 1056), interpolation=cv2.INTER_NEAREST)\n",
    "\n",
    "        image = np.asarray(image).astype('float')\n",
    "\n",
    "        # apply augmentations\n",
    "        if self.augmentation:\n",
    "            sample = self.augmentation(image=image, mask=mask)\n",
    "            image, mask = sample['image'], sample['mask']\n",
    "        \n",
    "        if self.preprocessing:\n",
    "            image = self.preprocessing(image)\n",
    "            image = torch.as_tensor(image)\n",
    "        else:\n",
    "            # Normalize image to [0, 1]\n",
    "            image = torch.as_tensor(image) / 255.0\n",
    "        image = image.permute(2,0,1)\n",
    "\n",
    "        # Convert mask to tensor\n",
    "        #mask = torch.as_tensor(mask, dtype=torch.uint8)\n",
    "        \n",
    "        # Map original Cityscapes IDs to the new class indices\n",
    "        mask_mapped = np.zeros_like(mask, dtype=np.uint8)  # Initialize new mask\n",
    "        for original_id, new_id in self.new_class_mapping.items():\n",
    "            mask_mapped[mask == original_id] = new_id\n",
    "\n",
    "        # Convert mask to tensor with the mapped classes\n",
    "        mask_tensor = torch.as_tensor(mask_mapped, dtype=torch.long)\n",
    "\n",
    "        # -------------------\n",
    "        # Convert mask to tensor and remap class IDs\n",
    "        #mask = torch.as_tensor(mask, dtype=torch.uint8)\n",
    "        #mask_mapped = torch.full_like(mask, self.background_class_id, dtype=torch.long)  # Initialize new mask with background class ID\n",
    "        \n",
    "        #for original_id, new_id in self.new_class_mapping.items():\n",
    "        #    mask_mapped[mask == original_id] = new_id\n",
    "\n",
    "        return image.float(), mask_tensor\n",
    "\n",
    "    def __len__(self):\n",
    "        return len(self.image_paths)\n"
   ]
  },
  {
   "cell_type": "code",
   "execution_count": 5,
   "id": "8928ea85-a83b-462a-9fae-b72aab110809",
   "metadata": {},
   "outputs": [
    {
     "name": "stdout",
     "output_type": "stream",
     "text": [
      "carla-shape = (1000, 2) --- train-shape=(800, 2) --- val-shape=(200, 2)\n"
     ]
    }
   ],
   "source": [
    "# for Carla-Night dataset\n",
    "dataset_carla_dir = '/home/vhsillerico/Documents/datasets/carla-night'\n",
    "imgs_rgb, imgs_mask = create_paths(dataset_carla_dir)\n",
    "df_carla = pd.DataFrame({'rgb_file': imgs_rgb, 'mask_file': imgs_mask})\n",
    "df_carla.sort_values(by='rgb_file',inplace=True)\n",
    "df_carla.reset_index(drop=True, inplace=True)\n",
    "df_carla = df_carla.sample(frac=1).reset_index(drop=True)\n",
    "df_carla.head(5)\n",
    "\n",
    "# Split data 85% for trainig and 15% for validation\n",
    "df_carla_train, df_carla_val = train_test_split(df_carla, test_size=0.20)\n",
    "\n",
    "df_carla_train.reset_index(drop=True, inplace=True)\n",
    "df_carla_val.reset_index(drop=True, inplace=True)\n",
    "\n",
    "print(f'carla-shape = {df_carla.shape} --- train-shape={df_carla_train.shape} --- val-shape={df_carla_val.shape}')"
   ]
  },
  {
   "cell_type": "code",
   "execution_count": 6,
   "id": "4126ff70-e850-4ec3-a13c-5c9812db1981",
   "metadata": {},
   "outputs": [
    {
     "name": "stdout",
     "output_type": "stream",
     "text": [
      "acdc-shape = (506, 2) --- train-shape=(430, 2) --- val-shape=(76, 2)\n"
     ]
    }
   ],
   "source": [
    "# for ACDC-Night dataset\n",
    "dataset_acdc_dir = '/home/vhsillerico/Documents/datasets/acdc-night'\n",
    "imgs_acdc_rgb, imgs_acdc_mask = create_paths(dataset_acdc_dir)\n",
    "#print(f'LEN imgs_acdc_rgb: {len(imgs_acdc_rgb)} --- LEN imgs_acdc_mask: {len(imgs_acdc_mask)}')\n",
    "df_acdc = pd.DataFrame({'rgb_file': imgs_acdc_rgb, 'mask_file': imgs_acdc_mask})\n",
    "df_acdc.sort_values(by='rgb_file',inplace=True)\n",
    "df_acdc.reset_index(drop=True, inplace=True)\n",
    "df_acdc = df_acdc.sample(frac=1).reset_index(drop=True)\n",
    "df_acdc.head(5)\n",
    "\n",
    "# Split data 85% for trainig and 15% for validation\n",
    "df_acdc_train, df_acdc_val = train_test_split(df_acdc, test_size=0.15)\n",
    "\n",
    "df_acdc_train.reset_index(drop=True, inplace=True)\n",
    "df_acdc_val.reset_index(drop=True, inplace=True)\n",
    "\n",
    "print(f'acdc-shape = {df_acdc.shape} --- train-shape={df_acdc_train.shape} --- val-shape={df_acdc_val.shape}')"
   ]
  },
  {
   "cell_type": "code",
   "execution_count": 7,
   "id": "e09c8888-0065-44e7-badf-7f85df5c1756",
   "metadata": {},
   "outputs": [
    {
     "name": "stdout",
     "output_type": "stream",
     "text": [
      "merged-train-shape = (1230, 2)\n"
     ]
    }
   ],
   "source": [
    "# Concatenate the datasets (ACDC + CARLA)\n",
    "# Training set\n",
    "df_merged_train = pd.concat([df_carla_train, df_acdc_train], ignore_index=True)\n",
    "df_merged_train = df_merged_train.sample(frac=1).reset_index(drop=True)\n",
    "#df_merged_train.head(20)\n",
    "print(f'merged-train-shape = {df_merged_train.shape}')"
   ]
  },
  {
   "cell_type": "code",
   "execution_count": 8,
   "id": "2dc11071-2b00-4c07-9aa4-4d8b83140591",
   "metadata": {},
   "outputs": [
    {
     "name": "stdout",
     "output_type": "stream",
     "text": [
      "merged-val-shape = (276, 2)\n"
     ]
    }
   ],
   "source": [
    "# Validation set\n",
    "df_merged_val = pd.concat([df_carla_val, df_acdc_val], ignore_index=True)\n",
    "df_merged_val = df_merged_val.sample(frac=1).reset_index(drop=True)\n",
    "#df_merged_val.head(20)\n",
    "print(f'merged-val-shape = {df_merged_val.shape}')"
   ]
  },
  {
   "cell_type": "code",
   "execution_count": 9,
   "id": "c480b83e-8bd6-460a-bf3f-095a807658b4",
   "metadata": {},
   "outputs": [],
   "source": [
    "selected_class_list = [7, 11, 21, 26, 23] # ['road', 'building', 'vegetation', 'car', 'sky', 'person']"
   ]
  },
  {
   "cell_type": "code",
   "execution_count": 10,
   "id": "4c01e1af-775e-4ed8-a335-eb6eadf2725d",
   "metadata": {},
   "outputs": [],
   "source": [
    "#activation = torch.nn.Softmax(dim=1)\n",
    "\n",
    "device = torch.device('cuda:1' if torch.cuda.is_available() else 'cpu')\n",
    "device\n",
    "\n",
    "BACKBONE = 'resnet34'\n",
    "preprocess_input = smp.encoders.get_preprocessing_fn(BACKBONE, pretrained='imagenet')"
   ]
  },
  {
   "cell_type": "code",
   "execution_count": 11,
   "id": "04309836",
   "metadata": {},
   "outputs": [],
   "source": [
    "# image dimensions: (480, 640) (H,W)\n",
    "global h_aux, w_aux\n",
    "h_aux = 1056\n",
    "w_aux = 1920\n",
    "h_crop_size = 1056\n",
    "w_crop_size = 1920\n",
    "def get_training_augmentation():\n",
    "    train_transform = [\n",
    "        album.RandomCrop(height=h_crop_size, width=w_crop_size, always_apply=True),\n",
    "        album.PadIfNeeded(min_height=h_aux, min_width=w_aux, always_apply=True, border_mode=0, value=(0, 0, 0)),\n",
    "        album.HorizontalFlip(p=0.75),\n",
    "    ]\n",
    "    return album.Compose(train_transform)\n",
    "\n",
    "\n",
    "def get_validation_augmentation():\n",
    "    # Add sufficient padding to ensure image is divisible by 32\n",
    "    test_transform = [\n",
    "        #album.PadIfNeeded(min_height=1536, min_width=1536, always_apply=True, border_mode=0, value=(0, 0, 0)),\n",
    "        album.PadIfNeeded(min_height=h_aux, min_width=w_aux, always_apply=True, border_mode=0, value=(0, 0, 0)),\n",
    "    ]\n",
    "    return album.Compose(test_transform)"
   ]
  },
  {
   "cell_type": "code",
   "execution_count": 12,
   "id": "692bcf86-8a00-4914-8b80-2fa24bf2e1fd",
   "metadata": {},
   "outputs": [
    {
     "name": "stdout",
     "output_type": "stream",
     "text": [
      "torch.Size([3, 1056, 1920]) torch.Size([1056, 1920])\n"
     ]
    }
   ],
   "source": [
    "# configure dataset for training\n",
    "train_data = customDataset(df_merged_train, class_list=selected_class_list, preprocessing=preprocess_input)\n",
    "img_train, masks_train = train_data[1]\n",
    "print(img_train.shape, masks_train.shape)"
   ]
  },
  {
   "cell_type": "code",
   "execution_count": 13,
   "id": "27676556-2816-4c5f-b0f9-68fb8a3da127",
   "metadata": {},
   "outputs": [
    {
     "data": {
      "text/plain": [
       "array([0, 1, 2, 3, 4, 5])"
      ]
     },
     "execution_count": 13,
     "metadata": {},
     "output_type": "execute_result"
    }
   ],
   "source": [
    "np.unique(masks_train.detach().cpu().numpy())"
   ]
  },
  {
   "cell_type": "code",
   "execution_count": 14,
   "id": "033ceda9",
   "metadata": {},
   "outputs": [],
   "source": [
    "#def visualize(**images):\n",
    "#    \"\"\"\n",
    "#    Plot images in one row\n",
    "#    \"\"\"\n",
    "#    n_images = len(images)\n",
    "#    plt.figure(figsize=(20,8))\n",
    "#    for idx, (name, image) in enumerate(images.items()):\n",
    "#        plt.subplot(1, n_images, idx + 1)\n",
    "#        plt.xticks([]);\n",
    "#        plt.yticks([])\n",
    "#        # get title from the parameter names\n",
    "#        plt.title(name.replace('_',' ').title(), fontsize=20)\n",
    "#        plt.imshow(image)\n",
    "#    plt.show()"
   ]
  },
  {
   "cell_type": "code",
   "execution_count": 15,
   "id": "168e738f-52be-487c-b4d7-fa2234246d75",
   "metadata": {},
   "outputs": [
    {
     "name": "stdout",
     "output_type": "stream",
     "text": [
      "torch.Size([3, 1056, 1920]) torch.Size([1056, 1920])\n"
     ]
    }
   ],
   "source": [
    "# configure dataset for training\n",
    "val_data = customDataset(df_merged_val, class_list=selected_class_list, preprocessing=preprocess_input)\n",
    "img_val, masks_val = val_data[0]\n",
    "print(img_val.shape, masks_val.shape)"
   ]
  },
  {
   "cell_type": "code",
   "execution_count": 16,
   "id": "422be873-1c35-4e87-9fda-2e664e40c582",
   "metadata": {},
   "outputs": [
    {
     "name": "stderr",
     "output_type": "stream",
     "text": [
      "Clipping input data to the valid range for imshow with RGB data ([0..1] for floats or [0..255] for integers). Got range [-2.117904..2.64].\n"
     ]
    },
    {
     "data": {
      "image/png": "[encoded data removed]",
      "text/plain": [
       "<Figure size 1200x500 with 2 Axes>"
      ]
     },
     "metadata": {},
     "output_type": "display_data"
    }
   ],
   "source": [
    "fig, ax = plt.subplots(1, 2, figsize=(12, 5))\n",
    "ax[0].imshow(img_train.permute(1, 2, 0))\n",
    "ax[1].imshow(masks_train) # ['road', 'building', 'vegetation', 'car', 'sky', 'person']\n",
    "plt.show()"
   ]
  },
  {
   "cell_type": "code",
   "execution_count": 17,
   "id": "d9f51439-3acc-4325-aab0-680d65fe7243",
   "metadata": {},
   "outputs": [],
   "source": [
    "train_data_loader = DataLoader(\n",
    "    train_data,\n",
    "    batch_size=4,\n",
    "    shuffle=True\n",
    ")\n",
    "val_data_loader = DataLoader(\n",
    "    val_data,\n",
    "    batch_size=2,\n",
    "    shuffle=False\n",
    ")"
   ]
  },
  {
   "cell_type": "code",
   "execution_count": 18,
   "id": "669293be-3600-45b6-8398-081ab46ae21b",
   "metadata": {},
   "outputs": [
    {
     "name": "stdout",
     "output_type": "stream",
     "text": [
      "torch.Size([4, 3, 1056, 1920]) torch.Size([4, 1056, 1920])\n",
      "tensor(-2.1179) tensor(2.6400)\n",
      "tensor(0) tensor(5)\n"
     ]
    }
   ],
   "source": [
    "for img, target in train_data_loader:\n",
    "    print(img.shape, target.shape)\n",
    "    print(img[0].min(), img[0].max())\n",
    "    print(target[0].min(), target[0].max())\n",
    "    break"
   ]
  },
  {
   "cell_type": "code",
   "execution_count": 19,
   "id": "a8deb93c-53e4-4700-bc1f-7eee3e3d401e",
   "metadata": {},
   "outputs": [
    {
     "data": {
      "application/vnd.jupyter.widget-view+json": {
       "model_id": "cc90775af8554c5b9c3454457364c7d9",
       "version_major": 2,
       "version_minor": 0
      },
      "text/plain": [
       "Epoch 1/30 - Training:   0%|          | 0/308 [00:00<?, ?batch/s]"
      ]
     },
     "metadata": {},
     "output_type": "display_data"
    },
    {
     "data": {
      "application/vnd.jupyter.widget-view+json": {
       "model_id": "d9109c94a13748858ed029691c0012f9",
       "version_major": 2,
       "version_minor": 0
      },
      "text/plain": [
       "Epoch 1/30 - Validation:   0%|          | 0/138 [00:00<?, ?batch/s]"
      ]
     },
     "metadata": {},
     "output_type": "display_data"
    },
    {
     "name": "stdout",
     "output_type": "stream",
     "text": [
      "Epoch 1/30 - Mean Train IoU: 0.5138, Mean Train F1-score: 0.6348, Avg Train Loss: 0.7223, Mean Val IoU: 0.6098, Mean Val F1-score: 0.7264, Avg Val Loss: 0.5044\n",
      "Time: 309.83 seconds\n",
      "Model saved!\n"
     ]
    },
    {
     "data": {
      "application/vnd.jupyter.widget-view+json": {
       "model_id": "f2470d248d7c4c7b831acc7b51b3604d",
       "version_major": 2,
       "version_minor": 0
      },
      "text/plain": [
       "Epoch 2/30 - Training:   0%|          | 0/308 [00:00<?, ?batch/s]"
      ]
     },
     "metadata": {},
     "output_type": "display_data"
    },
    {
     "data": {
      "application/vnd.jupyter.widget-view+json": {
       "model_id": "1dece8c16679440ab7b23c84d3a17e7b",
       "version_major": 2,
       "version_minor": 0
      },
      "text/plain": [
       "Epoch 2/30 - Validation:   0%|          | 0/138 [00:00<?, ?batch/s]"
      ]
     },
     "metadata": {},
     "output_type": "display_data"
    },
    {
     "name": "stdout",
     "output_type": "stream",
     "text": [
      "Epoch 2/30 - Mean Train IoU: 0.6386, Mean Train F1-score: 0.7570, Avg Train Loss: 0.4516, Mean Val IoU: 0.6732, Mean Val F1-score: 0.7779, Avg Val Loss: 0.3654\n",
      "Time: 296.30 seconds\n",
      "Model saved!\n"
     ]
    },
    {
     "data": {
      "application/vnd.jupyter.widget-view+json": {
       "model_id": "9e1c25cd09fb4636bcd841f038bfa4b5",
       "version_major": 2,
       "version_minor": 0
      },
      "text/plain": [
       "Epoch 3/30 - Training:   0%|          | 0/308 [00:00<?, ?batch/s]"
      ]
     },
     "metadata": {},
     "output_type": "display_data"
    },
    {
     "data": {
      "application/vnd.jupyter.widget-view+json": {
       "model_id": "6e5f4a0e2bbb49379246d82096439ac3",
       "version_major": 2,
       "version_minor": 0
      },
      "text/plain": [
       "Epoch 3/30 - Validation:   0%|          | 0/138 [00:00<?, ?batch/s]"
      ]
     },
     "metadata": {},
     "output_type": "display_data"
    },
    {
     "name": "stdout",
     "output_type": "stream",
     "text": [
      "Epoch 3/30 - Mean Train IoU: 0.6876, Mean Train F1-score: 0.7976, Avg Train Loss: 0.3800, Mean Val IoU: 0.6338, Mean Val F1-score: 0.7388, Avg Val Loss: 0.3718\n",
      "Time: 300.42 seconds\n"
     ]
    },
    {
     "data": {
      "application/vnd.jupyter.widget-view+json": {
       "model_id": "e70e039c88d1493ab31d995f13490644",
       "version_major": 2,
       "version_minor": 0
      },
      "text/plain": [
       "Epoch 4/30 - Training:   0%|          | 0/308 [00:00<?, ?batch/s]"
      ]
     },
     "metadata": {},
     "output_type": "display_data"
    },
    {
     "data": {
      "application/vnd.jupyter.widget-view+json": {
       "model_id": "15bf2c28590141fa8e8df9f51b85127e",
       "version_major": 2,
       "version_minor": 0
      },
      "text/plain": [
       "Epoch 4/30 - Validation:   0%|          | 0/138 [00:00<?, ?batch/s]"
      ]
     },
     "metadata": {},
     "output_type": "display_data"
    },
    {
     "name": "stdout",
     "output_type": "stream",
     "text": [
      "Epoch 4/30 - Mean Train IoU: 0.7031, Mean Train F1-score: 0.8094, Avg Train Loss: 0.3474, Mean Val IoU: 0.6947, Mean Val F1-score: 0.7923, Avg Val Loss: 0.3162\n",
      "Time: 308.41 seconds\n",
      "Model saved!\n"
     ]
    },
    {
     "data": {
      "application/vnd.jupyter.widget-view+json": {
       "model_id": "f30e43ad54fb4df7bad618cc8b3d693a",
       "version_major": 2,
       "version_minor": 0
      },
      "text/plain": [
       "Epoch 5/30 - Training:   0%|          | 0/308 [00:00<?, ?batch/s]"
      ]
     },
     "metadata": {},
     "output_type": "display_data"
    },
    {
     "data": {
      "application/vnd.jupyter.widget-view+json": {
       "model_id": "910185114360472f8c4b4667f5568bb9",
       "version_major": 2,
       "version_minor": 0
      },
      "text/plain": [
       "Epoch 5/30 - Validation:   0%|          | 0/138 [00:00<?, ?batch/s]"
      ]
     },
     "metadata": {},
     "output_type": "display_data"
    },
    {
     "name": "stdout",
     "output_type": "stream",
     "text": [
      "Epoch 5/30 - Mean Train IoU: 0.7222, Mean Train F1-score: 0.8246, Avg Train Loss: 0.3247, Mean Val IoU: 0.6383, Mean Val F1-score: 0.7393, Avg Val Loss: 0.3973\n",
      "Time: 302.12 seconds\n"
     ]
    },
    {
     "data": {
      "application/vnd.jupyter.widget-view+json": {
       "model_id": "bcad560d37794fa7bf48f9917e3d23b4",
       "version_major": 2,
       "version_minor": 0
      },
      "text/plain": [
       "Epoch 6/30 - Training:   0%|          | 0/308 [00:00<?, ?batch/s]"
      ]
     },
     "metadata": {},
     "output_type": "display_data"
    },
    {
     "data": {
      "application/vnd.jupyter.widget-view+json": {
       "model_id": "2169341dde33495f8ed75f036388174f",
       "version_major": 2,
       "version_minor": 0
      },
      "text/plain": [
       "Epoch 6/30 - Validation:   0%|          | 0/138 [00:00<?, ?batch/s]"
      ]
     },
     "metadata": {},
     "output_type": "display_data"
    },
    {
     "name": "stdout",
     "output_type": "stream",
     "text": [
      "Epoch 6/30 - Mean Train IoU: 0.7338, Mean Train F1-score: 0.8330, Avg Train Loss: 0.3097, Mean Val IoU: 0.7283, Mean Val F1-score: 0.8215, Avg Val Loss: 0.2821\n",
      "Time: 305.38 seconds\n",
      "Model saved!\n"
     ]
    },
    {
     "data": {
      "application/vnd.jupyter.widget-view+json": {
       "model_id": "2b4b85269e8f478f83c17cca37f561c8",
       "version_major": 2,
       "version_minor": 0
      },
      "text/plain": [
       "Epoch 7/30 - Training:   0%|          | 0/308 [00:00<?, ?batch/s]"
      ]
     },
     "metadata": {},
     "output_type": "display_data"
    },
    {
     "data": {
      "application/vnd.jupyter.widget-view+json": {
       "model_id": "b880ac7f097a4cf79e7d4598236f9daa",
       "version_major": 2,
       "version_minor": 0
      },
      "text/plain": [
       "Epoch 7/30 - Validation:   0%|          | 0/138 [00:00<?, ?batch/s]"
      ]
     },
     "metadata": {},
     "output_type": "display_data"
    },
    {
     "name": "stdout",
     "output_type": "stream",
     "text": [
      "Epoch 7/30 - Mean Train IoU: 0.7493, Mean Train F1-score: 0.8447, Avg Train Loss: 0.2858, Mean Val IoU: 0.6921, Mean Val F1-score: 0.7924, Avg Val Loss: 0.3475\n",
      "Time: 301.67 seconds\n"
     ]
    },
    {
     "data": {
      "application/vnd.jupyter.widget-view+json": {
       "model_id": "0e226122fe8e4cc596a345fd35e76ecb",
       "version_major": 2,
       "version_minor": 0
      },
      "text/plain": [
       "Epoch 8/30 - Training:   0%|          | 0/308 [00:00<?, ?batch/s]"
      ]
     },
     "metadata": {},
     "output_type": "display_data"
    },
    {
     "data": {
      "application/vnd.jupyter.widget-view+json": {
       "model_id": "74c25dfd8958487dad52ac24cce40966",
       "version_major": 2,
       "version_minor": 0
      },
      "text/plain": [
       "Epoch 8/30 - Validation:   0%|          | 0/138 [00:00<?, ?batch/s]"
      ]
     },
     "metadata": {},
     "output_type": "display_data"
    },
    {
     "name": "stdout",
     "output_type": "stream",
     "text": [
      "Epoch 8/30 - Mean Train IoU: 0.7478, Mean Train F1-score: 0.8430, Avg Train Loss: 0.2814, Mean Val IoU: 0.7333, Mean Val F1-score: 0.8255, Avg Val Loss: 0.2607\n",
      "Time: 306.06 seconds\n",
      "Model saved!\n"
     ]
    },
    {
     "data": {
      "application/vnd.jupyter.widget-view+json": {
       "model_id": "80174cd7af3d4e7783f6730a61773c5c",
       "version_major": 2,
       "version_minor": 0
      },
      "text/plain": [
       "Epoch 9/30 - Training:   0%|          | 0/308 [00:00<?, ?batch/s]"
      ]
     },
     "metadata": {},
     "output_type": "display_data"
    },
    {
     "data": {
      "application/vnd.jupyter.widget-view+json": {
       "model_id": "18761e437a1b46cf8e2eb312a0feab21",
       "version_major": 2,
       "version_minor": 0
      },
      "text/plain": [
       "Epoch 9/30 - Validation:   0%|          | 0/138 [00:00<?, ?batch/s]"
      ]
     },
     "metadata": {},
     "output_type": "display_data"
    },
    {
     "name": "stdout",
     "output_type": "stream",
     "text": [
      "Epoch 9/30 - Mean Train IoU: 0.7691, Mean Train F1-score: 0.8589, Avg Train Loss: 0.2554, Mean Val IoU: 0.7660, Mean Val F1-score: 0.8507, Avg Val Loss: 0.2295\n",
      "Time: 300.18 seconds\n",
      "Model saved!\n"
     ]
    },
    {
     "data": {
      "application/vnd.jupyter.widget-view+json": {
       "model_id": "136ad13d7873437ca241d461a2a43ae5",
       "version_major": 2,
       "version_minor": 0
      },
      "text/plain": [
       "Epoch 10/30 - Training:   0%|          | 0/308 [00:00<?, ?batch/s]"
      ]
     },
     "metadata": {},
     "output_type": "display_data"
    },
    {
     "data": {
      "application/vnd.jupyter.widget-view+json": {
       "model_id": "21b8bfd832f848f1b4d248804419ec91",
       "version_major": 2,
       "version_minor": 0
      },
      "text/plain": [
       "Epoch 10/30 - Validation:   0%|          | 0/138 [00:00<?, ?batch/s]"
      ]
     },
     "metadata": {},
     "output_type": "display_data"
    },
    {
     "name": "stdout",
     "output_type": "stream",
     "text": [
      "Epoch 10/30 - Mean Train IoU: 0.7686, Mean Train F1-score: 0.8583, Avg Train Loss: 0.2542, Mean Val IoU: 0.7264, Mean Val F1-score: 0.8194, Avg Val Loss: 0.2757\n",
      "Time: 300.42 seconds\n"
     ]
    },
    {
     "data": {
      "application/vnd.jupyter.widget-view+json": {
       "model_id": "82436c66e39b47479190c07e89a1172a",
       "version_major": 2,
       "version_minor": 0
      },
      "text/plain": [
       "Epoch 11/30 - Training:   0%|          | 0/308 [00:00<?, ?batch/s]"
      ]
     },
     "metadata": {},
     "output_type": "display_data"
    },
    {
     "data": {
      "application/vnd.jupyter.widget-view+json": {
       "model_id": "c3d911e930db44bd84b80ee9d6bf0208",
       "version_major": 2,
       "version_minor": 0
      },
      "text/plain": [
       "Epoch 11/30 - Validation:   0%|          | 0/138 [00:00<?, ?batch/s]"
      ]
     },
     "metadata": {},
     "output_type": "display_data"
    },
    {
     "name": "stdout",
     "output_type": "stream",
     "text": [
      "Epoch 11/30 - Mean Train IoU: 0.7778, Mean Train F1-score: 0.8653, Avg Train Loss: 0.2456, Mean Val IoU: 0.7506, Mean Val F1-score: 0.8396, Avg Val Loss: 0.2771\n",
      "Time: 307.22 seconds\n"
     ]
    },
    {
     "data": {
      "application/vnd.jupyter.widget-view+json": {
       "model_id": "a45918720cd14cef829f42fee947a5d3",
       "version_major": 2,
       "version_minor": 0
      },
      "text/plain": [
       "Epoch 12/30 - Training:   0%|          | 0/308 [00:00<?, ?batch/s]"
      ]
     },
     "metadata": {},
     "output_type": "display_data"
    },
    {
     "data": {
      "application/vnd.jupyter.widget-view+json": {
       "model_id": "ab5b11fbe25a4ae48d5961abee325762",
       "version_major": 2,
       "version_minor": 0
      },
      "text/plain": [
       "Epoch 12/30 - Validation:   0%|          | 0/138 [00:00<?, ?batch/s]"
      ]
     },
     "metadata": {},
     "output_type": "display_data"
    },
    {
     "name": "stdout",
     "output_type": "stream",
     "text": [
      "Epoch 12/30 - Mean Train IoU: 0.7838, Mean Train F1-score: 0.8696, Avg Train Loss: 0.2417, Mean Val IoU: 0.7344, Mean Val F1-score: 0.8264, Avg Val Loss: 0.2829\n",
      "Time: 295.75 seconds\n"
     ]
    },
    {
     "data": {
      "application/vnd.jupyter.widget-view+json": {
       "model_id": "4384aad0f8ce4d92a2e5cbe8bf6b4b2b",
       "version_major": 2,
       "version_minor": 0
      },
      "text/plain": [
       "Epoch 13/30 - Training:   0%|          | 0/308 [00:00<?, ?batch/s]"
      ]
     },
     "metadata": {},
     "output_type": "display_data"
    },
    {
     "data": {
      "application/vnd.jupyter.widget-view+json": {
       "model_id": "be51744ef03749d38eab72873504bfe8",
       "version_major": 2,
       "version_minor": 0
      },
      "text/plain": [
       "Epoch 13/30 - Validation:   0%|          | 0/138 [00:00<?, ?batch/s]"
      ]
     },
     "metadata": {},
     "output_type": "display_data"
    },
    {
     "name": "stdout",
     "output_type": "stream",
     "text": [
      "Epoch 13/30 - Mean Train IoU: 0.7916, Mean Train F1-score: 0.8747, Avg Train Loss: 0.2248, Mean Val IoU: 0.7684, Mean Val F1-score: 0.8519, Avg Val Loss: 0.2497\n",
      "Time: 288.67 seconds\n",
      "Model saved!\n"
     ]
    },
    {
     "data": {
      "application/vnd.jupyter.widget-view+json": {
       "model_id": "65c4515a7f2c4320a1e24e0aa3e388fb",
       "version_major": 2,
       "version_minor": 0
      },
      "text/plain": [
       "Epoch 14/30 - Training:   0%|          | 0/308 [00:00<?, ?batch/s]"
      ]
     },
     "metadata": {},
     "output_type": "display_data"
    },
    {
     "data": {
      "application/vnd.jupyter.widget-view+json": {
       "model_id": "e5698b79d2d04da3af425f343c832f5f",
       "version_major": 2,
       "version_minor": 0
      },
      "text/plain": [
       "Epoch 14/30 - Validation:   0%|          | 0/138 [00:00<?, ?batch/s]"
      ]
     },
     "metadata": {},
     "output_type": "display_data"
    },
    {
     "name": "stdout",
     "output_type": "stream",
     "text": [
      "Epoch 14/30 - Mean Train IoU: 0.8044, Mean Train F1-score: 0.8838, Avg Train Loss: 0.2064, Mean Val IoU: 0.7880, Mean Val F1-score: 0.8675, Avg Val Loss: 0.2183\n",
      "Time: 293.49 seconds\n",
      "Model saved!\n"
     ]
    },
    {
     "data": {
      "application/vnd.jupyter.widget-view+json": {
       "model_id": "f560f48279294313a14dc93daabbb448",
       "version_major": 2,
       "version_minor": 0
      },
      "text/plain": [
       "Epoch 15/30 - Training:   0%|          | 0/308 [00:00<?, ?batch/s]"
      ]
     },
     "metadata": {},
     "output_type": "display_data"
    },
    {
     "data": {
      "application/vnd.jupyter.widget-view+json": {
       "model_id": "7e905d137cbe4f00a0760aa47ee5def5",
       "version_major": 2,
       "version_minor": 0
      },
      "text/plain": [
       "Epoch 15/30 - Validation:   0%|          | 0/138 [00:00<?, ?batch/s]"
      ]
     },
     "metadata": {},
     "output_type": "display_data"
    },
    {
     "name": "stdout",
     "output_type": "stream",
     "text": [
      "Epoch 15/30 - Mean Train IoU: 0.8141, Mean Train F1-score: 0.8905, Avg Train Loss: 0.1947, Mean Val IoU: 0.7575, Mean Val F1-score: 0.8425, Avg Val Loss: 0.2584\n",
      "Time: 297.49 seconds\n"
     ]
    },
    {
     "data": {
      "application/vnd.jupyter.widget-view+json": {
       "model_id": "569b36a58d0744dfbceee71edbb54d8e",
       "version_major": 2,
       "version_minor": 0
      },
      "text/plain": [
       "Epoch 16/30 - Training:   0%|          | 0/308 [00:00<?, ?batch/s]"
      ]
     },
     "metadata": {},
     "output_type": "display_data"
    },
    {
     "data": {
      "application/vnd.jupyter.widget-view+json": {
       "model_id": "b1512090bb6e412ca8dc867aaeb54d8a",
       "version_major": 2,
       "version_minor": 0
      },
      "text/plain": [
       "Epoch 16/30 - Validation:   0%|          | 0/138 [00:00<?, ?batch/s]"
      ]
     },
     "metadata": {},
     "output_type": "display_data"
    },
    {
     "name": "stdout",
     "output_type": "stream",
     "text": [
      "Epoch 16/30 - Mean Train IoU: 0.8039, Mean Train F1-score: 0.8837, Avg Train Loss: 0.2109, Mean Val IoU: 0.6981, Mean Val F1-score: 0.7996, Avg Val Loss: 0.3413\n",
      "Time: 300.62 seconds\n"
     ]
    },
    {
     "data": {
      "application/vnd.jupyter.widget-view+json": {
       "model_id": "b74af0438db44e758a6eaa57ef9caf3c",
       "version_major": 2,
       "version_minor": 0
      },
      "text/plain": [
       "Epoch 17/30 - Training:   0%|          | 0/308 [00:00<?, ?batch/s]"
      ]
     },
     "metadata": {},
     "output_type": "display_data"
    },
    {
     "data": {
      "application/vnd.jupyter.widget-view+json": {
       "model_id": "cdeb3fb06af044c58c1720fd52f01c6c",
       "version_major": 2,
       "version_minor": 0
      },
      "text/plain": [
       "Epoch 17/30 - Validation:   0%|          | 0/138 [00:00<?, ?batch/s]"
      ]
     },
     "metadata": {},
     "output_type": "display_data"
    },
    {
     "name": "stdout",
     "output_type": "stream",
     "text": [
      "Epoch 17/30 - Mean Train IoU: 0.8070, Mean Train F1-score: 0.8862, Avg Train Loss: 0.2073, Mean Val IoU: 0.7660, Mean Val F1-score: 0.8488, Avg Val Loss: 0.2529\n",
      "Time: 298.52 seconds\n"
     ]
    },
    {
     "data": {
      "application/vnd.jupyter.widget-view+json": {
       "model_id": "6840078772384a71845474945144a64e",
       "version_major": 2,
       "version_minor": 0
      },
      "text/plain": [
       "Epoch 18/30 - Training:   0%|          | 0/308 [00:00<?, ?batch/s]"
      ]
     },
     "metadata": {},
     "output_type": "display_data"
    },
    {
     "data": {
      "application/vnd.jupyter.widget-view+json": {
       "model_id": "47ce6099245644899ceeab52850b807f",
       "version_major": 2,
       "version_minor": 0
      },
      "text/plain": [
       "Epoch 18/30 - Validation:   0%|          | 0/138 [00:00<?, ?batch/s]"
      ]
     },
     "metadata": {},
     "output_type": "display_data"
    },
    {
     "name": "stdout",
     "output_type": "stream",
     "text": [
      "Epoch 18/30 - Mean Train IoU: 0.8215, Mean Train F1-score: 0.8962, Avg Train Loss: 0.1873, Mean Val IoU: 0.7919, Mean Val F1-score: 0.8702, Avg Val Loss: 0.2136\n",
      "Time: 293.54 seconds\n",
      "Model saved!\n"
     ]
    },
    {
     "data": {
      "application/vnd.jupyter.widget-view+json": {
       "model_id": "fcbd92b9da8847188e87de8adae41c6a",
       "version_major": 2,
       "version_minor": 0
      },
      "text/plain": [
       "Epoch 19/30 - Training:   0%|          | 0/308 [00:00<?, ?batch/s]"
      ]
     },
     "metadata": {},
     "output_type": "display_data"
    },
    {
     "data": {
      "application/vnd.jupyter.widget-view+json": {
       "model_id": "a3d15fa6da664867a3346043849309ac",
       "version_major": 2,
       "version_minor": 0
      },
      "text/plain": [
       "Epoch 19/30 - Validation:   0%|          | 0/138 [00:00<?, ?batch/s]"
      ]
     },
     "metadata": {},
     "output_type": "display_data"
    },
    {
     "name": "stdout",
     "output_type": "stream",
     "text": [
      "Epoch 19/30 - Mean Train IoU: 0.8332, Mean Train F1-score: 0.9038, Avg Train Loss: 0.1738, Mean Val IoU: 0.7909, Mean Val F1-score: 0.8691, Avg Val Loss: 0.2135\n",
      "Time: 294.66 seconds\n"
     ]
    },
    {
     "data": {
      "application/vnd.jupyter.widget-view+json": {
       "model_id": "2ebcf5b0557043e4981179ba8cda9685",
       "version_major": 2,
       "version_minor": 0
      },
      "text/plain": [
       "Epoch 20/30 - Training:   0%|          | 0/308 [00:00<?, ?batch/s]"
      ]
     },
     "metadata": {},
     "output_type": "display_data"
    },
    {
     "data": {
      "application/vnd.jupyter.widget-view+json": {
       "model_id": "a90390e6d89f4073b28e094eae4866fd",
       "version_major": 2,
       "version_minor": 0
      },
      "text/plain": [
       "Epoch 20/30 - Validation:   0%|          | 0/138 [00:00<?, ?batch/s]"
      ]
     },
     "metadata": {},
     "output_type": "display_data"
    },
    {
     "name": "stdout",
     "output_type": "stream",
     "text": [
      "Epoch 20/30 - Mean Train IoU: 0.8413, Mean Train F1-score: 0.9095, Avg Train Loss: 0.1636, Mean Val IoU: 0.7928, Mean Val F1-score: 0.8714, Avg Val Loss: 0.2290\n",
      "Time: 286.46 seconds\n",
      "Model saved!\n"
     ]
    },
    {
     "data": {
      "application/vnd.jupyter.widget-view+json": {
       "model_id": "29ac5ec9ac374ad29a9603bdc13400c7",
       "version_major": 2,
       "version_minor": 0
      },
      "text/plain": [
       "Epoch 21/30 - Training:   0%|          | 0/308 [00:00<?, ?batch/s]"
      ]
     },
     "metadata": {},
     "output_type": "display_data"
    },
    {
     "data": {
      "application/vnd.jupyter.widget-view+json": {
       "model_id": "68fb824b82ba4c93adcf1e7431e39df1",
       "version_major": 2,
       "version_minor": 0
      },
      "text/plain": [
       "Epoch 21/30 - Validation:   0%|          | 0/138 [00:00<?, ?batch/s]"
      ]
     },
     "metadata": {},
     "output_type": "display_data"
    },
    {
     "name": "stdout",
     "output_type": "stream",
     "text": [
      "Epoch 21/30 - Mean Train IoU: 0.8385, Mean Train F1-score: 0.9072, Avg Train Loss: 0.1665, Mean Val IoU: 0.7781, Mean Val F1-score: 0.8597, Avg Val Loss: 0.2398\n",
      "Time: 291.38 seconds\n"
     ]
    },
    {
     "data": {
      "application/vnd.jupyter.widget-view+json": {
       "model_id": "c5de27f9c99944c3a70149a76a7adda5",
       "version_major": 2,
       "version_minor": 0
      },
      "text/plain": [
       "Epoch 22/30 - Training:   0%|          | 0/308 [00:00<?, ?batch/s]"
      ]
     },
     "metadata": {},
     "output_type": "display_data"
    },
    {
     "data": {
      "application/vnd.jupyter.widget-view+json": {
       "model_id": "c6c85587c03d4f9fb4fb01bc9c831322",
       "version_major": 2,
       "version_minor": 0
      },
      "text/plain": [
       "Epoch 22/30 - Validation:   0%|          | 0/138 [00:00<?, ?batch/s]"
      ]
     },
     "metadata": {},
     "output_type": "display_data"
    },
    {
     "name": "stdout",
     "output_type": "stream",
     "text": [
      "Epoch 22/30 - Mean Train IoU: 0.8378, Mean Train F1-score: 0.9063, Avg Train Loss: 0.1660, Mean Val IoU: 0.7521, Mean Val F1-score: 0.8390, Avg Val Loss: 0.2858\n",
      "Time: 291.06 seconds\n"
     ]
    },
    {
     "data": {
      "application/vnd.jupyter.widget-view+json": {
       "model_id": "611d4120af544d628bc41a49e7adc486",
       "version_major": 2,
       "version_minor": 0
      },
      "text/plain": [
       "Epoch 23/30 - Training:   0%|          | 0/308 [00:00<?, ?batch/s]"
      ]
     },
     "metadata": {},
     "output_type": "display_data"
    },
    {
     "data": {
      "application/vnd.jupyter.widget-view+json": {
       "model_id": "2663158cd66b4789bd3318a45f4f38b5",
       "version_major": 2,
       "version_minor": 0
      },
      "text/plain": [
       "Epoch 23/30 - Validation:   0%|          | 0/138 [00:00<?, ?batch/s]"
      ]
     },
     "metadata": {},
     "output_type": "display_data"
    },
    {
     "name": "stdout",
     "output_type": "stream",
     "text": [
      "Epoch 23/30 - Mean Train IoU: 0.8492, Mean Train F1-score: 0.9139, Avg Train Loss: 0.1529, Mean Val IoU: 0.7592, Mean Val F1-score: 0.8466, Avg Val Loss: 0.3029\n",
      "Time: 292.13 seconds\n"
     ]
    },
    {
     "data": {
      "application/vnd.jupyter.widget-view+json": {
       "model_id": "aefa25b17a0d463cb5f887462cb31b7e",
       "version_major": 2,
       "version_minor": 0
      },
      "text/plain": [
       "Epoch 24/30 - Training:   0%|          | 0/308 [00:00<?, ?batch/s]"
      ]
     },
     "metadata": {},
     "output_type": "display_data"
    },
    {
     "data": {
      "application/vnd.jupyter.widget-view+json": {
       "model_id": "3679ea6f7e2a4e279401b1a236dd5853",
       "version_major": 2,
       "version_minor": 0
      },
      "text/plain": [
       "Epoch 24/30 - Validation:   0%|          | 0/138 [00:00<?, ?batch/s]"
      ]
     },
     "metadata": {},
     "output_type": "display_data"
    },
    {
     "name": "stdout",
     "output_type": "stream",
     "text": [
      "Epoch 24/30 - Mean Train IoU: 0.8575, Mean Train F1-score: 0.9195, Avg Train Loss: 0.1415, Mean Val IoU: 0.7861, Mean Val F1-score: 0.8654, Avg Val Loss: 0.2559\n",
      "Time: 292.59 seconds\n"
     ]
    },
    {
     "data": {
      "application/vnd.jupyter.widget-view+json": {
       "model_id": "347288fadf8b4e9381c07f1610f95a34",
       "version_major": 2,
       "version_minor": 0
      },
      "text/plain": [
       "Epoch 25/30 - Training:   0%|          | 0/308 [00:00<?, ?batch/s]"
      ]
     },
     "metadata": {},
     "output_type": "display_data"
    },
    {
     "data": {
      "application/vnd.jupyter.widget-view+json": {
       "model_id": "38bf0921bbc64652b5c3483c86a040d7",
       "version_major": 2,
       "version_minor": 0
      },
      "text/plain": [
       "Epoch 25/30 - Validation:   0%|          | 0/138 [00:00<?, ?batch/s]"
      ]
     },
     "metadata": {},
     "output_type": "display_data"
    },
    {
     "name": "stdout",
     "output_type": "stream",
     "text": [
      "Epoch 25/30 - Mean Train IoU: 0.8632, Mean Train F1-score: 0.9235, Avg Train Loss: 0.1386, Mean Val IoU: 0.7838, Mean Val F1-score: 0.8644, Avg Val Loss: 0.2414\n",
      "Time: 293.36 seconds\n"
     ]
    },
    {
     "data": {
      "application/vnd.jupyter.widget-view+json": {
       "model_id": "34ebc0fbb5dd4a34a0bb6779a1a5c0c8",
       "version_major": 2,
       "version_minor": 0
      },
      "text/plain": [
       "Epoch 26/30 - Training:   0%|          | 0/308 [00:00<?, ?batch/s]"
      ]
     },
     "metadata": {},
     "output_type": "display_data"
    },
    {
     "data": {
      "application/vnd.jupyter.widget-view+json": {
       "model_id": "ea0d6ef502444bd980158789550eb331",
       "version_major": 2,
       "version_minor": 0
      },
      "text/plain": [
       "Epoch 26/30 - Validation:   0%|          | 0/138 [00:00<?, ?batch/s]"
      ]
     },
     "metadata": {},
     "output_type": "display_data"
    },
    {
     "name": "stdout",
     "output_type": "stream",
     "text": [
      "Epoch 26/30 - Mean Train IoU: 0.8549, Mean Train F1-score: 0.9178, Avg Train Loss: 0.1462, Mean Val IoU: 0.6581, Mean Val F1-score: 0.7617, Avg Val Loss: 0.4255\n",
      "Time: 295.53 seconds\n"
     ]
    },
    {
     "data": {
      "application/vnd.jupyter.widget-view+json": {
       "model_id": "eae0c579b5134628972061ca1d3228a1",
       "version_major": 2,
       "version_minor": 0
      },
      "text/plain": [
       "Epoch 27/30 - Training:   0%|          | 0/308 [00:00<?, ?batch/s]"
      ]
     },
     "metadata": {},
     "output_type": "display_data"
    },
    {
     "data": {
      "application/vnd.jupyter.widget-view+json": {
       "model_id": "14f0d85bdbed424cacab1137183df23e",
       "version_major": 2,
       "version_minor": 0
      },
      "text/plain": [
       "Epoch 27/30 - Validation:   0%|          | 0/138 [00:00<?, ?batch/s]"
      ]
     },
     "metadata": {},
     "output_type": "display_data"
    },
    {
     "name": "stdout",
     "output_type": "stream",
     "text": [
      "Epoch 27/30 - Mean Train IoU: 0.8554, Mean Train F1-score: 0.9179, Avg Train Loss: 0.1425, Mean Val IoU: 0.7741, Mean Val F1-score: 0.8550, Avg Val Loss: 0.2447\n",
      "Time: 292.56 seconds\n"
     ]
    },
    {
     "data": {
      "application/vnd.jupyter.widget-view+json": {
       "model_id": "0def1c0841564268bec897c09ec9a4e2",
       "version_major": 2,
       "version_minor": 0
      },
      "text/plain": [
       "Epoch 28/30 - Training:   0%|          | 0/308 [00:00<?, ?batch/s]"
      ]
     },
     "metadata": {},
     "output_type": "display_data"
    },
    {
     "data": {
      "application/vnd.jupyter.widget-view+json": {
       "model_id": "05f0cfc58bfb48248e31c105d952d765",
       "version_major": 2,
       "version_minor": 0
      },
      "text/plain": [
       "Epoch 28/30 - Validation:   0%|          | 0/138 [00:00<?, ?batch/s]"
      ]
     },
     "metadata": {},
     "output_type": "display_data"
    },
    {
     "name": "stdout",
     "output_type": "stream",
     "text": [
      "Epoch 28/30 - Mean Train IoU: 0.8735, Mean Train F1-score: 0.9296, Avg Train Loss: 0.1213, Mean Val IoU: 0.8105, Mean Val F1-score: 0.8828, Avg Val Loss: 0.2134\n",
      "Time: 281.45 seconds\n",
      "Model saved!\n"
     ]
    },
    {
     "data": {
      "application/vnd.jupyter.widget-view+json": {
       "model_id": "d7311e4daecd4cecafd182488866475a",
       "version_major": 2,
       "version_minor": 0
      },
      "text/plain": [
       "Epoch 29/30 - Training:   0%|          | 0/308 [00:00<?, ?batch/s]"
      ]
     },
     "metadata": {},
     "output_type": "display_data"
    },
    {
     "data": {
      "application/vnd.jupyter.widget-view+json": {
       "model_id": "7013749b804b48d79261a93c36b8ee85",
       "version_major": 2,
       "version_minor": 0
      },
      "text/plain": [
       "Epoch 29/30 - Validation:   0%|          | 0/138 [00:00<?, ?batch/s]"
      ]
     },
     "metadata": {},
     "output_type": "display_data"
    },
    {
     "name": "stdout",
     "output_type": "stream",
     "text": [
      "Epoch 29/30 - Mean Train IoU: 0.8876, Mean Train F1-score: 0.9385, Avg Train Loss: 0.1079, Mean Val IoU: 0.7999, Mean Val F1-score: 0.8753, Avg Val Loss: 0.2414\n",
      "Time: 288.41 seconds\n"
     ]
    },
    {
     "data": {
      "application/vnd.jupyter.widget-view+json": {
       "model_id": "3971eaec795f4913bf5c9ca199ad443c",
       "version_major": 2,
       "version_minor": 0
      },
      "text/plain": [
       "Epoch 30/30 - Training:   0%|          | 0/308 [00:00<?, ?batch/s]"
      ]
     },
     "metadata": {},
     "output_type": "display_data"
    },
    {
     "data": {
      "application/vnd.jupyter.widget-view+json": {
       "model_id": "30953077ae634437a24539dfbedede52",
       "version_major": 2,
       "version_minor": 0
      },
      "text/plain": [
       "Epoch 30/30 - Validation:   0%|          | 0/138 [00:00<?, ?batch/s]"
      ]
     },
     "metadata": {},
     "output_type": "display_data"
    },
    {
     "name": "stdout",
     "output_type": "stream",
     "text": [
      "Epoch 30/30 - Mean Train IoU: 0.8887, Mean Train F1-score: 0.9388, Avg Train Loss: 0.1042, Mean Val IoU: 0.8113, Mean Val F1-score: 0.8833, Avg Val Loss: 0.2328\n",
      "Time: 288.05 seconds\n",
      "Model saved!\n",
      "Estimated total training time: 144.02 minutes\n"
     ]
    }
   ],
   "source": [
    "# COMPLETE FINAL VERSION ************************************\n",
    "\n",
    "# Function to compute IoU per class\n",
    "def compute_iou(pred, target, num_classes):\n",
    "    iou_list = []\n",
    "    for cls in range(num_classes):\n",
    "        pred_cls = (pred == cls).float()\n",
    "        target_cls = (target == cls).float()\n",
    "        \n",
    "        intersection = torch.sum(pred_cls * target_cls)\n",
    "        union = torch.sum(pred_cls) + torch.sum(target_cls) - intersection\n",
    "        \n",
    "        iou = intersection / (union + 1e-7)  # Adding epsilon to avoid division by zero\n",
    "        iou_list.append(iou.item())\n",
    "    \n",
    "    return iou_list\n",
    "\n",
    "# Function to compute F1-score per class\n",
    "def compute_f1_score(pred, target, num_classes):\n",
    "    f1_scores = []\n",
    "    for cls in range(num_classes):\n",
    "        pred_cls = (pred == cls).float()\n",
    "        target_cls = (target == cls).float()\n",
    "        \n",
    "        intersection = torch.sum(pred_cls * target_cls)\n",
    "        precision = intersection / (torch.sum(pred_cls) + 1e-7)\n",
    "        recall = intersection / (torch.sum(target_cls) + 1e-7)\n",
    "        \n",
    "        f1 = 2 * (precision * recall) / (precision + recall + 1e-7)\n",
    "        f1_scores.append(f1.item())\n",
    "    \n",
    "    return f1_scores\n",
    "\n",
    "# Initialize DataFrame to store logs\n",
    "logs_df = pd.DataFrame(columns=[\n",
    "    'Epoch', 'Train_Loss', 'Train_IoU_per_Class', 'Train_Mean_IoU',\n",
    "    'Train_F1_per_Class', 'Train_Mean_F1',\n",
    "    'Val_Loss', 'Val_IoU_per_Class', 'Val_Mean_IoU',\n",
    "    'Val_F1_per_Class', 'Val_Mean_F1'\n",
    "])\n",
    "\n",
    "num_classes = 6\n",
    "num_epochs = 30  # Adjust as needed\n",
    "\n",
    "\n",
    "# Define your model, loss function, and optimizer\n",
    "segmodel = smp.FPN(encoder_name='resnet34', encoder_weights='imagenet', classes=num_classes, activation=None).to(device)\n",
    "# Define your model with dropout\n",
    "#segmodel = smp.Unet(BACKBONE, classes=num_classes, activation=None, encoder_weights=None, dropout=dropout_rate).to(device)\n",
    "\n",
    "criterion = torch.nn.CrossEntropyLoss()\n",
    "#optimizer = torch.optim.Adam(segmodel.parameters(), lr=0.001, weight_decay=1e-4)\n",
    "optimizer = torch.optim.Adam(segmodel.parameters(), lr=0.001)\n",
    "\n",
    "# Initialize DataFrame to store logs\n",
    "logs_df = pd.DataFrame(columns=['Epoch',\n",
    "                                'Train_Loss',\n",
    "                                'Train_IoU_per_Class',\n",
    "                                'Train_Mean_IoU',\n",
    "                                'Train_F1_per_Class',\n",
    "                                'Train_Mean_F1',\n",
    "                                'Val_Loss',\n",
    "                                'Val_IoU_per_Class',\n",
    "                                'Val_Mean_IoU',\n",
    "                                'Val_F1_per_Class',\n",
    "                                'Val_Mean_F1'])\n",
    "# Train model\n",
    "max_score = 0\n",
    "\n",
    "# Training and validation loop\n",
    "for epoch in range(num_epochs):\n",
    "    start_time = time.time()  # Track start time\n",
    "    # Training\n",
    "    segmodel.train()\n",
    "    train_loss = 0\n",
    "    train_iou_scores = []\n",
    "    train_f1_scores = []\n",
    "    \n",
    "    # Progress bar for training\n",
    "    with tqdm(total=len(train_data_loader), desc=f'Epoch {epoch + 1}/{num_epochs} - Training', unit='batch') as pbar:\n",
    "        for batch in train_data_loader:\n",
    "            x, y = batch\n",
    "            x, y = x.to(device), y.to(device)\n",
    "            \n",
    "            optimizer.zero_grad()\n",
    "            pred = segmodel(x)\n",
    "            loss = criterion(pred, y)\n",
    "            loss.backward()\n",
    "            optimizer.step()\n",
    "            \n",
    "            train_loss += loss.item()\n",
    "            \n",
    "            # Calculate IoU and F1-score\n",
    "            pred_classes = torch.argmax(pred, dim=1)\n",
    "            iou = compute_iou(pred_classes, y, num_classes)\n",
    "            f1_score = compute_f1_score(pred_classes, y, num_classes)\n",
    "            \n",
    "            train_iou_scores.append(iou)\n",
    "            train_f1_scores.append(f1_score)\n",
    "            \n",
    "            pbar.set_postfix({'Train_Loss': loss.item(), 'IoU': np.mean(iou), 'F1': np.mean(f1_score)})\n",
    "            pbar.update(1)\n",
    "    \n",
    "    # Calculate mean metrics for training\n",
    "    avg_train_iou = np.mean(train_iou_scores, axis=0)\n",
    "    mean_train_iou = np.mean(avg_train_iou)\n",
    "    avg_train_f1 = np.mean(train_f1_scores, axis=0)\n",
    "    mean_train_f1 = np.mean(avg_train_f1)\n",
    "    avg_train_loss = train_loss / len(train_data_loader)\n",
    "    \n",
    "    # Validation\n",
    "    segmodel.eval()\n",
    "    val_loss = 0\n",
    "    val_iou_scores = []\n",
    "    val_f1_scores = []\n",
    "    \n",
    "    with torch.no_grad():\n",
    "        # Progress bar for validation\n",
    "        with tqdm(total=len(val_data_loader), desc=f'Epoch {epoch + 1}/{num_epochs} - Validation', unit='batch') as pbar:\n",
    "            for batch in val_data_loader:\n",
    "                x, y = batch\n",
    "                x, y = x.to(device), y.to(device)\n",
    "                pred = segmodel(x)\n",
    "                \n",
    "                loss = criterion(pred, y)\n",
    "                val_loss += loss.item()\n",
    "                \n",
    "                # Calculate IoU and F1-score\n",
    "                pred_classes = torch.argmax(pred, dim=1)\n",
    "                iou = compute_iou(pred_classes, y, num_classes)\n",
    "                f1_score = compute_f1_score(pred_classes, y, num_classes)\n",
    "                \n",
    "                val_iou_scores.append(iou)\n",
    "                val_f1_scores.append(f1_score)\n",
    "                \n",
    "                pbar.set_postfix({'Val_Loss': loss.item(), 'IoU': np.mean(iou), 'F1': np.mean(f1_score)})\n",
    "                pbar.update(1)\n",
    "    \n",
    "    # Calculate mean metrics for validation\n",
    "    avg_val_iou = np.mean(val_iou_scores, axis=0)\n",
    "    mean_val_iou = np.mean(avg_val_iou)\n",
    "    avg_val_f1 = np.mean(val_f1_scores, axis=0)\n",
    "    mean_val_f1 = np.mean(avg_val_f1)\n",
    "    avg_val_loss = val_loss / len(val_data_loader)\n",
    "    \n",
    "    # Save logs to DataFrame\n",
    "    new_log = {\n",
    "        'Epoch': epoch + 1,\n",
    "        'Train_Loss': avg_train_loss,\n",
    "        'Train_IoU_per_Class': avg_train_iou,\n",
    "        'Train_Mean_IoU': mean_train_iou,\n",
    "        'Train_F1_per_Class': avg_train_f1,\n",
    "        'Train_Mean_F1': mean_train_f1,\n",
    "        'Val_Loss': avg_val_loss,\n",
    "        'Val_IoU_per_Class': avg_val_iou,\n",
    "        'Val_Mean_IoU': mean_val_iou,\n",
    "        'Val_F1_per_Class': avg_val_f1,\n",
    "        'Val_Mean_F1': mean_val_f1\n",
    "    }\n",
    "    # Convert the new_row dictionary to a DataFrame\n",
    "    new_log_df = pd.DataFrame([new_log])\n",
    "    # Concatenate the new_row_df to logs_df\n",
    "    logs_df = pd.concat([logs_df, new_log_df], ignore_index=True)\n",
    "    \n",
    "    # Print metrics\n",
    "    print(f\"Epoch {epoch + 1}/{num_epochs} - \"\n",
    "          f\"Mean Train IoU: {mean_train_iou:.4f}, \"\n",
    "          f\"Mean Train F1-score: {mean_train_f1:.4f}, \"\n",
    "          f\"Avg Train Loss: {avg_train_loss:.4f}, \"\n",
    "          f\"Mean Val IoU: {mean_val_iou:.4f}, \"\n",
    "          f\"Mean Val F1-score: {mean_val_f1:.4f}, \"\n",
    "          f\"Avg Val Loss: {avg_val_loss:.4f}\")\n",
    "\n",
    "    # Calculate and print time for each epoch\n",
    "    epoch_time = time.time() - start_time\n",
    "    print(f\"Time: {epoch_time:.2f} seconds\")\n",
    "\n",
    "    # Save the model if it's the best one\n",
    "    if mean_val_iou > max_score:\n",
    "        max_score = mean_val_iou\n",
    "        torch.save(segmodel.state_dict(), './best_model_FPN_multiclass_merged30e.pth')\n",
    "        print('Model saved!')\n",
    "\n",
    "total_time = epoch_time * num_epochs\n",
    "print(f\"Estimated total training time: {total_time/60:.2f} minutes\")\n",
    "# Save DataFrame to CSV\n",
    "logs_df.to_csv('best_model_FPN_multiclass_merged30e.csv', index=False)\n"
   ]
  },
  {
   "cell_type": "code",
   "execution_count": 20,
   "id": "b9fa1dd7-f6ed-4bf1-bba5-899fb04fc6a9",
   "metadata": {},
   "outputs": [
    {
     "name": "stdout",
     "output_type": "stream",
     "text": [
      "Loaded FPN model from this run.\n"
     ]
    }
   ],
   "source": [
    "# load best saved model checkpoint from the current run\n",
    "if os.path.exists('./best_model_FPN_multiclass_merged30e.pth'):\n",
    "    best_model = torch.load('./best_model_FPN_multiclass_merged30e.pth', map_location=device)\n",
    "    print('Loaded FPN model from this run.')\n",
    "else:\n",
    "    print(\"There is not a saved model\")"
   ]
  },
  {
   "cell_type": "code",
   "execution_count": 21,
   "id": "c2ed9970-8083-43bd-8ecb-4d558485adf3",
   "metadata": {},
   "outputs": [
    {
     "data": {
      "image/png": "[encoded data removed]",
      "text/plain": [
       "<Figure size 2000x800 with 1 Axes>"
      ]
     },
     "metadata": {},
     "output_type": "display_data"
    }
   ],
   "source": [
    "plt.figure(figsize=(20,8))\n",
    "plt.plot(logs_df.Epoch.tolist(), logs_df.Train_Loss.tolist(), lw=3, label = 'Training')\n",
    "plt.plot(logs_df.Epoch.tolist(), logs_df.Val_Loss.tolist(), lw=3, label = 'Validation')\n",
    "plt.xlabel('Epochs', fontsize=21)\n",
    "plt.ylabel('Loss', fontsize=21)\n",
    "plt.title('Loss Plot', fontsize=21)\n",
    "plt.legend(loc='best', fontsize=16)\n",
    "plt.grid()\n",
    "plt.savefig('Loss.png')\n",
    "plt.show()"
   ]
  },
  {
   "cell_type": "code",
   "execution_count": 22,
   "id": "e13e0b48",
   "metadata": {},
   "outputs": [
    {
     "data": {
      "text/plain": [
       "11"
      ]
     },
     "execution_count": 22,
     "metadata": {},
     "output_type": "execute_result"
    }
   ],
   "source": [
    "5+6"
   ]
  },
  {
   "cell_type": "code",
   "execution_count": null,
   "id": "7112d394-f318-44bc-bfa5-a7d44c82324d",
   "metadata": {},
   "outputs": [],
   "source": []
  }
 ],
 "metadata": {
  "kernelspec": {
   "display_name": "Python 3 (ipykernel)",
   "language": "python",
   "name": "python3"
  },
  "language_info": {
   "codemirror_mode": {
    "name": "ipython",
    "version": 3
   },
   "file_extension": ".py",
   "mimetype": "text/x-python",
   "name": "python",
   "nbconvert_exporter": "python",
   "pygments_lexer": "ipython3",
   "version": "3.9.19"
  }
 },
 "nbformat": 4,
 "nbformat_minor": 5
}
