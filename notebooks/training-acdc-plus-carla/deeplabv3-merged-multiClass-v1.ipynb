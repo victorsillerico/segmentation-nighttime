{
 "cells": [
  {
   "cell_type": "code",
   "execution_count": 1,
   "id": "26ba47b3-d604-405b-a367-999a6bd0d117",
   "metadata": {},
   "outputs": [],
   "source": [
    "import os, cv2, time\n",
    "import numpy as np\n",
    "import pandas as pd\n",
    "import random, tqdm\n",
    "import seaborn as sns\n",
    "import matplotlib.pyplot as plt\n",
    "%matplotlib inline\n",
    "import warnings\n",
    "warnings.filterwarnings(\"ignore\")\n",
    "\n",
    "import torch\n",
    "import torch.nn as nn\n",
    "from torch.utils.data import DataLoader\n",
    "from torch.utils.data import Dataset\n",
    "import albumentations as album\n",
    "\n",
    "import segmentation_models_pytorch as smp\n",
    "from segmentation_models_pytorch import utils\n",
    "\n",
    "from torchvision import transforms\n",
    "\n",
    "from PIL import Image\n",
    "\n",
    "from sklearn.model_selection import train_test_split\n",
    "\n",
    "from tqdm.notebook import tqdm"
   ]
  },
  {
   "cell_type": "code",
   "execution_count": 2,
   "id": "6bb0a8ac-0c7f-4b46-bc07-2e768e772664",
   "metadata": {},
   "outputs": [],
   "source": [
    "#with torch.no_grad():\n",
    "#    torch.cuda.empty_cache()"
   ]
  },
  {
   "cell_type": "code",
   "execution_count": 3,
   "id": "e23ebd26-dc5b-4c50-a692-6d418327dab2",
   "metadata": {},
   "outputs": [],
   "source": [
    "def create_paths(dataset_dir):\n",
    "    rgb_files = []\n",
    "    mask_files = []\n",
    "    for root, dirs, files in os.walk(dataset_dir):\n",
    "        for name in files:\n",
    "            f = os.path.join(root, name)\n",
    "            if 'labelIds' in f:\n",
    "                mask_files.append(f)\n",
    "            elif 'rgb_anon' in f:\n",
    "                rgb_files.append(f)\n",
    "            else:\n",
    "                pass\n",
    "    return sorted(rgb_files), sorted(mask_files)"
   ]
  },
  {
   "cell_type": "code",
   "execution_count": 4,
   "id": "287abf8a-5f53-4d27-abb3-45312abedf3c",
   "metadata": {},
   "outputs": [],
   "source": [
    "class customDataset(Dataset):\n",
    "    \"\"\" Custom Dataset for multiclass semantic segmentation.\n",
    "\n",
    "    Args:\n",
    "        df (pd.DataFrame): DataFrame containing paths to images and masks.\n",
    "        class_list (list): List of class IDs to extract from segmentation mask.\n",
    "        preprocessing (callable, optional): Data preprocessing function.\n",
    "    \"\"\"\n",
    "    \n",
    "    def __init__(self, df, class_list=None, augmentation=None, preprocessing=None):\n",
    "        self.image_paths = df['rgb_file'].tolist()\n",
    "        self.mask_paths = df['mask_file'].tolist()\n",
    "\n",
    "        self.class_list = class_list\n",
    "        self.augmentation = augmentation\n",
    "        self.preprocessing = preprocessing\n",
    "\n",
    "        # Original Cityscapes IDs to be mapped to your 6 classes\n",
    "        # [7, 11, 21, 26, 23, 24] # ['road', 'building', 'vegetation', 'car', 'sky', 'person']\n",
    "        self.cityscapes_ids = [7, 11, 21, 26, 23]  # Target classes\n",
    "        # Mapping to new class indices [0, 1, 2, 3, 4, 5]\n",
    "        self.new_class_mapping = {7: 1, 11: 2, 21: 3, 26: 4, 23: 5}   \n",
    "        # Define a background class ID\n",
    "        #self.background_class_id = -1  # Or any other value not used by your classes\n",
    "\n",
    "    def __getitem__(self, i):\n",
    "        image = cv2.cvtColor(cv2.imread(self.image_paths[i]), cv2.COLOR_BGR2RGB)\n",
    "        mask = cv2.cvtColor(cv2.imread(self.mask_paths[i]), cv2.COLOR_BGR2GRAY)  # Read mask as grayscale\n",
    "\n",
    "        # Resize images and masks (640, 480)/(1920, 1080)\n",
    "        image = cv2.resize(image, (1920, 1056), interpolation=cv2.INTER_LINEAR)\n",
    "        mask = cv2.resize(mask, (1920, 1056), interpolation=cv2.INTER_NEAREST)\n",
    "\n",
    "        image = np.asarray(image).astype('float')\n",
    "\n",
    "        # apply augmentations\n",
    "        if self.augmentation:\n",
    "            sample = self.augmentation(image=image, mask=mask)\n",
    "            image, mask = sample['image'], sample['mask']\n",
    "        \n",
    "        if self.preprocessing:\n",
    "            image = self.preprocessing(image)\n",
    "            image = torch.as_tensor(image)\n",
    "        else:\n",
    "            # Normalize image to [0, 1]\n",
    "            image = torch.as_tensor(image) / 255.0\n",
    "        image = image.permute(2,0,1)\n",
    "\n",
    "        # Convert mask to tensor\n",
    "        #mask = torch.as_tensor(mask, dtype=torch.uint8)\n",
    "        \n",
    "        # Map original Cityscapes IDs to the new class indices\n",
    "        mask_mapped = np.zeros_like(mask, dtype=np.uint8)  # Initialize new mask\n",
    "        for original_id, new_id in self.new_class_mapping.items():\n",
    "            mask_mapped[mask == original_id] = new_id\n",
    "\n",
    "        # Convert mask to tensor with the mapped classes\n",
    "        mask_tensor = torch.as_tensor(mask_mapped, dtype=torch.long)\n",
    "\n",
    "        # -------------------\n",
    "        # Convert mask to tensor and remap class IDs\n",
    "        #mask = torch.as_tensor(mask, dtype=torch.uint8)\n",
    "        #mask_mapped = torch.full_like(mask, self.background_class_id, dtype=torch.long)  # Initialize new mask with background class ID\n",
    "        \n",
    "        #for original_id, new_id in self.new_class_mapping.items():\n",
    "        #    mask_mapped[mask == original_id] = new_id\n",
    "\n",
    "        return image.float(), mask_tensor\n",
    "\n",
    "    def __len__(self):\n",
    "        return len(self.image_paths)\n"
   ]
  },
  {
   "cell_type": "code",
   "execution_count": 5,
   "id": "8928ea85-a83b-462a-9fae-b72aab110809",
   "metadata": {},
   "outputs": [
    {
     "name": "stdout",
     "output_type": "stream",
     "text": [
      "carla-shape = (1000, 2) --- train-shape=(800, 2) --- val-shape=(200, 2)\n"
     ]
    }
   ],
   "source": [
    "# for Carla-Night dataset\n",
    "dataset_carla_dir = '/home/vhsillerico/Documents/datasets/carla-night'\n",
    "imgs_rgb, imgs_mask = create_paths(dataset_carla_dir)\n",
    "df_carla = pd.DataFrame({'rgb_file': imgs_rgb, 'mask_file': imgs_mask})\n",
    "df_carla.sort_values(by='rgb_file',inplace=True)\n",
    "df_carla.reset_index(drop=True, inplace=True)\n",
    "df_carla = df_carla.sample(frac=1).reset_index(drop=True)\n",
    "df_carla.head(5)\n",
    "\n",
    "# Split data 85% for trainig and 15% for validation\n",
    "df_carla_train, df_carla_val = train_test_split(df_carla, test_size=0.20)\n",
    "\n",
    "df_carla_train.reset_index(drop=True, inplace=True)\n",
    "df_carla_val.reset_index(drop=True, inplace=True)\n",
    "\n",
    "print(f'carla-shape = {df_carla.shape} --- train-shape={df_carla_train.shape} --- val-shape={df_carla_val.shape}')"
   ]
  },
  {
   "cell_type": "code",
   "execution_count": 6,
   "id": "4126ff70-e850-4ec3-a13c-5c9812db1981",
   "metadata": {},
   "outputs": [
    {
     "name": "stdout",
     "output_type": "stream",
     "text": [
      "acdc-shape = (506, 2) --- train-shape=(430, 2) --- val-shape=(76, 2)\n"
     ]
    }
   ],
   "source": [
    "# for ACDC-Night dataset\n",
    "dataset_acdc_dir = '/home/vhsillerico/Documents/datasets/acdc-night'\n",
    "imgs_acdc_rgb, imgs_acdc_mask = create_paths(dataset_acdc_dir)\n",
    "#print(f'LEN imgs_acdc_rgb: {len(imgs_acdc_rgb)} --- LEN imgs_acdc_mask: {len(imgs_acdc_mask)}')\n",
    "df_acdc = pd.DataFrame({'rgb_file': imgs_acdc_rgb, 'mask_file': imgs_acdc_mask})\n",
    "df_acdc.sort_values(by='rgb_file',inplace=True)\n",
    "df_acdc.reset_index(drop=True, inplace=True)\n",
    "df_acdc = df_acdc.sample(frac=1).reset_index(drop=True)\n",
    "df_acdc.head(5)\n",
    "\n",
    "# Split data 85% for trainig and 15% for validation\n",
    "df_acdc_train, df_acdc_val = train_test_split(df_acdc, test_size=0.15)\n",
    "\n",
    "df_acdc_train.reset_index(drop=True, inplace=True)\n",
    "df_acdc_val.reset_index(drop=True, inplace=True)\n",
    "\n",
    "print(f'acdc-shape = {df_acdc.shape} --- train-shape={df_acdc_train.shape} --- val-shape={df_acdc_val.shape}')"
   ]
  },
  {
   "cell_type": "code",
   "execution_count": 7,
   "id": "e09c8888-0065-44e7-badf-7f85df5c1756",
   "metadata": {},
   "outputs": [
    {
     "name": "stdout",
     "output_type": "stream",
     "text": [
      "merged-train-shape = (1230, 2)\n"
     ]
    }
   ],
   "source": [
    "# Concatenate the datasets (ACDC + CARLA)\n",
    "# Training set\n",
    "df_merged_train = pd.concat([df_carla_train, df_acdc_train], ignore_index=True)\n",
    "df_merged_train = df_merged_train.sample(frac=1).reset_index(drop=True)\n",
    "#df_merged_train.head(20)\n",
    "print(f'merged-train-shape = {df_merged_train.shape}')"
   ]
  },
  {
   "cell_type": "code",
   "execution_count": 8,
   "id": "2dc11071-2b00-4c07-9aa4-4d8b83140591",
   "metadata": {},
   "outputs": [
    {
     "name": "stdout",
     "output_type": "stream",
     "text": [
      "merged-val-shape = (276, 2)\n"
     ]
    }
   ],
   "source": [
    "# Validation set\n",
    "df_merged_val = pd.concat([df_carla_val, df_acdc_val], ignore_index=True)\n",
    "df_merged_val = df_merged_val.sample(frac=1).reset_index(drop=True)\n",
    "#df_merged_val.head(20)\n",
    "print(f'merged-val-shape = {df_merged_val.shape}')"
   ]
  },
  {
   "cell_type": "code",
   "execution_count": 9,
   "id": "c480b83e-8bd6-460a-bf3f-095a807658b4",
   "metadata": {},
   "outputs": [],
   "source": [
    "selected_class_list = [7, 11, 21, 26, 23] # ['road', 'building', 'vegetation', 'car', 'sky', 'person']"
   ]
  },
  {
   "cell_type": "code",
   "execution_count": 10,
   "id": "4c01e1af-775e-4ed8-a335-eb6eadf2725d",
   "metadata": {},
   "outputs": [],
   "source": [
    "#activation = torch.nn.Softmax(dim=1)\n",
    "\n",
    "device = torch.device('cuda:1' if torch.cuda.is_available() else 'cpu')\n",
    "device\n",
    "\n",
    "BACKBONE = 'resnet34'\n",
    "#segmodel = smp.Unet(BACKBONE, classes=6, activation='softmax2d').to(device)\n",
    "\n",
    "#segmodel = smp.Unet(BACKBONE, classes=6, activation=None).to(device)\n",
    "\n",
    "preprocess_input = smp.encoders.get_preprocessing_fn(BACKBONE, pretrained='imagenet')"
   ]
  },
  {
   "cell_type": "code",
   "execution_count": 11,
   "id": "04309836",
   "metadata": {},
   "outputs": [],
   "source": [
    "# image dimensions: (480, 640) (H,W)\n",
    "global h_aux, w_aux\n",
    "h_aux = 1056\n",
    "w_aux = 1920\n",
    "h_crop_size = 1056\n",
    "w_crop_size = 1920\n",
    "def get_training_augmentation():\n",
    "    train_transform = [\n",
    "        album.RandomCrop(height=h_crop_size, width=w_crop_size, always_apply=True),\n",
    "        album.PadIfNeeded(min_height=h_aux, min_width=w_aux, always_apply=True, border_mode=0, value=(0, 0, 0)),\n",
    "        album.HorizontalFlip(p=0.75),\n",
    "    ]\n",
    "    return album.Compose(train_transform)\n",
    "\n",
    "\n",
    "def get_validation_augmentation():\n",
    "    # Add sufficient padding to ensure image is divisible by 32\n",
    "    test_transform = [\n",
    "        #album.PadIfNeeded(min_height=1536, min_width=1536, always_apply=True, border_mode=0, value=(0, 0, 0)),\n",
    "        album.PadIfNeeded(min_height=h_aux, min_width=w_aux, always_apply=True, border_mode=0, value=(0, 0, 0)),\n",
    "    ]\n",
    "    return album.Compose(test_transform)"
   ]
  },
  {
   "cell_type": "code",
   "execution_count": 12,
   "id": "692bcf86-8a00-4914-8b80-2fa24bf2e1fd",
   "metadata": {},
   "outputs": [
    {
     "name": "stdout",
     "output_type": "stream",
     "text": [
      "torch.Size([3, 1056, 1920]) torch.Size([1056, 1920])\n"
     ]
    }
   ],
   "source": [
    "# configure dataset for training\n",
    "train_data = customDataset(df_merged_train, class_list=selected_class_list, preprocessing=preprocess_input)\n",
    "img_train, masks_train = train_data[1]\n",
    "print(img_train.shape, masks_train.shape)"
   ]
  },
  {
   "cell_type": "code",
   "execution_count": 13,
   "id": "27676556-2816-4c5f-b0f9-68fb8a3da127",
   "metadata": {},
   "outputs": [
    {
     "data": {
      "text/plain": [
       "array([0, 1, 2, 3, 4, 5])"
      ]
     },
     "execution_count": 13,
     "metadata": {},
     "output_type": "execute_result"
    }
   ],
   "source": [
    "np.unique(masks_train.detach().cpu().numpy())"
   ]
  },
  {
   "cell_type": "code",
   "execution_count": 14,
   "id": "033ceda9",
   "metadata": {},
   "outputs": [],
   "source": [
    "#def visualize(**images):\n",
    "#    \"\"\"\n",
    "#    Plot images in one row\n",
    "#    \"\"\"\n",
    "#    n_images = len(images)\n",
    "#    plt.figure(figsize=(20,8))\n",
    "#    for idx, (name, image) in enumerate(images.items()):\n",
    "#        plt.subplot(1, n_images, idx + 1)\n",
    "#        plt.xticks([]);\n",
    "#        plt.yticks([])\n",
    "#        # get title from the parameter names\n",
    "#        plt.title(name.replace('_',' ').title(), fontsize=20)\n",
    "#        plt.imshow(image)\n",
    "#    plt.show()"
   ]
  },
  {
   "cell_type": "code",
   "execution_count": 15,
   "id": "168e738f-52be-487c-b4d7-fa2234246d75",
   "metadata": {},
   "outputs": [
    {
     "name": "stdout",
     "output_type": "stream",
     "text": [
      "torch.Size([3, 1056, 1920]) torch.Size([1056, 1920])\n"
     ]
    }
   ],
   "source": [
    "# configure dataset for training\n",
    "val_data = customDataset(df_merged_val, class_list=selected_class_list, preprocessing=preprocess_input)\n",
    "img_val, masks_val = val_data[0]\n",
    "print(img_val.shape, masks_val.shape)"
   ]
  },
  {
   "cell_type": "code",
   "execution_count": 16,
   "id": "422be873-1c35-4e87-9fda-2e664e40c582",
   "metadata": {},
   "outputs": [
    {
     "name": "stderr",
     "output_type": "stream",
     "text": [
      "Clipping input data to the valid range for imshow with RGB data ([0..1] for floats or [0..255] for integers). Got range [-2.117904..2.64].\n"
     ]
    },
    {
     "data": {
      "image/png": "[encoded data removed]",
      "text/plain": [
       "<Figure size 1200x500 with 2 Axes>"
      ]
     },
     "metadata": {},
     "output_type": "display_data"
    }
   ],
   "source": [
    "fig, ax = plt.subplots(1, 2, figsize=(12, 5))\n",
    "ax[0].imshow(img_train.permute(1, 2, 0))\n",
    "ax[1].imshow(masks_train) # ['road', 'building', 'vegetation', 'car', 'sky', 'person']\n",
    "plt.show()"
   ]
  },
  {
   "cell_type": "code",
   "execution_count": 17,
   "id": "d9f51439-3acc-4325-aab0-680d65fe7243",
   "metadata": {},
   "outputs": [],
   "source": [
    "train_data_loader = DataLoader(\n",
    "    train_data,\n",
    "    batch_size=4,\n",
    "    shuffle=True\n",
    ")\n",
    "val_data_loader = DataLoader(\n",
    "    val_data,\n",
    "    batch_size=2,\n",
    "    shuffle=False\n",
    ")"
   ]
  },
  {
   "cell_type": "code",
   "execution_count": 18,
   "id": "669293be-3600-45b6-8398-081ab46ae21b",
   "metadata": {},
   "outputs": [
    {
     "name": "stdout",
     "output_type": "stream",
     "text": [
      "torch.Size([4, 3, 1056, 1920]) torch.Size([4, 1056, 1920])\n",
      "tensor(-2.1179) tensor(2.6400)\n",
      "tensor(0) tensor(5)\n"
     ]
    }
   ],
   "source": [
    "for img, target in train_data_loader:\n",
    "    print(img.shape, target.shape)\n",
    "    print(img[0].min(), img[0].max())\n",
    "    print(target[0].min(), target[0].max())\n",
    "    break"
   ]
  },
  {
   "cell_type": "code",
   "execution_count": 19,
   "id": "a8deb93c-53e4-4700-bc1f-7eee3e3d401e",
   "metadata": {},
   "outputs": [
    {
     "data": {
      "application/vnd.jupyter.widget-view+json": {
       "model_id": "8d5e6aff4d044e09a62fc45744a17ee9",
       "version_major": 2,
       "version_minor": 0
      },
      "text/plain": [
       "Epoch 1/30 - Training:   0%|          | 0/308 [00:00<?, ?batch/s]"
      ]
     },
     "metadata": {},
     "output_type": "display_data"
    },
    {
     "data": {
      "application/vnd.jupyter.widget-view+json": {
       "model_id": "6de4d4c7ff1c41d0985051007162d296",
       "version_major": 2,
       "version_minor": 0
      },
      "text/plain": [
       "Epoch 1/30 - Validation:   0%|          | 0/138 [00:00<?, ?batch/s]"
      ]
     },
     "metadata": {},
     "output_type": "display_data"
    },
    {
     "name": "stdout",
     "output_type": "stream",
     "text": [
      "Epoch 1/30 - Mean Train IoU: 0.5591, Mean Train F1-score: 0.6777, Avg Train Loss: 0.5645, Mean Val IoU: 0.6317, Mean Val F1-score: 0.7399, Avg Val Loss: 0.4125\n",
      "Time: 331.50 seconds\n",
      "Model saved!\n"
     ]
    },
    {
     "data": {
      "application/vnd.jupyter.widget-view+json": {
       "model_id": "c895d821302046c3b75b76481317d6db",
       "version_major": 2,
       "version_minor": 0
      },
      "text/plain": [
       "Epoch 2/30 - Training:   0%|          | 0/308 [00:00<?, ?batch/s]"
      ]
     },
     "metadata": {},
     "output_type": "display_data"
    },
    {
     "data": {
      "application/vnd.jupyter.widget-view+json": {
       "model_id": "beecff426e7c4e9c83d522b26fecc628",
       "version_major": 2,
       "version_minor": 0
      },
      "text/plain": [
       "Epoch 2/30 - Validation:   0%|          | 0/138 [00:00<?, ?batch/s]"
      ]
     },
     "metadata": {},
     "output_type": "display_data"
    },
    {
     "name": "stdout",
     "output_type": "stream",
     "text": [
      "Epoch 2/30 - Mean Train IoU: 0.6509, Mean Train F1-score: 0.7679, Avg Train Loss: 0.4288, Mean Val IoU: 0.5959, Mean Val F1-score: 0.6994, Avg Val Loss: 0.4367\n",
      "Time: 327.70 seconds\n"
     ]
    },
    {
     "data": {
      "application/vnd.jupyter.widget-view+json": {
       "model_id": "6aca871f1df1467c9c386060185234bf",
       "version_major": 2,
       "version_minor": 0
      },
      "text/plain": [
       "Epoch 3/30 - Training:   0%|          | 0/308 [00:00<?, ?batch/s]"
      ]
     },
     "metadata": {},
     "output_type": "display_data"
    },
    {
     "data": {
      "application/vnd.jupyter.widget-view+json": {
       "model_id": "fc3b871f95204103a237b2b2e1d4f741",
       "version_major": 2,
       "version_minor": 0
      },
      "text/plain": [
       "Epoch 3/30 - Validation:   0%|          | 0/138 [00:00<?, ?batch/s]"
      ]
     },
     "metadata": {},
     "output_type": "display_data"
    },
    {
     "name": "stdout",
     "output_type": "stream",
     "text": [
      "Epoch 3/30 - Mean Train IoU: 0.6820, Mean Train F1-score: 0.7923, Avg Train Loss: 0.3761, Mean Val IoU: 0.7026, Mean Val F1-score: 0.8007, Avg Val Loss: 0.3244\n",
      "Time: 328.23 seconds\n",
      "Model saved!\n"
     ]
    },
    {
     "data": {
      "application/vnd.jupyter.widget-view+json": {
       "model_id": "2136a2a224174099b97ec8ef7cd10420",
       "version_major": 2,
       "version_minor": 0
      },
      "text/plain": [
       "Epoch 4/30 - Training:   0%|          | 0/308 [00:00<?, ?batch/s]"
      ]
     },
     "metadata": {},
     "output_type": "display_data"
    },
    {
     "data": {
      "application/vnd.jupyter.widget-view+json": {
       "model_id": "cf0e76b84ff043ba9ef3331771d1a56b",
       "version_major": 2,
       "version_minor": 0
      },
      "text/plain": [
       "Epoch 4/30 - Validation:   0%|          | 0/138 [00:00<?, ?batch/s]"
      ]
     },
     "metadata": {},
     "output_type": "display_data"
    },
    {
     "name": "stdout",
     "output_type": "stream",
     "text": [
      "Epoch 4/30 - Mean Train IoU: 0.7106, Mean Train F1-score: 0.8153, Avg Train Loss: 0.3310, Mean Val IoU: 0.6584, Mean Val F1-score: 0.7610, Avg Val Loss: 0.3721\n",
      "Time: 329.27 seconds\n"
     ]
    },
    {
     "data": {
      "application/vnd.jupyter.widget-view+json": {
       "model_id": "3c5bd5ca864c476eb23b010ecbc8d3d4",
       "version_major": 2,
       "version_minor": 0
      },
      "text/plain": [
       "Epoch 5/30 - Training:   0%|          | 0/308 [00:00<?, ?batch/s]"
      ]
     },
     "metadata": {},
     "output_type": "display_data"
    },
    {
     "data": {
      "application/vnd.jupyter.widget-view+json": {
       "model_id": "92dff00019bd40ea949a95894a46d311",
       "version_major": 2,
       "version_minor": 0
      },
      "text/plain": [
       "Epoch 5/30 - Validation:   0%|          | 0/138 [00:00<?, ?batch/s]"
      ]
     },
     "metadata": {},
     "output_type": "display_data"
    },
    {
     "name": "stdout",
     "output_type": "stream",
     "text": [
      "Epoch 5/30 - Mean Train IoU: 0.7267, Mean Train F1-score: 0.8274, Avg Train Loss: 0.3096, Mean Val IoU: 0.7189, Mean Val F1-score: 0.8128, Avg Val Loss: 0.2931\n",
      "Time: 323.40 seconds\n",
      "Model saved!\n"
     ]
    },
    {
     "data": {
      "application/vnd.jupyter.widget-view+json": {
       "model_id": "fd91f8c4b5bd49cc98c72b4e5b830ac8",
       "version_major": 2,
       "version_minor": 0
      },
      "text/plain": [
       "Epoch 6/30 - Training:   0%|          | 0/308 [00:00<?, ?batch/s]"
      ]
     },
     "metadata": {},
     "output_type": "display_data"
    },
    {
     "data": {
      "application/vnd.jupyter.widget-view+json": {
       "model_id": "d0c0b88f12d04157b25f5699d907eae8",
       "version_major": 2,
       "version_minor": 0
      },
      "text/plain": [
       "Epoch 6/30 - Validation:   0%|          | 0/138 [00:00<?, ?batch/s]"
      ]
     },
     "metadata": {},
     "output_type": "display_data"
    },
    {
     "name": "stdout",
     "output_type": "stream",
     "text": [
      "Epoch 6/30 - Mean Train IoU: 0.7355, Mean Train F1-score: 0.8342, Avg Train Loss: 0.2959, Mean Val IoU: 0.7256, Mean Val F1-score: 0.8201, Avg Val Loss: 0.2888\n",
      "Time: 323.75 seconds\n",
      "Model saved!\n"
     ]
    },
    {
     "data": {
      "application/vnd.jupyter.widget-view+json": {
       "model_id": "38d7479225704910ad06b1f98484e9f1",
       "version_major": 2,
       "version_minor": 0
      },
      "text/plain": [
       "Epoch 7/30 - Training:   0%|          | 0/308 [00:00<?, ?batch/s]"
      ]
     },
     "metadata": {},
     "output_type": "display_data"
    },
    {
     "data": {
      "application/vnd.jupyter.widget-view+json": {
       "model_id": "7a256a1ee6104797a29301cbbfd1786b",
       "version_major": 2,
       "version_minor": 0
      },
      "text/plain": [
       "Epoch 7/30 - Validation:   0%|          | 0/138 [00:00<?, ?batch/s]"
      ]
     },
     "metadata": {},
     "output_type": "display_data"
    },
    {
     "name": "stdout",
     "output_type": "stream",
     "text": [
      "Epoch 7/30 - Mean Train IoU: 0.7466, Mean Train F1-score: 0.8420, Avg Train Loss: 0.2812, Mean Val IoU: 0.6506, Mean Val F1-score: 0.7593, Avg Val Loss: 0.4350\n",
      "Time: 317.53 seconds\n"
     ]
    },
    {
     "data": {
      "application/vnd.jupyter.widget-view+json": {
       "model_id": "81a985cf163f4fa3903cfd763ee1d1e5",
       "version_major": 2,
       "version_minor": 0
      },
      "text/plain": [
       "Epoch 8/30 - Training:   0%|          | 0/308 [00:00<?, ?batch/s]"
      ]
     },
     "metadata": {},
     "output_type": "display_data"
    },
    {
     "data": {
      "application/vnd.jupyter.widget-view+json": {
       "model_id": "8b37abd8e6ca4013abf8b37be2196ec2",
       "version_major": 2,
       "version_minor": 0
      },
      "text/plain": [
       "Epoch 8/30 - Validation:   0%|          | 0/138 [00:00<?, ?batch/s]"
      ]
     },
     "metadata": {},
     "output_type": "display_data"
    },
    {
     "name": "stdout",
     "output_type": "stream",
     "text": [
      "Epoch 8/30 - Mean Train IoU: 0.7635, Mean Train F1-score: 0.8553, Avg Train Loss: 0.2624, Mean Val IoU: 0.6845, Mean Val F1-score: 0.7818, Avg Val Loss: 0.3360\n",
      "Time: 320.66 seconds\n"
     ]
    },
    {
     "data": {
      "application/vnd.jupyter.widget-view+json": {
       "model_id": "7586eff52fa84b028a7d968842d275cd",
       "version_major": 2,
       "version_minor": 0
      },
      "text/plain": [
       "Epoch 9/30 - Training:   0%|          | 0/308 [00:00<?, ?batch/s]"
      ]
     },
     "metadata": {},
     "output_type": "display_data"
    },
    {
     "data": {
      "application/vnd.jupyter.widget-view+json": {
       "model_id": "24597951fedf4da0aa4d8a6e4b39be25",
       "version_major": 2,
       "version_minor": 0
      },
      "text/plain": [
       "Epoch 9/30 - Validation:   0%|          | 0/138 [00:00<?, ?batch/s]"
      ]
     },
     "metadata": {},
     "output_type": "display_data"
    },
    {
     "name": "stdout",
     "output_type": "stream",
     "text": [
      "Epoch 9/30 - Mean Train IoU: 0.7690, Mean Train F1-score: 0.8591, Avg Train Loss: 0.2498, Mean Val IoU: 0.7467, Mean Val F1-score: 0.8349, Avg Val Loss: 0.2753\n",
      "Time: 321.69 seconds\n",
      "Model saved!\n"
     ]
    },
    {
     "data": {
      "application/vnd.jupyter.widget-view+json": {
       "model_id": "ce8de88572a24601a1d42f5bf1cbd798",
       "version_major": 2,
       "version_minor": 0
      },
      "text/plain": [
       "Epoch 10/30 - Training:   0%|          | 0/308 [00:00<?, ?batch/s]"
      ]
     },
     "metadata": {},
     "output_type": "display_data"
    },
    {
     "data": {
      "application/vnd.jupyter.widget-view+json": {
       "model_id": "c1906a119a8c4d6896b62d748c8adfcc",
       "version_major": 2,
       "version_minor": 0
      },
      "text/plain": [
       "Epoch 10/30 - Validation:   0%|          | 0/138 [00:00<?, ?batch/s]"
      ]
     },
     "metadata": {},
     "output_type": "display_data"
    },
    {
     "name": "stdout",
     "output_type": "stream",
     "text": [
      "Epoch 10/30 - Mean Train IoU: 0.7801, Mean Train F1-score: 0.8674, Avg Train Loss: 0.2377, Mean Val IoU: 0.7567, Mean Val F1-score: 0.8435, Avg Val Loss: 0.2569\n",
      "Time: 322.41 seconds\n",
      "Model saved!\n"
     ]
    },
    {
     "data": {
      "application/vnd.jupyter.widget-view+json": {
       "model_id": "b3c1afc858b34b36b358119d70d82277",
       "version_major": 2,
       "version_minor": 0
      },
      "text/plain": [
       "Epoch 11/30 - Training:   0%|          | 0/308 [00:00<?, ?batch/s]"
      ]
     },
     "metadata": {},
     "output_type": "display_data"
    },
    {
     "data": {
      "application/vnd.jupyter.widget-view+json": {
       "model_id": "e85f46f68d3e4f0da61d5e31e4c0072d",
       "version_major": 2,
       "version_minor": 0
      },
      "text/plain": [
       "Epoch 11/30 - Validation:   0%|          | 0/138 [00:00<?, ?batch/s]"
      ]
     },
     "metadata": {},
     "output_type": "display_data"
    },
    {
     "name": "stdout",
     "output_type": "stream",
     "text": [
      "Epoch 11/30 - Mean Train IoU: 0.7897, Mean Train F1-score: 0.8736, Avg Train Loss: 0.2230, Mean Val IoU: 0.7372, Mean Val F1-score: 0.8280, Avg Val Loss: 0.2728\n",
      "Time: 319.92 seconds\n"
     ]
    },
    {
     "data": {
      "application/vnd.jupyter.widget-view+json": {
       "model_id": "c9ca947cb8d0490db83ce3bd976983bd",
       "version_major": 2,
       "version_minor": 0
      },
      "text/plain": [
       "Epoch 12/30 - Training:   0%|          | 0/308 [00:00<?, ?batch/s]"
      ]
     },
     "metadata": {},
     "output_type": "display_data"
    },
    {
     "data": {
      "application/vnd.jupyter.widget-view+json": {
       "model_id": "2be1e60a128b4f7f9899cd9daaf29201",
       "version_major": 2,
       "version_minor": 0
      },
      "text/plain": [
       "Epoch 12/30 - Validation:   0%|          | 0/138 [00:00<?, ?batch/s]"
      ]
     },
     "metadata": {},
     "output_type": "display_data"
    },
    {
     "name": "stdout",
     "output_type": "stream",
     "text": [
      "Epoch 12/30 - Mean Train IoU: 0.7941, Mean Train F1-score: 0.8772, Avg Train Loss: 0.2176, Mean Val IoU: 0.7735, Mean Val F1-score: 0.8548, Avg Val Loss: 0.2287\n",
      "Time: 311.62 seconds\n",
      "Model saved!\n"
     ]
    },
    {
     "data": {
      "application/vnd.jupyter.widget-view+json": {
       "model_id": "d87fe9342ac64109af5a7e5eb05305ba",
       "version_major": 2,
       "version_minor": 0
      },
      "text/plain": [
       "Epoch 13/30 - Training:   0%|          | 0/308 [00:00<?, ?batch/s]"
      ]
     },
     "metadata": {},
     "output_type": "display_data"
    },
    {
     "data": {
      "application/vnd.jupyter.widget-view+json": {
       "model_id": "feb1e480fc114e1b8a7f2f2c3b8df598",
       "version_major": 2,
       "version_minor": 0
      },
      "text/plain": [
       "Epoch 13/30 - Validation:   0%|          | 0/138 [00:00<?, ?batch/s]"
      ]
     },
     "metadata": {},
     "output_type": "display_data"
    },
    {
     "name": "stdout",
     "output_type": "stream",
     "text": [
      "Epoch 13/30 - Mean Train IoU: 0.8024, Mean Train F1-score: 0.8825, Avg Train Loss: 0.2044, Mean Val IoU: 0.7628, Mean Val F1-score: 0.8464, Avg Val Loss: 0.2496\n",
      "Time: 311.39 seconds\n"
     ]
    },
    {
     "data": {
      "application/vnd.jupyter.widget-view+json": {
       "model_id": "3d92104d05eb478b8a590dd7ee9a79f5",
       "version_major": 2,
       "version_minor": 0
      },
      "text/plain": [
       "Epoch 14/30 - Training:   0%|          | 0/308 [00:00<?, ?batch/s]"
      ]
     },
     "metadata": {},
     "output_type": "display_data"
    },
    {
     "data": {
      "application/vnd.jupyter.widget-view+json": {
       "model_id": "6a5dbaeedc944b6d82842ec4f43a5b0f",
       "version_major": 2,
       "version_minor": 0
      },
      "text/plain": [
       "Epoch 14/30 - Validation:   0%|          | 0/138 [00:00<?, ?batch/s]"
      ]
     },
     "metadata": {},
     "output_type": "display_data"
    },
    {
     "name": "stdout",
     "output_type": "stream",
     "text": [
      "Epoch 14/30 - Mean Train IoU: 0.8110, Mean Train F1-score: 0.8891, Avg Train Loss: 0.1987, Mean Val IoU: 0.7448, Mean Val F1-score: 0.8347, Avg Val Loss: 0.2757\n",
      "Time: 311.95 seconds\n"
     ]
    },
    {
     "data": {
      "application/vnd.jupyter.widget-view+json": {
       "model_id": "e8d38209a6aa4c68a497c12701a09fd4",
       "version_major": 2,
       "version_minor": 0
      },
      "text/plain": [
       "Epoch 15/30 - Training:   0%|          | 0/308 [00:00<?, ?batch/s]"
      ]
     },
     "metadata": {},
     "output_type": "display_data"
    },
    {
     "data": {
      "application/vnd.jupyter.widget-view+json": {
       "model_id": "d8987c293f4445abae3d75abed943af2",
       "version_major": 2,
       "version_minor": 0
      },
      "text/plain": [
       "Epoch 15/30 - Validation:   0%|          | 0/138 [00:00<?, ?batch/s]"
      ]
     },
     "metadata": {},
     "output_type": "display_data"
    },
    {
     "name": "stdout",
     "output_type": "stream",
     "text": [
      "Epoch 15/30 - Mean Train IoU: 0.8151, Mean Train F1-score: 0.8915, Avg Train Loss: 0.1916, Mean Val IoU: 0.7784, Mean Val F1-score: 0.8574, Avg Val Loss: 0.2250\n",
      "Time: 315.09 seconds\n",
      "Model saved!\n"
     ]
    },
    {
     "data": {
      "application/vnd.jupyter.widget-view+json": {
       "model_id": "f834cf46a7d04fd2a10143930a93abc0",
       "version_major": 2,
       "version_minor": 0
      },
      "text/plain": [
       "Epoch 16/30 - Training:   0%|          | 0/308 [00:00<?, ?batch/s]"
      ]
     },
     "metadata": {},
     "output_type": "display_data"
    },
    {
     "data": {
      "application/vnd.jupyter.widget-view+json": {
       "model_id": "1b46da03a71e43b29fe9dc98b6d14d89",
       "version_major": 2,
       "version_minor": 0
      },
      "text/plain": [
       "Epoch 16/30 - Validation:   0%|          | 0/138 [00:00<?, ?batch/s]"
      ]
     },
     "metadata": {},
     "output_type": "display_data"
    },
    {
     "name": "stdout",
     "output_type": "stream",
     "text": [
      "Epoch 16/30 - Mean Train IoU: 0.8256, Mean Train F1-score: 0.8987, Avg Train Loss: 0.1788, Mean Val IoU: 0.7641, Mean Val F1-score: 0.8479, Avg Val Loss: 0.2579\n",
      "Time: 320.83 seconds\n"
     ]
    },
    {
     "data": {
      "application/vnd.jupyter.widget-view+json": {
       "model_id": "e38c7afd9012480aae077ecec45b6930",
       "version_major": 2,
       "version_minor": 0
      },
      "text/plain": [
       "Epoch 17/30 - Training:   0%|          | 0/308 [00:00<?, ?batch/s]"
      ]
     },
     "metadata": {},
     "output_type": "display_data"
    },
    {
     "data": {
      "application/vnd.jupyter.widget-view+json": {
       "model_id": "f41ddcb7a76548e29dc34e8cdbe95691",
       "version_major": 2,
       "version_minor": 0
      },
      "text/plain": [
       "Epoch 17/30 - Validation:   0%|          | 0/138 [00:00<?, ?batch/s]"
      ]
     },
     "metadata": {},
     "output_type": "display_data"
    },
    {
     "name": "stdout",
     "output_type": "stream",
     "text": [
      "Epoch 17/30 - Mean Train IoU: 0.8332, Mean Train F1-score: 0.9040, Avg Train Loss: 0.1697, Mean Val IoU: 0.7771, Mean Val F1-score: 0.8575, Avg Val Loss: 0.2376\n",
      "Time: 321.74 seconds\n"
     ]
    },
    {
     "data": {
      "application/vnd.jupyter.widget-view+json": {
       "model_id": "cfdc8478c4eb4d6ebdc17e18fed2871a",
       "version_major": 2,
       "version_minor": 0
      },
      "text/plain": [
       "Epoch 18/30 - Training:   0%|          | 0/308 [00:00<?, ?batch/s]"
      ]
     },
     "metadata": {},
     "output_type": "display_data"
    },
    {
     "data": {
      "application/vnd.jupyter.widget-view+json": {
       "model_id": "63e65d48e6fa42cd8c0bc6eab94d1ac7",
       "version_major": 2,
       "version_minor": 0
      },
      "text/plain": [
       "Epoch 18/30 - Validation:   0%|          | 0/138 [00:00<?, ?batch/s]"
      ]
     },
     "metadata": {},
     "output_type": "display_data"
    },
    {
     "name": "stdout",
     "output_type": "stream",
     "text": [
      "Epoch 18/30 - Mean Train IoU: 0.8374, Mean Train F1-score: 0.9069, Avg Train Loss: 0.1646, Mean Val IoU: 0.7785, Mean Val F1-score: 0.8590, Avg Val Loss: 0.2409\n",
      "Time: 321.65 seconds\n",
      "Model saved!\n"
     ]
    },
    {
     "data": {
      "application/vnd.jupyter.widget-view+json": {
       "model_id": "6351e6e753d448b7ac6d2ba5703b687c",
       "version_major": 2,
       "version_minor": 0
      },
      "text/plain": [
       "Epoch 19/30 - Training:   0%|          | 0/308 [00:00<?, ?batch/s]"
      ]
     },
     "metadata": {},
     "output_type": "display_data"
    },
    {
     "data": {
      "application/vnd.jupyter.widget-view+json": {
       "model_id": "b73bc5fbf1f24072bdd19b6b691ccbd2",
       "version_major": 2,
       "version_minor": 0
      },
      "text/plain": [
       "Epoch 19/30 - Validation:   0%|          | 0/138 [00:00<?, ?batch/s]"
      ]
     },
     "metadata": {},
     "output_type": "display_data"
    },
    {
     "name": "stdout",
     "output_type": "stream",
     "text": [
      "Epoch 19/30 - Mean Train IoU: 0.8421, Mean Train F1-score: 0.9099, Avg Train Loss: 0.1601, Mean Val IoU: 0.7771, Mean Val F1-score: 0.8572, Avg Val Loss: 0.2336\n",
      "Time: 321.13 seconds\n"
     ]
    },
    {
     "data": {
      "application/vnd.jupyter.widget-view+json": {
       "model_id": "e6671058e655476f8c1d7db8bcf26067",
       "version_major": 2,
       "version_minor": 0
      },
      "text/plain": [
       "Epoch 20/30 - Training:   0%|          | 0/308 [00:00<?, ?batch/s]"
      ]
     },
     "metadata": {},
     "output_type": "display_data"
    },
    {
     "data": {
      "application/vnd.jupyter.widget-view+json": {
       "model_id": "21c890ee9c454808b01ff8543ca38ab7",
       "version_major": 2,
       "version_minor": 0
      },
      "text/plain": [
       "Epoch 20/30 - Validation:   0%|          | 0/138 [00:00<?, ?batch/s]"
      ]
     },
     "metadata": {},
     "output_type": "display_data"
    },
    {
     "name": "stdout",
     "output_type": "stream",
     "text": [
      "Epoch 20/30 - Mean Train IoU: 0.8496, Mean Train F1-score: 0.9144, Avg Train Loss: 0.1483, Mean Val IoU: 0.7766, Mean Val F1-score: 0.8566, Avg Val Loss: 0.2650\n",
      "Time: 322.30 seconds\n"
     ]
    },
    {
     "data": {
      "application/vnd.jupyter.widget-view+json": {
       "model_id": "b89b767a395248759d34a42defce844b",
       "version_major": 2,
       "version_minor": 0
      },
      "text/plain": [
       "Epoch 21/30 - Training:   0%|          | 0/308 [00:00<?, ?batch/s]"
      ]
     },
     "metadata": {},
     "output_type": "display_data"
    },
    {
     "data": {
      "application/vnd.jupyter.widget-view+json": {
       "model_id": "a65a9a196649484eacfe1878f33c2a9c",
       "version_major": 2,
       "version_minor": 0
      },
      "text/plain": [
       "Epoch 21/30 - Validation:   0%|          | 0/138 [00:00<?, ?batch/s]"
      ]
     },
     "metadata": {},
     "output_type": "display_data"
    },
    {
     "name": "stdout",
     "output_type": "stream",
     "text": [
      "Epoch 21/30 - Mean Train IoU: 0.8524, Mean Train F1-score: 0.9158, Avg Train Loss: 0.1431, Mean Val IoU: 0.7565, Mean Val F1-score: 0.8417, Avg Val Loss: 0.2896\n",
      "Time: 317.72 seconds\n"
     ]
    },
    {
     "data": {
      "application/vnd.jupyter.widget-view+json": {
       "model_id": "dccac45b5e204b53995446414b61b46a",
       "version_major": 2,
       "version_minor": 0
      },
      "text/plain": [
       "Epoch 22/30 - Training:   0%|          | 0/308 [00:00<?, ?batch/s]"
      ]
     },
     "metadata": {},
     "output_type": "display_data"
    },
    {
     "data": {
      "application/vnd.jupyter.widget-view+json": {
       "model_id": "e65dd0b4ef864bafb6a4b32821379b20",
       "version_major": 2,
       "version_minor": 0
      },
      "text/plain": [
       "Epoch 22/30 - Validation:   0%|          | 0/138 [00:00<?, ?batch/s]"
      ]
     },
     "metadata": {},
     "output_type": "display_data"
    },
    {
     "name": "stdout",
     "output_type": "stream",
     "text": [
      "Epoch 22/30 - Mean Train IoU: 0.8557, Mean Train F1-score: 0.9187, Avg Train Loss: 0.1412, Mean Val IoU: 0.7881, Mean Val F1-score: 0.8653, Avg Val Loss: 0.2463\n",
      "Time: 317.69 seconds\n",
      "Model saved!\n"
     ]
    },
    {
     "data": {
      "application/vnd.jupyter.widget-view+json": {
       "model_id": "01e80a91682b43feb168e6cc4a4f38e9",
       "version_major": 2,
       "version_minor": 0
      },
      "text/plain": [
       "Epoch 23/30 - Training:   0%|          | 0/308 [00:00<?, ?batch/s]"
      ]
     },
     "metadata": {},
     "output_type": "display_data"
    },
    {
     "data": {
      "application/vnd.jupyter.widget-view+json": {
       "model_id": "8b7ee360d38940fca89a42c7f4b55e0e",
       "version_major": 2,
       "version_minor": 0
      },
      "text/plain": [
       "Epoch 23/30 - Validation:   0%|          | 0/138 [00:00<?, ?batch/s]"
      ]
     },
     "metadata": {},
     "output_type": "display_data"
    },
    {
     "name": "stdout",
     "output_type": "stream",
     "text": [
      "Epoch 23/30 - Mean Train IoU: 0.8547, Mean Train F1-score: 0.9178, Avg Train Loss: 0.1417, Mean Val IoU: 0.7897, Mean Val F1-score: 0.8656, Avg Val Loss: 0.2354\n",
      "Time: 322.11 seconds\n",
      "Model saved!\n"
     ]
    },
    {
     "data": {
      "application/vnd.jupyter.widget-view+json": {
       "model_id": "fef1ddfe20cf4f659cbeb7461a7c048e",
       "version_major": 2,
       "version_minor": 0
      },
      "text/plain": [
       "Epoch 24/30 - Training:   0%|          | 0/308 [00:00<?, ?batch/s]"
      ]
     },
     "metadata": {},
     "output_type": "display_data"
    },
    {
     "data": {
      "application/vnd.jupyter.widget-view+json": {
       "model_id": "7bde1d13167e48fd9d6ed1b139528e64",
       "version_major": 2,
       "version_minor": 0
      },
      "text/plain": [
       "Epoch 24/30 - Validation:   0%|          | 0/138 [00:00<?, ?batch/s]"
      ]
     },
     "metadata": {},
     "output_type": "display_data"
    },
    {
     "name": "stdout",
     "output_type": "stream",
     "text": [
      "Epoch 24/30 - Mean Train IoU: 0.8717, Mean Train F1-score: 0.9283, Avg Train Loss: 0.1231, Mean Val IoU: 0.7819, Mean Val F1-score: 0.8607, Avg Val Loss: 0.2531\n",
      "Time: 322.18 seconds\n"
     ]
    },
    {
     "data": {
      "application/vnd.jupyter.widget-view+json": {
       "model_id": "0731439f89584f908d2e9e62ad843fce",
       "version_major": 2,
       "version_minor": 0
      },
      "text/plain": [
       "Epoch 25/30 - Training:   0%|          | 0/308 [00:00<?, ?batch/s]"
      ]
     },
     "metadata": {},
     "output_type": "display_data"
    },
    {
     "data": {
      "application/vnd.jupyter.widget-view+json": {
       "model_id": "fa5f7c1e364f4b4191942bb9c8cc2ea9",
       "version_major": 2,
       "version_minor": 0
      },
      "text/plain": [
       "Epoch 25/30 - Validation:   0%|          | 0/138 [00:00<?, ?batch/s]"
      ]
     },
     "metadata": {},
     "output_type": "display_data"
    },
    {
     "name": "stdout",
     "output_type": "stream",
     "text": [
      "Epoch 25/30 - Mean Train IoU: 0.8581, Mean Train F1-score: 0.9202, Avg Train Loss: 0.1405, Mean Val IoU: 0.7895, Mean Val F1-score: 0.8665, Avg Val Loss: 0.2417\n",
      "Time: 313.37 seconds\n"
     ]
    },
    {
     "data": {
      "application/vnd.jupyter.widget-view+json": {
       "model_id": "5551ef5873534acb8462f23ab1cbb998",
       "version_major": 2,
       "version_minor": 0
      },
      "text/plain": [
       "Epoch 26/30 - Training:   0%|          | 0/308 [00:00<?, ?batch/s]"
      ]
     },
     "metadata": {},
     "output_type": "display_data"
    },
    {
     "data": {
      "application/vnd.jupyter.widget-view+json": {
       "model_id": "eda55507f59d466fa7163f2c87fc4b5b",
       "version_major": 2,
       "version_minor": 0
      },
      "text/plain": [
       "Epoch 26/30 - Validation:   0%|          | 0/138 [00:00<?, ?batch/s]"
      ]
     },
     "metadata": {},
     "output_type": "display_data"
    },
    {
     "name": "stdout",
     "output_type": "stream",
     "text": [
      "Epoch 26/30 - Mean Train IoU: 0.8773, Mean Train F1-score: 0.9319, Avg Train Loss: 0.1167, Mean Val IoU: 0.7978, Mean Val F1-score: 0.8727, Avg Val Loss: 0.2378\n",
      "Time: 320.60 seconds\n",
      "Model saved!\n"
     ]
    },
    {
     "data": {
      "application/vnd.jupyter.widget-view+json": {
       "model_id": "92de749d54cb4fd89a2c5da1a3482473",
       "version_major": 2,
       "version_minor": 0
      },
      "text/plain": [
       "Epoch 27/30 - Training:   0%|          | 0/308 [00:00<?, ?batch/s]"
      ]
     },
     "metadata": {},
     "output_type": "display_data"
    },
    {
     "data": {
      "application/vnd.jupyter.widget-view+json": {
       "model_id": "2a0b2e1a96ef4e1f9557010d9eb18af8",
       "version_major": 2,
       "version_minor": 0
      },
      "text/plain": [
       "Epoch 27/30 - Validation:   0%|          | 0/138 [00:00<?, ?batch/s]"
      ]
     },
     "metadata": {},
     "output_type": "display_data"
    },
    {
     "name": "stdout",
     "output_type": "stream",
     "text": [
      "Epoch 27/30 - Mean Train IoU: 0.8837, Mean Train F1-score: 0.9359, Avg Train Loss: 0.1098, Mean Val IoU: 0.8002, Mean Val F1-score: 0.8744, Avg Val Loss: 0.2438\n",
      "Time: 319.81 seconds\n",
      "Model saved!\n"
     ]
    },
    {
     "data": {
      "application/vnd.jupyter.widget-view+json": {
       "model_id": "7d4a05a27ab44f9abdf6f11498d75f84",
       "version_major": 2,
       "version_minor": 0
      },
      "text/plain": [
       "Epoch 28/30 - Training:   0%|          | 0/308 [00:00<?, ?batch/s]"
      ]
     },
     "metadata": {},
     "output_type": "display_data"
    },
    {
     "data": {
      "application/vnd.jupyter.widget-view+json": {
       "model_id": "de6cf597ee6740acacfe4736ec8c2972",
       "version_major": 2,
       "version_minor": 0
      },
      "text/plain": [
       "Epoch 28/30 - Validation:   0%|          | 0/138 [00:00<?, ?batch/s]"
      ]
     },
     "metadata": {},
     "output_type": "display_data"
    },
    {
     "name": "stdout",
     "output_type": "stream",
     "text": [
      "Epoch 28/30 - Mean Train IoU: 0.8862, Mean Train F1-score: 0.9375, Avg Train Loss: 0.1068, Mean Val IoU: 0.7909, Mean Val F1-score: 0.8667, Avg Val Loss: 0.2459\n",
      "Time: 317.56 seconds\n"
     ]
    },
    {
     "data": {
      "application/vnd.jupyter.widget-view+json": {
       "model_id": "c5cf7e2046b443a5b26fd1b3fa2e64ab",
       "version_major": 2,
       "version_minor": 0
      },
      "text/plain": [
       "Epoch 29/30 - Training:   0%|          | 0/308 [00:00<?, ?batch/s]"
      ]
     },
     "metadata": {},
     "output_type": "display_data"
    },
    {
     "data": {
      "application/vnd.jupyter.widget-view+json": {
       "model_id": "47472c51fba348b9a354e276ed055eb5",
       "version_major": 2,
       "version_minor": 0
      },
      "text/plain": [
       "Epoch 29/30 - Validation:   0%|          | 0/138 [00:00<?, ?batch/s]"
      ]
     },
     "metadata": {},
     "output_type": "display_data"
    },
    {
     "name": "stdout",
     "output_type": "stream",
     "text": [
      "Epoch 29/30 - Mean Train IoU: 0.8616, Mean Train F1-score: 0.9221, Avg Train Loss: 0.1377, Mean Val IoU: 0.7894, Mean Val F1-score: 0.8651, Avg Val Loss: 0.2469\n",
      "Time: 320.94 seconds\n"
     ]
    },
    {
     "data": {
      "application/vnd.jupyter.widget-view+json": {
       "model_id": "9cf0dd1d1eea4dd19c292efaaa05ad9c",
       "version_major": 2,
       "version_minor": 0
      },
      "text/plain": [
       "Epoch 30/30 - Training:   0%|          | 0/308 [00:00<?, ?batch/s]"
      ]
     },
     "metadata": {},
     "output_type": "display_data"
    },
    {
     "data": {
      "application/vnd.jupyter.widget-view+json": {
       "model_id": "0e7b4bcdc95e4efda47915a00be1cc8a",
       "version_major": 2,
       "version_minor": 0
      },
      "text/plain": [
       "Epoch 30/30 - Validation:   0%|          | 0/138 [00:00<?, ?batch/s]"
      ]
     },
     "metadata": {},
     "output_type": "display_data"
    },
    {
     "name": "stdout",
     "output_type": "stream",
     "text": [
      "Epoch 30/30 - Mean Train IoU: 0.8860, Mean Train F1-score: 0.9372, Avg Train Loss: 0.1062, Mean Val IoU: 0.8023, Mean Val F1-score: 0.8754, Avg Val Loss: 0.2409\n",
      "Time: 311.20 seconds\n",
      "Model saved!\n",
      "Estimated total training time: 155.60 minutes\n"
     ]
    }
   ],
   "source": [
    "# COMPLETE FINAL VERSION ************************************\n",
    "\n",
    "# Function to compute IoU per class\n",
    "def compute_iou(pred, target, num_classes):\n",
    "    iou_list = []\n",
    "    for cls in range(num_classes):\n",
    "        pred_cls = (pred == cls).float()\n",
    "        target_cls = (target == cls).float()\n",
    "        \n",
    "        intersection = torch.sum(pred_cls * target_cls)\n",
    "        union = torch.sum(pred_cls) + torch.sum(target_cls) - intersection\n",
    "        \n",
    "        iou = intersection / (union + 1e-7)  # Adding epsilon to avoid division by zero\n",
    "        iou_list.append(iou.item())\n",
    "    \n",
    "    return iou_list\n",
    "\n",
    "# Function to compute F1-score per class\n",
    "def compute_f1_score(pred, target, num_classes):\n",
    "    f1_scores = []\n",
    "    for cls in range(num_classes):\n",
    "        pred_cls = (pred == cls).float()\n",
    "        target_cls = (target == cls).float()\n",
    "        \n",
    "        intersection = torch.sum(pred_cls * target_cls)\n",
    "        precision = intersection / (torch.sum(pred_cls) + 1e-7)\n",
    "        recall = intersection / (torch.sum(target_cls) + 1e-7)\n",
    "        \n",
    "        f1 = 2 * (precision * recall) / (precision + recall + 1e-7)\n",
    "        f1_scores.append(f1.item())\n",
    "    \n",
    "    return f1_scores\n",
    "\n",
    "# Initialize DataFrame to store logs\n",
    "logs_df = pd.DataFrame(columns=[\n",
    "    'Epoch', 'Train_Loss', 'Train_IoU_per_Class', 'Train_Mean_IoU',\n",
    "    'Train_F1_per_Class', 'Train_Mean_F1',\n",
    "    'Val_Loss', 'Val_IoU_per_Class', 'Val_Mean_IoU',\n",
    "    'Val_F1_per_Class', 'Val_Mean_F1'\n",
    "])\n",
    "\n",
    "num_classes = 6\n",
    "num_epochs = 30  # Adjust as needed\n",
    "\n",
    "\n",
    "# Define your model, loss function, and optimizer\n",
    "segmodel = smp.DeepLabV3Plus(encoder_name='resnet34', encoder_weights='imagenet', classes=num_classes, activation=None).to(device)\n",
    "# Define your model with dropout\n",
    "#segmodel = smp.Unet(BACKBONE, classes=num_classes, activation=None, encoder_weights=None, dropout=dropout_rate).to(device)\n",
    "\n",
    "criterion = torch.nn.CrossEntropyLoss()\n",
    "#optimizer = torch.optim.Adam(segmodel.parameters(), lr=0.001, weight_decay=1e-4)\n",
    "optimizer = torch.optim.Adam(segmodel.parameters(), lr=0.001)\n",
    "\n",
    "# Initialize DataFrame to store logs\n",
    "logs_df = pd.DataFrame(columns=['Epoch',\n",
    "                                'Train_Loss',\n",
    "                                'Train_IoU_per_Class',\n",
    "                                'Train_Mean_IoU',\n",
    "                                'Train_F1_per_Class',\n",
    "                                'Train_Mean_F1',\n",
    "                                'Val_Loss',\n",
    "                                'Val_IoU_per_Class',\n",
    "                                'Val_Mean_IoU',\n",
    "                                'Val_F1_per_Class',\n",
    "                                'Val_Mean_F1'])\n",
    "# Train model\n",
    "max_score = 0\n",
    "\n",
    "# Training and validation loop\n",
    "for epoch in range(num_epochs):\n",
    "    start_time = time.time()  # Track start time\n",
    "    # Training\n",
    "    segmodel.train()\n",
    "    train_loss = 0\n",
    "    train_iou_scores = []\n",
    "    train_f1_scores = []\n",
    "    \n",
    "    # Progress bar for training\n",
    "    with tqdm(total=len(train_data_loader), desc=f'Epoch {epoch + 1}/{num_epochs} - Training', unit='batch') as pbar:\n",
    "        for batch in train_data_loader:\n",
    "            x, y = batch\n",
    "            x, y = x.to(device), y.to(device)\n",
    "            \n",
    "            optimizer.zero_grad()\n",
    "            pred = segmodel(x)\n",
    "            loss = criterion(pred, y)\n",
    "            loss.backward()\n",
    "            optimizer.step()\n",
    "            \n",
    "            train_loss += loss.item()\n",
    "            \n",
    "            # Calculate IoU and F1-score\n",
    "            pred_classes = torch.argmax(pred, dim=1)\n",
    "            iou = compute_iou(pred_classes, y, num_classes)\n",
    "            f1_score = compute_f1_score(pred_classes, y, num_classes)\n",
    "            \n",
    "            train_iou_scores.append(iou)\n",
    "            train_f1_scores.append(f1_score)\n",
    "            \n",
    "            pbar.set_postfix({'Train_Loss': loss.item(), 'IoU': np.mean(iou), 'F1': np.mean(f1_score)})\n",
    "            pbar.update(1)\n",
    "    \n",
    "    # Calculate mean metrics for training\n",
    "    avg_train_iou = np.mean(train_iou_scores, axis=0)\n",
    "    mean_train_iou = np.mean(avg_train_iou)\n",
    "    avg_train_f1 = np.mean(train_f1_scores, axis=0)\n",
    "    mean_train_f1 = np.mean(avg_train_f1)\n",
    "    avg_train_loss = train_loss / len(train_data_loader)\n",
    "    \n",
    "    # Validation\n",
    "    segmodel.eval()\n",
    "    val_loss = 0\n",
    "    val_iou_scores = []\n",
    "    val_f1_scores = []\n",
    "    \n",
    "    with torch.no_grad():\n",
    "        # Progress bar for validation\n",
    "        with tqdm(total=len(val_data_loader), desc=f'Epoch {epoch + 1}/{num_epochs} - Validation', unit='batch') as pbar:\n",
    "            for batch in val_data_loader:\n",
    "                x, y = batch\n",
    "                x, y = x.to(device), y.to(device)\n",
    "                pred = segmodel(x)\n",
    "                \n",
    "                loss = criterion(pred, y)\n",
    "                val_loss += loss.item()\n",
    "                \n",
    "                # Calculate IoU and F1-score\n",
    "                pred_classes = torch.argmax(pred, dim=1)\n",
    "                iou = compute_iou(pred_classes, y, num_classes)\n",
    "                f1_score = compute_f1_score(pred_classes, y, num_classes)\n",
    "                \n",
    "                val_iou_scores.append(iou)\n",
    "                val_f1_scores.append(f1_score)\n",
    "                \n",
    "                pbar.set_postfix({'Val_Loss': loss.item(), 'IoU': np.mean(iou), 'F1': np.mean(f1_score)})\n",
    "                pbar.update(1)\n",
    "    \n",
    "    # Calculate mean metrics for validation\n",
    "    avg_val_iou = np.mean(val_iou_scores, axis=0)\n",
    "    mean_val_iou = np.mean(avg_val_iou)\n",
    "    avg_val_f1 = np.mean(val_f1_scores, axis=0)\n",
    "    mean_val_f1 = np.mean(avg_val_f1)\n",
    "    avg_val_loss = val_loss / len(val_data_loader)\n",
    "    \n",
    "    # Save logs to DataFrame\n",
    "    new_log = {\n",
    "        'Epoch': epoch + 1,\n",
    "        'Train_Loss': avg_train_loss,\n",
    "        'Train_IoU_per_Class': avg_train_iou,\n",
    "        'Train_Mean_IoU': mean_train_iou,\n",
    "        'Train_F1_per_Class': avg_train_f1,\n",
    "        'Train_Mean_F1': mean_train_f1,\n",
    "        'Val_Loss': avg_val_loss,\n",
    "        'Val_IoU_per_Class': avg_val_iou,\n",
    "        'Val_Mean_IoU': mean_val_iou,\n",
    "        'Val_F1_per_Class': avg_val_f1,\n",
    "        'Val_Mean_F1': mean_val_f1\n",
    "    }\n",
    "    # Convert the new_row dictionary to a DataFrame\n",
    "    new_log_df = pd.DataFrame([new_log])\n",
    "    # Concatenate the new_row_df to logs_df\n",
    "    logs_df = pd.concat([logs_df, new_log_df], ignore_index=True)\n",
    "    \n",
    "    # Print metrics\n",
    "    print(f\"Epoch {epoch + 1}/{num_epochs} - \"\n",
    "          f\"Mean Train IoU: {mean_train_iou:.4f}, \"\n",
    "          f\"Mean Train F1-score: {mean_train_f1:.4f}, \"\n",
    "          f\"Avg Train Loss: {avg_train_loss:.4f}, \"\n",
    "          f\"Mean Val IoU: {mean_val_iou:.4f}, \"\n",
    "          f\"Mean Val F1-score: {mean_val_f1:.4f}, \"\n",
    "          f\"Avg Val Loss: {avg_val_loss:.4f}\")\n",
    "\n",
    "    # Calculate and print time for each epoch\n",
    "    epoch_time = time.time() - start_time\n",
    "    print(f\"Time: {epoch_time:.2f} seconds\")\n",
    "\n",
    "    # Save the model if it's the best one\n",
    "    if mean_val_iou > max_score:\n",
    "        max_score = mean_val_iou\n",
    "        torch.save(segmodel.state_dict(), './best_model_deeplabv3_multiclass_merged30e.pth')\n",
    "        print('Model saved!')\n",
    "\n",
    "total_time = epoch_time * num_epochs\n",
    "print(f\"Estimated total training time: {total_time/60:.2f} minutes\")\n",
    "# Save DataFrame to CSV\n",
    "logs_df.to_csv('best_model_deeplabv3_multiclass_merged30e.csv', index=False)\n"
   ]
  },
  {
   "cell_type": "code",
   "execution_count": 20,
   "id": "b9fa1dd7-f6ed-4bf1-bba5-899fb04fc6a9",
   "metadata": {},
   "outputs": [
    {
     "name": "stdout",
     "output_type": "stream",
     "text": [
      "Loaded UNet model from this run.\n"
     ]
    }
   ],
   "source": [
    "# load best saved model checkpoint from the current run\n",
    "if os.path.exists('./best_model_deeplabv3_multiclass_merged30e.pth'):\n",
    "    best_model = torch.load('./best_model_deeplabv3_multiclass_merged30e.pth', map_location=device)\n",
    "    print('Loaded DeepLabV3+ model from this run.')\n",
    "else:\n",
    "    print(\"There is not a saved model\")"
   ]
  },
  {
   "cell_type": "code",
   "execution_count": 21,
   "id": "c2ed9970-8083-43bd-8ecb-4d558485adf3",
   "metadata": {},
   "outputs": [
    {
     "data": {
      "image/png": "[encoded data removed]",
      "text/plain": [
       "<Figure size 2000x800 with 1 Axes>"
      ]
     },
     "metadata": {},
     "output_type": "display_data"
    }
   ],
   "source": [
    "plt.figure(figsize=(20,8))\n",
    "plt.plot(logs_df.Epoch.tolist(), logs_df.Train_Loss.tolist(), lw=3, label = 'Training')\n",
    "plt.plot(logs_df.Epoch.tolist(), logs_df.Val_Loss.tolist(), lw=3, label = 'Validation')\n",
    "plt.xlabel('Epochs', fontsize=21)\n",
    "plt.ylabel('Loss', fontsize=21)\n",
    "plt.title('Loss Plot', fontsize=21)\n",
    "plt.legend(loc='best', fontsize=16)\n",
    "plt.grid()\n",
    "plt.savefig('Loss.png')\n",
    "plt.show()"
   ]
  },
  {
   "cell_type": "code",
   "execution_count": 22,
   "id": "e13e0b48",
   "metadata": {},
   "outputs": [
    {
     "data": {
      "text/plain": [
       "11"
      ]
     },
     "execution_count": 22,
     "metadata": {},
     "output_type": "execute_result"
    }
   ],
   "source": [
    "5+6"
   ]
  },
  {
   "cell_type": "code",
   "execution_count": null,
   "id": "7112d394-f318-44bc-bfa5-a7d44c82324d",
   "metadata": {},
   "outputs": [],
   "source": []
  }
 ],
 "metadata": {
  "kernelspec": {
   "display_name": "Python 3 (ipykernel)",
   "language": "python",
   "name": "python3"
  },
  "language_info": {
   "codemirror_mode": {
    "name": "ipython",
    "version": 3
   },
   "file_extension": ".py",
   "mimetype": "text/x-python",
   "name": "python",
   "nbconvert_exporter": "python",
   "pygments_lexer": "ipython3",
   "version": "3.9.19"
  }
 },
 "nbformat": 4,
 "nbformat_minor": 5
}
